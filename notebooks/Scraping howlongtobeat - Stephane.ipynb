{
 "cells": [
  {
   "cell_type": "code",
   "execution_count": null,
   "id": "839ac0a4",
   "metadata": {},
   "outputs": [],
   "source": [
    "# https://howlongtobeat.com/\n",
    "# based on https://github.com/ScrappyCocco/HowLongToBeat-PythonAPI\n",
    "# Février 2022\n",
    "# sortie = Title name | Main Story duration"
   ]
  },
  {
   "cell_type": "code",
   "execution_count": null,
   "id": "8a271186",
   "metadata": {},
   "outputs": [],
   "source": [
    "from bs4 import BeautifulSoup\n",
    "from urllib.request import urlopen\n",
    "import pandas as pd\n",
    "import numpy as np\n",
    "from tqdm.auto import tqdm\n",
    "import requests\n",
    "from time import sleep\n",
    "import re"
   ]
  },
  {
   "cell_type": "code",
   "execution_count": null,
   "id": "f5ffa8f0",
   "metadata": {},
   "outputs": [],
   "source": [
    "user_agent = {'User-agent': 'Mozilla/5.0'}\n",
    "BASE_URL = 'https://howlongtobeat.com/'\n",
    "SEARCH_URL = BASE_URL + \"search_results.php\""
   ]
  },
  {
   "cell_type": "code",
   "execution_count": null,
   "id": "2e531083",
   "metadata": {},
   "outputs": [],
   "source": [
    "def recherche_LH2B(name):\n",
    "    payload = {\n",
    "        'queryString': name,\n",
    "        't': 'games',\n",
    "        'sorthead': 'popular',\n",
    "        'sortd': 'Normal Order',\n",
    "        'plat': '',\n",
    "        'length_type': 'main',\n",
    "        'length_min': '',\n",
    "        'length_max': '',\n",
    "        'detail': '' }\n",
    "    \n",
    "    return requests.post(SEARCH_URL, data=payload, headers=user_agent)"
   ]
  },
  {
   "cell_type": "code",
   "execution_count": null,
   "id": "de30b9c6",
   "metadata": {},
   "outputs": [],
   "source": [
    "vgchartz = pd.read_csv(\"vgsales_at.csv\", sep=\",\")\n",
    "print (vgchartz.shape)\n",
    "vgchartz.head()"
   ]
  },
  {
   "cell_type": "code",
   "execution_count": null,
   "id": "bad3f9ca",
   "metadata": {},
   "outputs": [],
   "source": [
    "vgchartz[\"title_norm\"] = vgchartz[\"Name\"].str.normalize('NFKD').str.encode('ascii', errors='ignore').str.decode('utf-8')\n",
    "vgchartz[\"title_norm\"] = vgchartz[\"title_norm\"].str.upper()\n",
    "vgchartz.head()"
   ]
  },
  {
   "cell_type": "code",
   "execution_count": null,
   "id": "b385450b",
   "metadata": {},
   "outputs": [],
   "source": [
    "list_jeux_df = vgchartz.Name.unique()\n",
    "print (len(list_jeux_df))\n",
    "list_jeux_df[:10]"
   ]
  },
  {
   "cell_type": "code",
   "execution_count": null,
   "id": "0238e011",
   "metadata": {
    "scrolled": true
   },
   "outputs": [],
   "source": [
    "games_dict = {}\n",
    "\n",
    "for name in tqdm(list_jeux_df[:]):\n",
    "\n",
    "    if name in games_dict.keys() :   # on la dejà récupéré\n",
    "        continue                     # on zappe\n",
    "    \n",
    "    response = recherche_LH2B(name)\n",
    "    soup = BeautifulSoup(response.text, 'html.parser')\n",
    "\n",
    "    #find all the games of the request\n",
    "    games = soup.select(\".search_list_details\")\n",
    "\n",
    "    # recherche  de la 'main story' de notre jeux\n",
    "    for g in range(len(games)):\n",
    "        # on va recup tous les jeux d'une requette\n",
    "\n",
    "        game_name = games[g].findAll(name = 'a')[0].text.strip()\n",
    "\n",
    "        # Pour chaque jeux on cherche la 'Main Story'\n",
    "        trouve = False\n",
    "        for detail in games[g].findAll(name = 'div'):\n",
    "            t = detail.text.strip()\n",
    "            if trouve:\n",
    "                games_dict[game_name] = t\n",
    "                break\n",
    "            if t == 'Main Story':   # ah ah, on a un chiffre à la ligne suivante !\n",
    "                trouve = True\n",
    "\n",
    "    sleep(0.5) # pas trop vite ;)\n",
    "   "
   ]
  },
  {
   "cell_type": "code",
   "execution_count": null,
   "id": "3bd335a5",
   "metadata": {
    "scrolled": true
   },
   "outputs": [],
   "source": [
    "df = pd.DataFrame.from_dict(games_dict,orient='index',columns=['Main story duration']).reset_index().rename(columns={'index':\"Name\"})\n",
    "df.head()"
   ]
  },
  {
   "cell_type": "code",
   "execution_count": null,
   "id": "5d179b49",
   "metadata": {},
   "outputs": [],
   "source": [
    "df.shape"
   ]
  },
  {
   "cell_type": "code",
   "execution_count": null,
   "id": "5541298b",
   "metadata": {
    "scrolled": true
   },
   "outputs": [],
   "source": [
    "df['Main story duration'] = df['Main story duration'].str.replace(\"½\",\".5\")\n",
    "df[['duration', 'unit']] = df['Main story duration'].str.extract(r'(\\d+\\.?\\d?) +(\\w+)')\n",
    "df['duration'] = df['duration'].astype('float64')\n",
    "df['Duration hrs'] = df.apply(lambda r: r['duration'] if r['unit']=='Hours' else r['duration']/60, axis=1)\n",
    "df.drop(columns=['duration','unit'], inplace=True)\n",
    "df.head(5)"
   ]
  },
  {
   "cell_type": "code",
   "execution_count": null,
   "id": "0b04844d",
   "metadata": {},
   "outputs": [],
   "source": [
    "df.to_csv(\"hl2b_sl.csv\", sep=\",\", encoding='utf-8', index=False)"
   ]
  },
  {
   "cell_type": "code",
   "execution_count": null,
   "id": "6de7d14b",
   "metadata": {},
   "outputs": [],
   "source": [
    "df.tail(5)"
   ]
  },
  {
   "cell_type": "code",
   "execution_count": null,
   "id": "b2d99b1c",
   "metadata": {},
   "outputs": [],
   "source": [
    "(df['Main story duration']=='--').value_counts()"
   ]
  },
  {
   "cell_type": "code",
   "execution_count": null,
   "id": "2fb067f2",
   "metadata": {},
   "outputs": [],
   "source": [
    "df['Duration hrs'].isna().value_counts()"
   ]
  }
 ],
 "metadata": {
  "kernelspec": {
   "display_name": "Python 3",
   "language": "python",
   "name": "python3"
  },
  "language_info": {
   "codemirror_mode": {
    "name": "ipython",
    "version": 3
   },
   "file_extension": ".py",
   "mimetype": "text/x-python",
   "name": "python",
   "nbconvert_exporter": "python",
   "pygments_lexer": "ipython3",
   "version": "3.9.5"
  }
 },
 "nbformat": 4,
 "nbformat_minor": 5
}
