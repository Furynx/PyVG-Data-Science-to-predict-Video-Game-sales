{
 "cells": [
  {
   "cell_type": "code",
   "execution_count": null,
   "id": "621c5493",
   "metadata": {},
   "outputs": [],
   "source": [
    "# http://www.vgchartz.com/gamedb/\n",
    "# https://github.com/GregorUT/vgchartzScrape"
   ]
  },
  {
   "cell_type": "code",
   "execution_count": null,
   "id": "08a1d310",
   "metadata": {},
   "outputs": [],
   "source": [
    "from bs4 import BeautifulSoup, element\n",
    "from urllib.request import urlopen\n",
    "import pandas as pd\n",
    "import numpy as np\n",
    "from tqdm.auto import tqdm\n",
    "# https://medium.com/@harshit4084/track-your-loop-using-tqdm-7-ways-progress-bars-in-python-make-things-easier-fcbbb9233f24"
   ]
  },
  {
   "cell_type": "code",
   "execution_count": null,
   "id": "56a13304",
   "metadata": {},
   "outputs": [],
   "source": [
    "import requests\n",
    "from time import sleep\n",
    "import re"
   ]
  },
  {
   "cell_type": "code",
   "execution_count": null,
   "id": "bad88c49",
   "metadata": {},
   "outputs": [],
   "source": [
    "url_base = 'https://www.metacritic.com/browse/games/score/metascore/all/all/filtered?sort=desc&view=condensed&page='"
   ]
  },
  {
   "cell_type": "code",
   "execution_count": null,
   "id": "1b8ed896",
   "metadata": {
    "scrolled": false
   },
   "outputs": [],
   "source": [
    "g_name = []\n",
    "g_platform = []\n",
    "critic_score = []\n",
    "user_score = []\n",
    "g_publisher = []\n",
    "g_genre = []\n",
    "g_release_date = []\n",
    "\n",
    "for p in tqdm(range(0,192), desc= 'Main loop metacritic'):  #0 192\n",
    "    url = url_base + str(p)\n",
    "      \n",
    "    user_agent = {'User-agent': 'Mozilla/5.0'}\n",
    "    response = requests.get(url, headers = user_agent)\n",
    "    soup = BeautifulSoup(response.text, 'html.parser')    \n",
    "   \n",
    "    href_ = soup.findAll(name = 'a', attrs = {'class': 'title'})\n",
    "  \n",
    "    for elt in tqdm(href_, total=len(href_), desc= f'page {p}'):\n",
    "        url_to_game = 'https://www.metacritic.com'+elt.attrs['href']\n",
    "        #print (url_to_game)\n",
    "        response2 = requests.get(url_to_game, headers = user_agent)\n",
    "        sub_soup = BeautifulSoup(response2.text, 'html.parser')\n",
    "        \n",
    "        info = sub_soup.findAll(name = 'a', attrs = {'class': 'hover_none'})\n",
    "        try:\n",
    "            g_name.append(info[0].text.strip())\n",
    "        except:\n",
    "            continue\n",
    "        \n",
    "        info = sub_soup.findAll(name = 'span', attrs = {'class': 'platform'})\n",
    "        g_platform.append(info[0].text.strip())\n",
    "\n",
    "        info = sub_soup.findAll(name = 'span', attrs = {'itemprop': 'ratingValue'})\n",
    "        try:\n",
    "            critic_score.append(float(info[0].text.strip()))\n",
    "        except:\n",
    "            critic_score.append(np.nan)\n",
    "\n",
    "        info = sub_soup.find_all(\"div\", class_=re.compile(\"^metascore_w user large game\"))\n",
    "        try:\n",
    "            user_score.append(float(info[0].text.strip()))\n",
    "        except:\n",
    "            user_score.append(np.nan)\n",
    "            \n",
    "        info = sub_soup.select(\".summary_details a\")\n",
    "        try:\n",
    "            g_publisher.append(info[0].text.strip())\n",
    "        except:\n",
    "            g_publisher.append(np.nan)\n",
    "        \n",
    "        info = sub_soup.findAll(name = 'li', attrs = {'class': 'summary_detail release_data'})           \n",
    "        rel_date = info[0].findAll('span', attrs = {'class': 'data'})\n",
    "        g_release_date.append(rel_date[0].text.strip())\n",
    "        \n",
    "        info = sub_soup.findAll(name = 'li', attrs = {'class': 'summary_detail product_genre'})           \n",
    "        #t = info[0].text.strip()\n",
    "        genre = info[0].findAll('span', attrs = {'class': 'data'})\n",
    "        genre = [g.text.strip() for g in genre]\n",
    "        g_genre.append(','.join(genre))\n",
    "        sleep(0.5)\n",
    "\n",
    "metacritic = pd.DataFrame({'title': g_name,\n",
    "              'platform': g_platform,\n",
    "              'publisher': g_publisher,\n",
    "          #    'developer': g_developer,\n",
    "              'critic_score': critic_score,\n",
    "              'user_score': user_score,\n",
    "              'release date' : g_release_date,\n",
    "              'genre': g_genre,\n",
    "             })\n",
    "\n",
    "metacritic.head()\n",
    "\n"
   ]
  },
  {
   "cell_type": "code",
   "execution_count": null,
   "id": "1d1f8c0d",
   "metadata": {},
   "outputs": [],
   "source": [
    "metacritic.info()"
   ]
  },
  {
   "cell_type": "code",
   "execution_count": null,
   "id": "fc25c040",
   "metadata": {},
   "outputs": [],
   "source": [
    "import matplotlib.pyplot as plt\n",
    "metacritic.critic_score.min(), metacritic.user_score.min(), metacritic.user_score.max()"
   ]
  },
  {
   "cell_type": "code",
   "execution_count": null,
   "id": "904bb082",
   "metadata": {},
   "outputs": [],
   "source": [
    "plt.scatter(metacritic.critic_score, metacritic.user_score)"
   ]
  },
  {
   "cell_type": "code",
   "execution_count": null,
   "id": "c3954f00",
   "metadata": {},
   "outputs": [],
   "source": [
    "metacritic.to_csv(\"_vgsales_metacritic_v2.csv\", sep=\",\", encoding='utf-8', index=False)"
   ]
  }
 ],
 "metadata": {
  "kernelspec": {
   "display_name": "Python 3",
   "language": "python",
   "name": "python3"
  },
  "language_info": {
   "codemirror_mode": {
    "name": "ipython",
    "version": 3
   },
   "file_extension": ".py",
   "mimetype": "text/x-python",
   "name": "python",
   "nbconvert_exporter": "python",
   "pygments_lexer": "ipython3",
   "version": "3.9.5"
  }
 },
 "nbformat": 4,
 "nbformat_minor": 5
}
