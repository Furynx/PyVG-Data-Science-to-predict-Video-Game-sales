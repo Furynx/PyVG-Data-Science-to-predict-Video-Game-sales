{
 "cells": [
  {
   "cell_type": "code",
   "execution_count": null,
   "id": "e8d06f70",
   "metadata": {},
   "outputs": [],
   "source": [
    "# https://github.com/Jesse989/game-oracle\n",
    "# https://towardsdatascience.com/creating-a-dataset-from-scratch-b8e2f8752436\n",
    "# https://rawg.io\n",
    "# https://api.rawg.io/docs/?format=openapi\n",
    "# https://rawg.io/apidocs\n",
    "MY_API_KEY = '39cf6ce7746d42cfb023c27a0ba708f9'   # il faut la créer --> 20000 requetes / mois\n",
    "\n",
    "# en deux parties\n",
    "# enregistrement de tous les jsons par search par nom en filtrant par plateforme avec 40 pages sizs\n",
    "# traitement des json\n",
    "\n",
    "# https://api.rawg.io/api/games?key=39cf6ce7746d42cfb023c27a0ba708f9&dates=2019-09-01,2019-09-30&page_size=1000&search="
   ]
  },
  {
   "cell_type": "code",
   "execution_count": null,
   "id": "c47f385a",
   "metadata": {},
   "outputs": [],
   "source": [
    "import requests \n",
    "import json\n",
    "from time import sleep\n",
    "from tqdm.auto import tqdm\n",
    "from bs4 import BeautifulSoup\n",
    "import numpy as np\n",
    "import pandas as pd\n",
    "from os import listdir\n",
    "\n",
    "url = 'https://api.rawg.io/api/games?key=39cf6ce7746d42cfb023c27a0ba708f9&page_size=40&search='"
   ]
  },
  {
   "cell_type": "code",
   "execution_count": null,
   "id": "08739b57",
   "metadata": {},
   "outputs": [],
   "source": [
    "# STEP 1: JSON generation form vgsales_at.csv\n",
    "vgchartz = pd.read_csv(\"vgsales_at.csv\", sep=\",\")\n",
    "print (vgchartz.shape)\n",
    "vgchartz.head()"
   ]
  },
  {
   "cell_type": "code",
   "execution_count": null,
   "id": "8b05ccf7",
   "metadata": {},
   "outputs": [],
   "source": [
    "list_jeux_df = vgchartz.Name.unique()\n",
    "print (len(list_jeux_df))\n",
    "list_jeux_df[:10]"
   ]
  },
  {
   "cell_type": "code",
   "execution_count": null,
   "id": "da026b97",
   "metadata": {},
   "outputs": [],
   "source": [
    "# methode de recup et enregistrement des données\n",
    "def rawg_request(name):\n",
    "    r = requests.get(url+name)\n",
    "    return r\n",
    "\n",
    "def save_game(res_get):\n",
    "    if res_get.content:\n",
    "        result = json.loads(res_get.content)\n",
    "        if len(result['results']):\n",
    "            file_name = result['results'][0]['slug']\n",
    "            with open('rawg/' + file_name + '.json', 'w') as outfile:\n",
    "                json.dump(result, outfile)"
   ]
  },
  {
   "cell_type": "code",
   "execution_count": null,
   "id": "9cec3493",
   "metadata": {},
   "outputs": [],
   "source": [
    "# STEP 1: JSON generation fom \n",
    "for j in tqdm(list_jeux_df[10:]):\n",
    "    res = rawg_request(j)\n",
    "    save_game(res)\n",
    "    sleep(0.5)"
   ]
  },
  {
   "cell_type": "code",
   "execution_count": null,
   "id": "23536541",
   "metadata": {},
   "outputs": [],
   "source": [
    "# STEP 2: JSON --> Dataset\n",
    "game_slug = []\n",
    "game_name = []\n",
    "game_playtime = []\n",
    "game_id = []\n",
    "game_metacritic = []\n",
    "game_platforms = []\n",
    "game_platforms_count = []\n",
    "game_rating = []\n",
    "game_ratings_count = []\n",
    "game_reviews_text_count = []\n",
    "game_score = []\n",
    "game_esrb_rating = []\n",
    "game_reviews_count = []\n",
    "game_genres = []\n",
    "game_released = []\n",
    "game_suggestions_count = []\n",
    "\n",
    "for f in tqdm(listdir('rawg')):\n",
    "    \n",
    "    with open('rawg/' + f) as json_file:\n",
    "        data_json = json.load(json_file)\n",
    "        \n",
    "        game = data_json['results'][0]\n",
    "        \n",
    "        game_slug.append(game['slug'])\n",
    "        game_name.append(game['name'])\n",
    "        game_playtime.append(game['playtime'])\n",
    "        game_id.append(game['id'])\n",
    "        game_metacritic.append(game['metacritic'])\n",
    "        if game['platforms']:\n",
    "            game_platforms.append(','.join([p['platform']['name'].lower() for p in game['platforms']]))\n",
    "            game_platforms_count.append(len(game['platforms']))\n",
    "        else:\n",
    "            game_platforms.append(np.nan)\n",
    "            game_platforms_count.append(np.nan)\n",
    "\n",
    "        game_rating.append(game['rating'])\n",
    "        game_ratings_count.append(game['ratings_count'])\n",
    "        game_reviews_text_count.append(game['reviews_text_count'])\n",
    "        game_score.append(game['score'])\n",
    "        game_esrb_rating.append(game['esrb_rating']['name'] if game['esrb_rating'] else np.nan)\n",
    "        game_reviews_count.append(game['reviews_count'])\n",
    "        game_genres.append(','.join([g['name'].lower() for g in game['genres']]))\n",
    "        game_released.append(game['released'])\n",
    "        game_suggestions_count.append(game['suggestions_count'])\n",
    "\n",
    "rawg = pd.DataFrame({'Name': game_name,\n",
    "                     'Slug' : game_slug,\n",
    "                     'Playtime' : game_playtime,\n",
    "                     'Metacritic' : game_metacritic,\n",
    "                     'Platforms' : game_platforms,\n",
    "                     'Platforms count' :  game_platforms_count,\n",
    "                     'Rating' : game_rating,\n",
    "                     'Rating count' : game_ratings_count,\n",
    "                     'Reviews text count' : game_reviews_text_count,\n",
    "                     'Score' : game_score,\n",
    "                     'ESRD Rating' : game_esrb_rating,\n",
    "                     'Reviews count' : game_reviews_count,\n",
    "                     'Genres' : game_genres,\n",
    "                     'Released' : game_released,\n",
    "                     'Rawg_id'  : game_id,\n",
    "                     'Suggestions count' : game_suggestions_count,\n",
    "                    })\n",
    "\n",
    "rawg.head()"
   ]
  },
  {
   "cell_type": "code",
   "execution_count": null,
   "id": "538968de",
   "metadata": {},
   "outputs": [],
   "source": [
    "gg = rawg['Genres'].str.get_dummies(sep=',')\n",
    "pp = rawg['Platforms'].str.get_dummies(sep=',')\n",
    "gg_pp = pd.concat([gg, pp], axis=1)\n",
    "gg_pp.head()"
   ]
  },
  {
   "cell_type": "code",
   "execution_count": null,
   "id": "c2861b66",
   "metadata": {},
   "outputs": [],
   "source": [
    "rawg.to_csv(\"rawg_sl.csv\", sep=\",\", encoding='utf-8', index=False)"
   ]
  }
 ],
 "metadata": {
  "kernelspec": {
   "display_name": "Python 3",
   "language": "python",
   "name": "python3"
  },
  "language_info": {
   "codemirror_mode": {
    "name": "ipython",
    "version": 3
   },
   "file_extension": ".py",
   "mimetype": "text/x-python",
   "name": "python",
   "nbconvert_exporter": "python",
   "pygments_lexer": "ipython3",
   "version": "3.9.5"
  }
 },
 "nbformat": 4,
 "nbformat_minor": 5
}
