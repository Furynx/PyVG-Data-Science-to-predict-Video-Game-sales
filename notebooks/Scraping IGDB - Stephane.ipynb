{
 "cells": [
  {
   "cell_type": "code",
   "execution_count": null,
   "id": "8f84106e",
   "metadata": {},
   "outputs": [],
   "source": [
    "# IDGB source\n",
    "# Sur la base de vgsales_at\n",
    "# récupération de title|platform|franchise|rating|nb_rating|nb_follower"
   ]
  },
  {
   "cell_type": "code",
   "execution_count": null,
   "id": "06f41dfd",
   "metadata": {},
   "outputs": [],
   "source": [
    "import requests\n",
    "import json\n",
    "from datetime import datetime\n",
    "from datetime import date\n",
    "from time import sleep\n",
    "import numpy as np\n",
    "import pandas as pd\n",
    "from tqdm.auto import tqdm\n",
    "from os import listdir\n",
    "import json\n"
   ]
  },
  {
   "cell_type": "code",
   "execution_count": null,
   "id": "593dad55",
   "metadata": {},
   "outputs": [],
   "source": [
    "# https://api-docs.igdb.com/\n",
    "# https://www.igdb.com/discover\n",
    "# https://github.com/twitchtv/igdb-api-python\n",
    "# https://dev.twitch.tv/console"
   ]
  },
  {
   "cell_type": "code",
   "execution_count": null,
   "id": "a137483d",
   "metadata": {},
   "outputs": [],
   "source": [
    "with open('credentials_igdb.json', 'r') as f:\n",
    "    credentials = json.load(f)\n",
    "    \n",
    "client_id = credentials['client_id']\n",
    "client_secret = credentials['client_secret']\n",
    "auth_token = credentials['auth_token']"
   ]
  },
  {
   "cell_type": "code",
   "execution_count": null,
   "id": "9dbeda61",
   "metadata": {},
   "outputs": [],
   "source": [
    "# filtre sur les plateformes de metacritic\n",
    "['Nintendo 64', 'PlayStation', 'PlayStation 3', 'Dreamcast',\n",
    " 'Xbox 360', 'Wii', 'Xbox One', 'PC', 'Switch', 'PlayStation 2',\n",
    " 'PlayStation 4', 'GameCube', 'Xbox', 'Wii U', 'Game Boy Advance',\n",
    " '3DS', 'Xbox Series X', 'DS', 'PlayStation Vita', 'PlayStation 5',\n",
    " 'PSP', 'Stadia']"
   ]
  },
  {
   "cell_type": "code",
   "execution_count": null,
   "id": "e0afe9e5",
   "metadata": {},
   "outputs": [],
   "source": [
    "# envoie de la requete\n",
    "def igdb_request(req):\n",
    "    url        = \"https://api.igdb.com/v4/games\"       \n",
    "    \n",
    "    request_params = { 'headers': { 'Client-ID': client_id,\n",
    "                                    'Authorization': 'Bearer ' + auth_token },\n",
    "                       'data':  req}\n",
    "    \n",
    "    r = requests.post(url, **request_params)\n",
    "    r_dictionary = json.loads(r.text)\n",
    "    \n",
    "    return len(r_dictionary) , r_dictionary\n",
    "\n",
    "# Construction de la requete\n",
    "def get_game_request(name):\n",
    "    t  = f'search \\\"{name}\\\"; '\n",
    "    t += 'fields slug, name, rating, rating_count, follows, platforms.name, franchises.name, release_dates.date, release_dates.platform; '\n",
    "    t += 'limit 5;'\n",
    "    return t\n",
    "\n",
    "# fields follows, url, id, name, hypes, multiplayer_modes.*, involved_companies.company.name, \\\n",
    "# rating_count, rating, platforms.name, game_engines.name, genres.name, release_dates.date, franchises.name; \\\n",
    "# alternative_names.*, multiplayer_modes.*,\n"
   ]
  },
  {
   "cell_type": "code",
   "execution_count": null,
   "id": "0c56fcef",
   "metadata": {},
   "outputs": [],
   "source": [
    "# Manual request\n",
    "titre='Grand Theft Auto: San Andreas'\n",
    "counter, game_dict = igdb_request(get_game_request(titre))\n",
    "game_dict"
   ]
  },
  {
   "cell_type": "code",
   "execution_count": null,
   "id": "bb9a63e7",
   "metadata": {},
   "outputs": [],
   "source": [
    "# methode d'enregistrement des données\n",
    "def save_game(result):\n",
    "    if len(result):\n",
    "        file_name = result[0]['slug']\n",
    "        with open('igdb/' + file_name + '.json', 'w') as outfile:\n",
    "            json.dump(result, outfile)"
   ]
  },
  {
   "cell_type": "code",
   "execution_count": null,
   "id": "0e72e221",
   "metadata": {},
   "outputs": [],
   "source": [
    "vgchartz = pd.read_csv(\"PyVG-Data-Science-to-predict-Video-Games-sales/data/vgchartz.csv\", sep=\",\")\n",
    "print (vgchartz.shape)\n",
    "vgchartz.head()"
   ]
  },
  {
   "cell_type": "code",
   "execution_count": null,
   "id": "a5a2df6c",
   "metadata": {},
   "outputs": [],
   "source": [
    "list_jeux_df = vgchartz.Name.unique()\n",
    "print (len(list_jeux_df))\n",
    "list_jeux_df[:10]"
   ]
  },
  {
   "cell_type": "code",
   "execution_count": null,
   "id": "262f224d",
   "metadata": {},
   "outputs": [],
   "source": [
    "vgchartz[\"title_norm\"] = vgchartz[\"Name\"].str.normalize('NFKD').str.encode('ascii', errors='ignore').str.decode('utf-8')\n",
    "vgchartz[\"title_norm\"] = vgchartz[\"title_norm\"].str.lower()\n",
    "vgchartz.head()"
   ]
  },
  {
   "cell_type": "code",
   "execution_count": null,
   "id": "a62fa348",
   "metadata": {},
   "outputs": [],
   "source": [
    "list_jeux_df = vgchartz.title_norm.unique()\n",
    "print (len(list_jeux_df))\n",
    "list_jeux_df[:10]"
   ]
  },
  {
   "cell_type": "code",
   "execution_count": null,
   "id": "699ca3dc",
   "metadata": {},
   "outputs": [],
   "source": [
    "for titre in tqdm(list_jeux_df[1885:1886]):\n",
    "    titre = titre.replace(\"\\\"\",\"\")\n",
    "    counter, game_dict = igdb_request(get_game_request(titre))\n",
    "    if counter > 0: save_game(game_dict)\n",
    "    sleep(0.5)"
   ]
  },
  {
   "cell_type": "markdown",
   "id": "6ce65f34",
   "metadata": {},
   "source": [
    "### Partie lecture des fichiers scrapés"
   ]
  },
  {
   "cell_type": "code",
   "execution_count": null,
   "id": "6e496441",
   "metadata": {},
   "outputs": [],
   "source": [
    "d_platf = {3:'Linux', 4:'N64', 5:'Wii', 6: 'PC', 7:'PS', 8:'PS2', 9:'PS3', 11: 'XB', 12: 'X360', 18:'SNES', 20:'DS',\n",
    "      21:'GC', 22:'GBC', 24:'GBA', 33:'GB', 39:'iOS', 170:'Stadia',\n",
    "      37:'3DS',\n",
    "     38: 'PSP', 41:'WiiU', 46:'PSV', 48:'PS4',\n",
    "      49: 'XOne', 130:'NS' ,167:'PS5', 169:'XS', 159:\"DSi\" }\n",
    "\n",
    "# liste les noms des plateformes utilisées en lieu et place de celle de IGDB"
   ]
  },
  {
   "cell_type": "code",
   "execution_count": null,
   "id": "effb0941",
   "metadata": {
    "scrolled": true
   },
   "outputs": [],
   "source": [
    "game_key = []\n",
    "igdb_name = []\n",
    "igdb_franchise  = []\n",
    "igdb_follows  = []\n",
    "igdb_platform  = []\n",
    "igdb_release = []\n",
    "\n",
    "d_platforms = {}\n",
    "\n",
    "for fic in tqdm(listdir('igdb')):\n",
    "    \n",
    "    with open('igdb/' + fic) as json_file:\n",
    "  \n",
    "        data_json = json.load(json_file)\n",
    "        #print (data_json, len(data_json))\n",
    "           \n",
    "        for g in data_json:\n",
    "            \n",
    "            p_game_key = g['slug']\n",
    "            p_name = g['name']\n",
    "\n",
    "            p_platforms = g['platforms'] if 'platforms' in g else []\n",
    "            for elt in p_platforms:\n",
    "                d_platforms[elt['id']]= elt['name']\n",
    "        \n",
    "            p_releases = g['release_dates'] if 'release_dates' in g else []\n",
    "            d_releases = {}\n",
    "            for elt in p_releases:\n",
    "                try:\n",
    "                    d_releases[elt['platform']]= elt['date']\n",
    "                except:\n",
    "                    pass\n",
    "            \n",
    "            p_franchise = g['franchises'][0]['name'] if 'franchises' in g else np.nan\n",
    "            p_follows = g['follows'] if 'follows' in g else 0\n",
    "            \n",
    "            #print (p_game_key,p_name,p_follows,sep=' -> ')\n",
    "            #print (p_franchise)\n",
    "            #print (d_platforms)\n",
    "            #print (d_releases)\n",
    "            #print (p_follows)\n",
    "            \n",
    "            for pp in d_platforms.keys():\n",
    "                # get rel date\n",
    "                rd = -1\n",
    "                try:\n",
    "                    rd = d_releases[pp]\n",
    "                except:\n",
    "                    pass\n",
    "            \n",
    "                if rd != -1 and (pp in d_platf) and (p_game_key not in game_key):\n",
    "                    \n",
    "                    game_key.append(p_game_key)\n",
    "                    igdb_name.append(p_name)\n",
    "                    igdb_follows.append(p_follows)\n",
    "                    igdb_franchise.append(p_franchise)\n",
    "                    igdb_platform.append(d_platf[pp])\n",
    "                    igdb_release.append(rd)\n",
    "    \n",
    "#print (d_platforms)\n",
    "\n",
    "igdb = pd.DataFrame({'game_key' : game_key,\n",
    "                     'Name': igdb_name,\n",
    "                     'Platform': igdb_platform,\n",
    "                     'Franchise': igdb_franchise,\n",
    "                     'Follows' : igdb_follows,\n",
    "                     'Release date': igdb_release\n",
    "             })\n",
    "print ()\n",
    "print (igdb.shape)\n",
    "igdb.head()\n",
    "# (28930, 6)"
   ]
  },
  {
   "cell_type": "code",
   "execution_count": null,
   "id": "c95b4b23",
   "metadata": {},
   "outputs": [],
   "source": [
    "igdb.info()"
   ]
  },
  {
   "cell_type": "markdown",
   "id": "d622dd8a",
   "metadata": {},
   "source": [
    "### Corrections manuelles au fur et à mesure des trouvailles ;) "
   ]
  },
  {
   "cell_type": "code",
   "execution_count": null,
   "id": "c1ed56e4",
   "metadata": {},
   "outputs": [],
   "source": [
    "igdb.loc[igdb['Franchise']==\"Rosario + Vampir\",'Franchise'] = \"Rosario + Vampire\"\n",
    "igdb.loc[igdb['Name'].str.contains('007 Legends'),'Franchise'] = \"James Bond\"\n",
    "igdb.loc[igdb['game_key']=='tetris-attack--1','Release date'] = 329436288 # was 32943628800\n",
    "igdb.loc[igdb['game_key']=='7-wonders-of-the-ancient-world-93a9164c-906f-4727-948a-14dade2fbfa2','game_key'] = '7-wonders-of-the-ancient-world'\n",
    "\n",
    "igdb.loc[igdb['game_key']=='a-witchs-tale','game_key'] = 'a-witch-s-tale'\n",
    "igdb.loc[igdb['game_key']=='3d-classics-kirbys-adventure','game_key'] = '3d-classics-kirby-s-adventure'\n"
   ]
  },
  {
   "cell_type": "markdown",
   "id": "35bb0bb7",
   "metadata": {},
   "source": [
    "### Calcul du nombre de franchises"
   ]
  },
  {
   "cell_type": "code",
   "execution_count": null,
   "id": "e104262a",
   "metadata": {},
   "outputs": [],
   "source": [
    "igdb['N_Franchises'] = 1\n",
    "ff = igdb.groupby('Franchise_wikipedia',as_index=False).agg({'N_Franchises':sum}).sort_values('N_Franchises')\n",
    "print (ff.shape)\n",
    "#(15997, 2)"
   ]
  },
  {
   "cell_type": "code",
   "execution_count": null,
   "id": "64549395",
   "metadata": {},
   "outputs": [],
   "source": [
    "# ajout au dataframe\n",
    " # Platform pas utile car gérées avec des -- dans le noms des clé !\n",
    "igdb.drop(columns=['Franchise','N_Franchises','Platform'],inplace=True)\n",
    "igdb = igdb.merge(ff,on='Franchise_wikipedia',how='left')\n",
    "igdb.shape\n",
    "# (28930, 7)"
   ]
  },
  {
   "cell_type": "markdown",
   "id": "a2243e77",
   "metadata": {},
   "source": [
    "### Mise en forme de la date"
   ]
  },
  {
   "cell_type": "code",
   "execution_count": null,
   "id": "4c7bb16d",
   "metadata": {},
   "outputs": [],
   "source": [
    "igdb['Release_date'] = pd.to_datetime(igdb['Release date'],unit='s')\n",
    "igdb.drop(columns=['Release date'],inplace=True)\n"
   ]
  },
  {
   "cell_type": "markdown",
   "id": "a09bae8c",
   "metadata": {},
   "source": [
    "### Suppression des --x qui sont ajoutés pour chaque plateforme"
   ]
  },
  {
   "cell_type": "code",
   "execution_count": null,
   "id": "1f12b06a",
   "metadata": {},
   "outputs": [],
   "source": [
    "igdb['game_key'].replace(r'--\\d+$','',regex=True, inplace=True)\n",
    "igdb[igdb['game_key'].str.contains('--')]\n",
    "igdb.drop_duplicates(subset='game_key',inplace=True)\n",
    "igdb['game_key'].duplicated().value_counts()"
   ]
  },
  {
   "cell_type": "code",
   "execution_count": null,
   "id": "744a82bd",
   "metadata": {},
   "outputs": [],
   "source": [
    "igdb.info()\n",
    "# 28176 "
   ]
  },
  {
   "cell_type": "code",
   "execution_count": null,
   "id": "f8e18dc4",
   "metadata": {},
   "outputs": [],
   "source": [
    "igdb.head()"
   ]
  },
  {
   "cell_type": "code",
   "execution_count": null,
   "id": "1f7ada56",
   "metadata": {},
   "outputs": [],
   "source": [
    "platformes = ['2600','3DO','3DS','5200','7800','ACPC','AJ','AST','Aco','All','Amig','And','ApII','Arc','BBCM',\n",
    "             'BRW','C128','C64','CD32','CDi','CV','DC','DS','DSi','DSiW','FMT','GB','GBA','GBC','GC','GEN','GG',\n",
    "             'GIZ','Int','Linux','Lynx','MS','MSD','MSX','Mob','N64','NES','NG','NGage','NS','OR','OSX','Ouya',\n",
    "             'PC','PCE','PCFX','PS','PS2','PS3','PS4','PS5','PSN','PSP','PSV','S32X','SAT','SCD','SNES','Series',\n",
    "             'TG16','VB','VC','WS','WW','Wii','WiiU','WinP','X360','XB','XBL','XOne','XS','ZXS','iOS','iQue']\n",
    "\n",
    "def check_platform(l):\n",
    "    counter = 0\n",
    "    print ('Verification des plateformes')\n",
    "    for p in l:\n",
    "        if p not in platformes:\n",
    "            print (f' > {p} pas dans la liste des plateformes !')\n",
    "            counter += 1\n",
    "            \n",
    "    print (f'Il y a {counter} plateforme(s) non conforme(s)')\n",
    "\n",
    "check_platform([d_platf[i] for i in d_platf.keys()])"
   ]
  },
  {
   "cell_type": "code",
   "execution_count": null,
   "id": "115d1796",
   "metadata": {},
   "outputs": [],
   "source": [
    "igdb.to_csv(\"PyVG-Data-Science-to-predict-Video-Games-sales/data/igdb_franchises.csv\", sep=\",\", encoding='utf-8', index=False)"
   ]
  },
  {
   "cell_type": "code",
   "execution_count": null,
   "id": "29874999",
   "metadata": {},
   "outputs": [],
   "source": [
    "igdb[igdb['game_key'].str.contains(r'\\w{2}s-')]"
   ]
  }
 ],
 "metadata": {
  "kernelspec": {
   "display_name": "Python 3",
   "language": "python",
   "name": "python3"
  },
  "language_info": {
   "codemirror_mode": {
    "name": "ipython",
    "version": 3
   },
   "file_extension": ".py",
   "mimetype": "text/x-python",
   "name": "python",
   "nbconvert_exporter": "python",
   "pygments_lexer": "ipython3",
   "version": "3.9.5"
  }
 },
 "nbformat": 4,
 "nbformat_minor": 5
}
