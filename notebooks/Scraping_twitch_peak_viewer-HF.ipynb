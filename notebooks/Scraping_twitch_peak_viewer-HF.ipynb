{
 "cells": [
  {
   "cell_type": "code",
   "execution_count": 1,
   "metadata": {},
   "outputs": [],
   "source": [
    "from bs4 import BeautifulSoup\n",
    "from time import sleep\n",
    "from requests import get\n",
    "import bs4 as bs\n",
    "import time\n",
    "import urllib.request\n",
    "import requests\n",
    "from urllib.request import Request, urlopen\n",
    "import lxml.html as lh\n",
    "import numpy as np\n",
    "import pandas as pd\n",
    "\n",
    "\n",
    "from selenium import webdriver\n",
    "from selenium.webdriver.common.keys import Keys\n",
    "from webdriver_manager.chrome import ChromeDriverManager\n",
    "from tqdm import tqdm\n",
    "from time import sleep"
   ]
  },
  {
   "cell_type": "code",
   "execution_count": 9,
   "metadata": {},
   "outputs": [],
   "source": [
    "#Scraping avec beautiful soup\n",
    "pages=np.arange(1,865)\n",
    "\n",
    "peak_view=[]\n",
    "\n",
    "name_g=[]\n",
    "\n",
    "for page in pages:\n",
    "    \n",
    "    sleep(5)\n",
    "    url=\"https://twitchtracker.com/games/peak-viewers?page=\"+str(page)\n",
    "    req=Request(url,headers={'User-Agent':'Mozilla/5.0'})\n",
    "    page_tw=urlopen(req).read()\n",
    "    soup=BeautifulSoup(page_tw,'html.parser')\n",
    "\n",
    "    \n",
    "    for peak in soup.select('.ri-value'):\n",
    "        peak_view.append(peak.text.strip())\n",
    "        \n",
    "\n",
    "    \n",
    "    for name in soup.findAll(name='div',attrs={'class':'ri-name'}):\n",
    "        name_g.append(name.text.strip())\n",
    "        \n",
    "        \n"
   ]
  },
  {
   "cell_type": "code",
   "execution_count": null,
   "metadata": {},
   "outputs": [],
   "source": [
    "#sauvegarde\n",
    "df=pd.DataFrame(zip(name_g,peak_view),columns=['Name','Peak Viewers'])\n",
    "\n",
    "df.to_csv('twitch_Peak_viewer.csv',index=False)\n"
   ]
  }
 ],
 "metadata": {
  "interpreter": {
   "hash": "04eb5fd3382f5ae6ecd8e5ea5943a43c2b77f84302c9ef3aee2bb26e0a62d38e"
  },
  "kernelspec": {
   "display_name": "Python 3.10.4 64-bit",
   "language": "python",
   "name": "python3"
  },
  "language_info": {
   "codemirror_mode": {
    "name": "ipython",
    "version": 3
   },
   "file_extension": ".py",
   "mimetype": "text/x-python",
   "name": "python",
   "nbconvert_exporter": "python",
   "pygments_lexer": "ipython3",
   "version": "3.10.4"
  },
  "orig_nbformat": 4
 },
 "nbformat": 4,
 "nbformat_minor": 2
}
