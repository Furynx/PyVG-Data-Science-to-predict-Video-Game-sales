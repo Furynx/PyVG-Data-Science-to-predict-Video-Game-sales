{
 "cells": [
  {
   "cell_type": "markdown",
   "id": "46523c5b",
   "metadata": {},
   "source": [
    "# PyVG: Data Science to predict Video Games sales\n",
    ">Equipe: Alexis Terrasse, Henri-François Mole, Hsan Drissi, Stephane Lelievre\n",
    ">\n",
    ">Promo: DS_Oct21\n",
    "---\n",
    "## Scraping VGChartz - Alexis\n",
    "\n",
    "<img src='https://www.guinnessworldrecords.com/Images/vgchartz-760x444_tcm25-607263.jpg?ezimgfmt=rs:412x241/rscb1/ng:webp/ngcb1' width=500></img>\n"
   ]
  },
  {
   "cell_type": "markdown",
   "id": "368e90b5",
   "metadata": {},
   "source": [
    "### Importation des bibliothèques"
   ]
  },
  {
   "cell_type": "code",
   "execution_count": null,
   "id": "495c7a73",
   "metadata": {},
   "outputs": [],
   "source": [
    "from bs4 import BeautifulSoup # Importation de BeautifulSoup\n",
    "import requests # Importation de import requests \n",
    "from time import sleep # Importation de sleep\n",
    "import pandas as pd # Importation de pandas sous l'alias pd\n",
    "import lxml.html as lh # Importation de lh \n",
    "import unidecode # Importation de unidecode\n",
    "from tqdm import tqdm # Importation de tqdm"
   ]
  },
  {
   "cell_type": "markdown",
   "id": "057cbeed",
   "metadata": {},
   "source": [
    "### Définition de fonctions"
   ]
  },
  {
   "cell_type": "code",
   "execution_count": null,
   "id": "a18bb9f0",
   "metadata": {},
   "outputs": [],
   "source": [
    "# Initialisation des genres\n",
    "genres=['Action','Action-Adventure','Adventure','Board+Game',\n",
    "        'Education','Fighting','Misc','MMO','Music','Party','Platform',\n",
    "        'Puzzle','Racing','Role-Playing','Sandbox','Shooter','Simulation',\n",
    "        'Sports','Strategy','Visual+Novel']\n",
    "\n",
    "# Initialisation des parties de l'url de recherche\n",
    "url_1= 'https://www.vgchartz.com/games/games.php?page='\n",
    "url_2= '&results=10000&genre='\n",
    "url_3= '&order=TotalSales&ownership=Both&showtotalsales=1&shownasales=0&showpalsales=0&showjapansales=0&showothersales=0&showpublisher=0&showdeveloper=0&showreleasedate=0&showlastupdate=0&showvgchartzscore=0&showcriticscore=0&showuserscore=0&showshipped=0'\n",
    "\n",
    "\n",
    "######################################################\n",
    "######## Fonction des tags des plateformes  ##########\n",
    "######################################################\n",
    "\n",
    "def find_console_tags(soup):\n",
    "    # Les plateforme sont affichées sous forme d'image on récupére l'alt correspondant pour avoir le nom\n",
    "    consoles = list()\n",
    "    for img in soup.find_all('img'):\n",
    "        if 'images/consoles'in img['src']:\n",
    "            console_tag = (img['src'][17:-6])\n",
    "            consoles.append(img['alt'])\n",
    "    return consoles\n",
    "\n",
    "\n",
    "###############################################\n",
    "######## Fonction des noms des jeux  ##########\n",
    "###############################################\n",
    "\n",
    "def find_names_column(table_path):\n",
    "    # On récupére le nom du jeu depuis le lien\n",
    "    names_list = list()\n",
    "    for row in table_path.xpath('.//tr'):\n",
    "        for td in row.xpath('.//td'):\n",
    "            if not td.find('a') is None:\n",
    "                names_list.append(td.find('a').text.strip()) \n",
    "    return names_list\n"
   ]
  },
  {
   "cell_type": "code",
   "execution_count": null,
   "id": "a0db6739",
   "metadata": {},
   "outputs": [],
   "source": [
    "# On initialise un dataframe vide\n",
    "df= pd.DataFrame()\n",
    "\n",
    "# On fait une recherche pour chaque genre\n",
    "for genre in tqdm(genres):\n",
    "    url= url_1+url_2+genre+url_3\n",
    "    \n",
    "    headermap = {\"User-Agent\": \"Mac Firefox\"};\n",
    "    response = requests.get(url, headers=headermap, stream= True)\n",
    "    \n",
    "    #On stocke le contenu du site dans un doc\n",
    "    page= response.text\n",
    "    soup = BeautifulSoup(page, \"lxml\")\n",
    "    doc = lh.fromstring(response.content)    \n",
    "    target_table_path = doc.xpath('//*[@id=\"generalBody\"]/table')[0]\n",
    "    \n",
    "    # On récupére les infos des colonnes qui ne sont pas correctement scrapées\n",
    "    names_list = find_names_column(target_table_path)\n",
    "    consoles = find_console_tags(soup)\n",
    "    \n",
    "    sales=[]\n",
    "    g_game=[]\n",
    "\n",
    "    for counter,row in enumerate(target_table_path.xpath(\".//tr\")):\n",
    "        if counter > 2: \n",
    "            i=0\n",
    "            for td in row.xpath(\".//td\"):\n",
    "                if i== 4:\n",
    "                    sales.append(td.text)\n",
    "                    g_game.append(genre)\n",
    "                i+=1\n",
    "\n",
    "    df_genre= pd.DataFrame(zip(names_list,consoles,g_game,sales), columns=['Name', 'Platform', 'Genre', 'Global_Sales'])\n",
    "\n",
    "    df= pd.concat([df,df_genre])"
   ]
  },
  {
   "cell_type": "code",
   "execution_count": null,
   "id": "30817d85",
   "metadata": {},
   "outputs": [],
   "source": [
    "# On réinitialise l'index de df\n",
    "df= df.reset_index(drop='True')\n",
    "\n",
    "# On sauvegarde le dataframe dans un csv\n",
    "df.to_csv('vgchartz.csv', sep=\",\", encoding='utf-8', index=False)"
   ]
  }
 ],
 "metadata": {
  "kernelspec": {
   "display_name": "Python 3 (ipykernel)",
   "language": "python",
   "name": "python3"
  },
  "language_info": {
   "codemirror_mode": {
    "name": "ipython",
    "version": 3
   },
   "file_extension": ".py",
   "mimetype": "text/x-python",
   "name": "python",
   "nbconvert_exporter": "python",
   "pygments_lexer": "ipython3",
   "version": "3.9.7"
  }
 },
 "nbformat": 4,
 "nbformat_minor": 5
}
