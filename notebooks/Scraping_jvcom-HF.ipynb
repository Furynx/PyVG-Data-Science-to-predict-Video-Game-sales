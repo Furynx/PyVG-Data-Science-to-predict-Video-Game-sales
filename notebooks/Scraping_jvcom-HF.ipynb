{
 "cells": [
  {
   "cell_type": "code",
   "execution_count": 1,
   "metadata": {},
   "outputs": [],
   "source": [
    "from bs4 import BeautifulSoup\n",
    "from time import sleep\n",
    "from requests import get\n",
    "import bs4 as bs\n",
    "import time\n",
    "import urllib.request\n",
    "import requests\n",
    "from urllib.request import Request, urlopen\n",
    "import lxml.html as lh\n",
    "import numpy as np\n",
    "import pandas as pd\n",
    "\n",
    "from selenium import webdriver\n",
    "from selenium.webdriver.common.keys import Keys\n",
    "from webdriver_manager.chrome import ChromeDriverManager\n",
    "from tqdm import tqdm\n",
    "from time import sleep"
   ]
  },
  {
   "cell_type": "code",
   "execution_count": null,
   "metadata": {},
   "outputs": [],
   "source": [
    "#récupèration des titres d'une platforme\n",
    "\n",
    "\n",
    "pages=np.arange(1,9)\n",
    "titre_ps_5_R=[]\n",
    "\n",
    "\n",
    "for page in pages:\n",
    "    page_jv=urlopen(\"https://www.jeuxvideo.com/tests/machine-22/?p=\"+str(page))\n",
    "    soup=BeautifulSoup(page_jv,'html.parser')\n",
    "    titre_ps_5=soup.findAll(name='h2',attrs={'class':'title__1so0Dn'})\n",
    "    \n",
    "    for titre in titre_ps_5:\n",
    "        titre_ps_5_R.append(titre.text)\n",
    "    \n",
    "\n",
    "            "
   ]
  },
  {
   "cell_type": "code",
   "execution_count": null,
   "metadata": {},
   "outputs": [],
   "source": [
    "PS5_titre=[]\n",
    "\n",
    "for element in titre_PC:\n",
    "    PC_titre.append(element.split('Test')[1])\n",
    "    \n",
    "   \n",
    "pd.DataFrame(PC_titre).to_csv('PS5_TITRE',index=False,encoding='utf-8')\n",
    "\n",
    "PC_titre"
   ]
  },
  {
   "cell_type": "code",
   "execution_count": null,
   "metadata": {},
   "outputs": [],
   "source": [
    "#récuperation des note_pro,note_joueur,et info sur le jeu pour 1 plateforme\n",
    "\n",
    "dg=pd.read_csv(PS5__TITRE')\n",
    "driver=webdriver.Chrome(ChromeDriverManager().install())\n",
    "\n",
    "driver.get('https://www.jeuxvideo.com/')\n",
    "\n",
    "\n",
    "\n",
    "driver.find_element_by_xpath(\"//*[contains(text(),'Accepter')]\").click()\n",
    "\n",
    "sleep(15)\n",
    "\n",
    "\n",
    "for i,row in tqdm(dg.iterrows(),total=len(dg)):\n",
    "    sleep(8)\n",
    "    driver.find_element_by_class_name('icon-search').click()\n",
    "    barre=driver.find_element_by_id('search')\n",
    "    sleep(1)\n",
    "    barre.click()\n",
    "    sleep(1)\n",
    "    barre=driver.find_element_by_id('search')\n",
    "    sleep(1)\n",
    "    barre.send_keys(row['0'])\n",
    "    sleep(2)\n",
    "    barre.send_keys(Keys.ENTER)\n",
    "    sleep(2)\n",
    "\n",
    "\n",
    "    try:\n",
    "        driver.find_element_by_css_selector('.text-truncate').click()\n",
    "        sleep(2)\n",
    "        note_pro=driver.find_element_by_class_name('gameCharacteristicsMain__gauge')\n",
    "        sleep(2)\n",
    "        note_jou=driver.find_element_by_css_selector('.gameCharacteristicsMain__reviewContainer--userOpinion')\n",
    "        sleep(2)\n",
    "        date=driver.find_element_by_class_name('gameCharacteristicsMain__releaseDate')\n",
    "        sleep(2)\n",
    "        genre=driver.find_element_by_class_name('gameCharacteristicsDetailed__table')\n",
    "\n",
    "        \n",
    "        dg.loc[i,'note_pro']=note_pro.text\n",
    "        dg.loc[i,'note_joueur']=note_jou.text\n",
    "        dg.loc[i,'date']=date.text\n",
    "        dg.loc[i,'genre']=genre.text\n",
    " \n",
    "    except:\n",
    "        dg.loc[i,'note_pro']='no_data'\n",
    "        dg.loc[i,'note_joueur']='no_data'\n",
    "        dg.loc[i,'date']='no_data'\n",
    "        dg.loc[i,'genre']='no_data'\n",
    "\n",
    "        \n"
   ]
  },
  {
   "cell_type": "code",
   "execution_count": null,
   "metadata": {},
   "outputs": [],
   "source": [
    "#sauvegarde\n",
    "\n",
    "pd.DataFrame(dg).to_csv('DS_GOODfinal',index=False,encoding='utf-8')"
   ]
  },
  {
   "cell_type": "markdown",
   "metadata": {},
   "source": []
  }
 ],
 "metadata": {
  "interpreter": {
   "hash": "04eb5fd3382f5ae6ecd8e5ea5943a43c2b77f84302c9ef3aee2bb26e0a62d38e"
  },
  "kernelspec": {
   "display_name": "Python 3.10.4 64-bit",
   "language": "python",
   "name": "python3"
  },
  "language_info": {
   "codemirror_mode": {
    "name": "ipython",
    "version": 3
   },
   "file_extension": ".py",
   "mimetype": "text/x-python",
   "name": "python",
   "nbconvert_exporter": "python",
   "pygments_lexer": "ipython3",
   "version": "3.10.4"
  },
  "orig_nbformat": 4
 },
 "nbformat": 4,
 "nbformat_minor": 2
}
