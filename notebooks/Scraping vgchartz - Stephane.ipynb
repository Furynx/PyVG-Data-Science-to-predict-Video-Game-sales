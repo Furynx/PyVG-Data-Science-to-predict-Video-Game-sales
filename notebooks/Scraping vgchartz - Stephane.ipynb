{
 "cells": [
  {
   "cell_type": "code",
   "execution_count": null,
   "id": "38cac670",
   "metadata": {},
   "outputs": [],
   "source": [
    "# http://www.vgchartz.com/gamedb/\n",
    "# https://github.com/GregorUT/vgchartzScrape\n",
    "# https://github.com/GregorUT/vgchartzScrape/blob/master/vgchartzfull.py"
   ]
  },
  {
   "cell_type": "code",
   "execution_count": null,
   "id": "2a7ee8d2",
   "metadata": {},
   "outputs": [],
   "source": [
    "from bs4 import BeautifulSoup, element\n",
    "from urllib.request import urlopen\n",
    "import pandas as pd\n",
    "import numpy as np\n",
    "from tqdm.auto import tqdm\n",
    "# https://medium.com/@harshit4084/track-your-loop-using-tqdm-7-ways-progress-bars-in-python-make-things-easier-fcbbb9233f24"
   ]
  },
  {
   "cell_type": "code",
   "execution_count": null,
   "id": "77b496c0",
   "metadata": {},
   "outputs": [],
   "source": [
    "url_base = 'https://www.vgchartz.com/games/games.php?page='\n",
    "\n",
    "url_tail  = 'name=&keyword=&console=&region=All&developer=&publisher=' #'&goty_year='\n",
    "url_tail_b  = '&genre=&boxart=Both&banner=Both&ownership=Both&showmultiplat=Yes&results=500'\n",
    "url_tail_b += '&order=ReleaseDate&showtotalsales=0&showtotalsales=1&showpublisher=0&showpublisher=1'\n",
    "url_tail_b += '&showvgchartzscore=0&showvgchartzscore=1&shownasales=0&showdeveloper=0&showdeveloper=1'\n",
    "url_tail_b += '&showcriticscore=0&showcriticscore=1&showpalsales=0&showreleasedate=0&showreleasedate=1'\n",
    "url_tail_b += '&showuserscore=0&showuserscore=1&showjapansales=0&showlastupdate=0&showlastupdate=1'\n",
    "url_tail_b += '&showothersales=0&showshipped=0&showshipped=1'"
   ]
  },
  {
   "cell_type": "code",
   "execution_count": null,
   "id": "926ec13d",
   "metadata": {},
   "outputs": [],
   "source": [
    "url = url_base + str(1) + url_tail + url_tail_b\n",
    "url"
   ]
  },
  {
   "cell_type": "code",
   "execution_count": null,
   "id": "524a3ebf",
   "metadata": {
    "scrolled": true
   },
   "outputs": [],
   "source": [
    "g_name = []\n",
    "g_platform = []\n",
    "g_publisher = []\n",
    "g_developer = []\n",
    "critic_score = []\n",
    "user_score = []\n",
    "sales_global = []\n",
    "vgs_score = []\n",
    "release_date = []\n",
    "genre= []\n",
    "\n",
    "for p in tqdm(range(1,2), desc= 'Main loop vgchartz'):  #124\n",
    "    url = url_base + str(p) + url_tail + url_tail_b\n",
    "     #   url = url_base + str(page) + url_tail + str(year) + url_tail_b\n",
    "\n",
    "    page = urlopen(url)\n",
    "    soup = BeautifulSoup(page, 'html.parser')\n",
    "    \n",
    "    game_tags = list(filter( lambda x: x.attrs['href'].startswith('https://www.vgchartz.com/game/'),\n",
    "                             soup.findAll(lambda tag: tag.name == 'a' and 'href' in tag.attrs)))\n",
    "    \n",
    "    for tag in game_tags:\n",
    "        g_name.append(tag.text.strip())\n",
    "        \n",
    "        # 2 levels up a --> td --> tr\n",
    "        data = tag.parent.parent.find_all(\"td\")\n",
    "\n",
    "        g_platform.append(data[3].find('img').attrs['alt'])\n",
    "        g_publisher.append(data[4].string.strip())\n",
    "        g_developer.append(data[5].string.strip())\n",
    "\n",
    "        vgs_score.append(\n",
    "            float(data[6].string) if not data[6].string.startswith(\"N/A\") else np.nan)\n",
    "        critic_score.append(\n",
    "            float(data[7].string) if not data[7].string.startswith(\"N/A\") else np.nan)\n",
    "        user_score.append(\n",
    "            float(data[8].string) if not data[8].string.startswith(\"N/A\") else np.nan)\n",
    "        sales_global.append(\n",
    "            float(data[10].string[:-1]) if not data[10].string.startswith(\"N/A\") else np.nan)\n",
    "        release_date.append(\n",
    "            data[11].string.strip() if data[11].string.strip() != 'N/A' else np.nan)\n",
    "    \n",
    "    continue \n",
    "    \n",
    "    for tag in tqdm(game_tags, total=len(game_tags), desc= f'page {p}'):\n",
    "        \n",
    "        url_to_game = tag.attrs['href']\n",
    "        site_raw = urlopen(url_to_game)\n",
    "        sub_soup = BeautifulSoup(site_raw, \"html.parser\")\n",
    "        # again, the info box is inconsistent among games so we\n",
    "        # have to find all the h2 and traverse from that to the genre name\n",
    "        h2s = sub_soup.find(\"div\", {\"id\": \"gameGenInfoBox\"}).find_all('h2')\n",
    "        # make a temporary tag here to search for the one that contains\n",
    "        # the word \"Genre\"\n",
    "        temp_tag = element.Tag\n",
    "        for h2 in h2s:\n",
    "            if h2.string == 'Genre':\n",
    "                temp_tag = h2\n",
    "                break\n",
    "        genre.append(temp_tag.next_sibling.string)\n",
    "\n",
    "\n",
    "vgchartz = pd.DataFrame({'title': g_name,\n",
    "              'platform': g_platform,\n",
    "              'publisher': g_publisher,\n",
    "              'developer': g_developer,\n",
    "              'critic_score': critic_score,\n",
    "              'user_score': user_score,\n",
    "              'sales_global': sales_global,\n",
    "              'vgs_score': vgs_score,\n",
    "              'release date' : release_date,\n",
    "              #'genre': genre\n",
    "             })\n",
    "\n",
    "vgchartz.head()"
   ]
  },
  {
   "cell_type": "code",
   "execution_count": null,
   "id": "ac07bdf0",
   "metadata": {
    "scrolled": true
   },
   "outputs": [],
   "source": [
    "vgchartz.info()"
   ]
  },
  {
   "cell_type": "code",
   "execution_count": null,
   "id": "5c76bc1a",
   "metadata": {},
   "outputs": [],
   "source": [
    "vgchartz[(vgchartz['sales_global']>0)&(vgchartz['sales_global']<7)]"
   ]
  },
  {
   "cell_type": "code",
   "execution_count": null,
   "id": "96d5adfb",
   "metadata": {},
   "outputs": [],
   "source": [
    "vgchartz.to_csv(\"vgsales_vgchartz_v1_no_genre.csv\", sep=\",\", encoding='utf-8', index=False)"
   ]
  },
  {
   "cell_type": "code",
   "execution_count": null,
   "id": "d2f0f177",
   "metadata": {},
   "outputs": [],
   "source": [
    "from  time import sleep\n",
    "sleep(1)"
   ]
  },
  {
   "cell_type": "code",
   "execution_count": null,
   "id": "5646543f",
   "metadata": {},
   "outputs": [],
   "source": [
    "df = pd.DataFrame()\n",
    "\n",
    "for i in range(5):\n",
    "    df = df.append({'A': i}, ignore_index=True)\n",
    "df = df.append({'B': 5}, ignore_index=True)\n",
    "df = df.append({'A': -1,'B': 5}, ignore_index=True)    \n",
    "\n",
    "df.head(10)\n",
    "    \n"
   ]
  }
 ],
 "metadata": {
  "kernelspec": {
   "display_name": "Python 3",
   "language": "python",
   "name": "python3"
  },
  "language_info": {
   "codemirror_mode": {
    "name": "ipython",
    "version": 3
   },
   "file_extension": ".py",
   "mimetype": "text/x-python",
   "name": "python",
   "nbconvert_exporter": "python",
   "pygments_lexer": "ipython3",
   "version": "3.9.5"
  }
 },
 "nbformat": 4,
 "nbformat_minor": 5
}
