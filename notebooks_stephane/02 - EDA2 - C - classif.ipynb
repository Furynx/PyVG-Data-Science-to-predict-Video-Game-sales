{
 "cells": [
  {
   "cell_type": "code",
   "execution_count": 1,
   "id": "605a4825",
   "metadata": {},
   "outputs": [],
   "source": [
    "import pandas as pd\n",
    "import matplotlib.pyplot as plt\n",
    "%matplotlib inline\n",
    "import numpy as np\n",
    "import seaborn as sns\n",
    "\n",
    "from sklearn.model_selection import train_test_split\n",
    "\n",
    "from sklearn.ensemble import GradientBoostingClassifier, RandomForestClassifier\n",
    "from sklearn.tree import DecisionTreeClassifier\n",
    "from sklearn.metrics import classification_report"
   ]
  },
  {
   "cell_type": "markdown",
   "id": "ed479cec",
   "metadata": {},
   "source": [
    "### Read dataset"
   ]
  },
  {
   "cell_type": "code",
   "execution_count": 2,
   "id": "6f6625b4",
   "metadata": {},
   "outputs": [
    {
     "name": "stdout",
     "output_type": "stream",
     "text": [
      "Input shape (8478, 85)\n"
     ]
    },
    {
     "data": {
      "text/html": [
       "<div>\n",
       "<style scoped>\n",
       "    .dataframe tbody tr th:only-of-type {\n",
       "        vertical-align: middle;\n",
       "    }\n",
       "\n",
       "    .dataframe tbody tr th {\n",
       "        vertical-align: top;\n",
       "    }\n",
       "\n",
       "    .dataframe thead th {\n",
       "        text-align: right;\n",
       "    }\n",
       "</style>\n",
       "<table border=\"1\" class=\"dataframe\">\n",
       "  <thead>\n",
       "    <tr style=\"text-align: right;\">\n",
       "      <th></th>\n",
       "      <th>Name</th>\n",
       "      <th>Platform</th>\n",
       "      <th>Genre</th>\n",
       "      <th>Global_Sales</th>\n",
       "      <th>game_key</th>\n",
       "      <th>Name_meta</th>\n",
       "      <th>Genre_meta</th>\n",
       "      <th>Score_pro</th>\n",
       "      <th>Score_user</th>\n",
       "      <th>Publisher</th>\n",
       "      <th>...</th>\n",
       "      <th>genre_Platform</th>\n",
       "      <th>genre_Puzzle</th>\n",
       "      <th>genre_Racing</th>\n",
       "      <th>genre_Role-Playing</th>\n",
       "      <th>genre_Shooter</th>\n",
       "      <th>genre_Simulation</th>\n",
       "      <th>genre_Sports</th>\n",
       "      <th>genre_Strategy</th>\n",
       "      <th>genre_Visual+Novel</th>\n",
       "      <th>labels</th>\n",
       "    </tr>\n",
       "  </thead>\n",
       "  <tbody>\n",
       "    <tr>\n",
       "      <th>0</th>\n",
       "      <td>Grand Theft Auto: San Andreas</td>\n",
       "      <td>XB</td>\n",
       "      <td>Action</td>\n",
       "      <td>1.95</td>\n",
       "      <td>grand-theft-auto-san-andreas</td>\n",
       "      <td>Grand Theft Auto: San Andreas</td>\n",
       "      <td>Action Adventure, Modern</td>\n",
       "      <td>9.3</td>\n",
       "      <td>8.8</td>\n",
       "      <td>rockstar games</td>\n",
       "      <td>...</td>\n",
       "      <td>0</td>\n",
       "      <td>0</td>\n",
       "      <td>0</td>\n",
       "      <td>0</td>\n",
       "      <td>0</td>\n",
       "      <td>0</td>\n",
       "      <td>0</td>\n",
       "      <td>0</td>\n",
       "      <td>0</td>\n",
       "      <td>5</td>\n",
       "    </tr>\n",
       "    <tr>\n",
       "      <th>1</th>\n",
       "      <td>Grand Theft Auto: San Andreas</td>\n",
       "      <td>PC</td>\n",
       "      <td>Action</td>\n",
       "      <td>0.97</td>\n",
       "      <td>grand-theft-auto-san-andreas</td>\n",
       "      <td>Grand Theft Auto: San Andreas</td>\n",
       "      <td>Action Adventure, Modern, Modern, Open-World</td>\n",
       "      <td>9.3</td>\n",
       "      <td>8.9</td>\n",
       "      <td>rockstar games</td>\n",
       "      <td>...</td>\n",
       "      <td>0</td>\n",
       "      <td>0</td>\n",
       "      <td>0</td>\n",
       "      <td>0</td>\n",
       "      <td>0</td>\n",
       "      <td>0</td>\n",
       "      <td>0</td>\n",
       "      <td>0</td>\n",
       "      <td>0</td>\n",
       "      <td>0</td>\n",
       "    </tr>\n",
       "    <tr>\n",
       "      <th>2</th>\n",
       "      <td>Grand Theft Auto: Vice City</td>\n",
       "      <td>PC</td>\n",
       "      <td>Action</td>\n",
       "      <td>0.04</td>\n",
       "      <td>grand-theft-auto-vice-city</td>\n",
       "      <td>Grand Theft Auto: Vice City</td>\n",
       "      <td>Action Adventure, Modern, Modern, Open-World</td>\n",
       "      <td>9.4</td>\n",
       "      <td>8.8</td>\n",
       "      <td>rockstar games</td>\n",
       "      <td>...</td>\n",
       "      <td>0</td>\n",
       "      <td>0</td>\n",
       "      <td>0</td>\n",
       "      <td>0</td>\n",
       "      <td>0</td>\n",
       "      <td>0</td>\n",
       "      <td>0</td>\n",
       "      <td>0</td>\n",
       "      <td>0</td>\n",
       "      <td>0</td>\n",
       "    </tr>\n",
       "    <tr>\n",
       "      <th>3</th>\n",
       "      <td>Grand Theft Auto III</td>\n",
       "      <td>PC</td>\n",
       "      <td>Action</td>\n",
       "      <td>0.01</td>\n",
       "      <td>grand-theft-auto-iii</td>\n",
       "      <td>Grand Theft Auto III</td>\n",
       "      <td>Action Adventure, Modern, Modern, Open-World</td>\n",
       "      <td>9.3</td>\n",
       "      <td>8.2</td>\n",
       "      <td>rockstar games</td>\n",
       "      <td>...</td>\n",
       "      <td>0</td>\n",
       "      <td>0</td>\n",
       "      <td>0</td>\n",
       "      <td>0</td>\n",
       "      <td>0</td>\n",
       "      <td>0</td>\n",
       "      <td>0</td>\n",
       "      <td>0</td>\n",
       "      <td>0</td>\n",
       "      <td>0</td>\n",
       "    </tr>\n",
       "    <tr>\n",
       "      <th>4</th>\n",
       "      <td>Grand Theft Auto IV</td>\n",
       "      <td>PC</td>\n",
       "      <td>Action</td>\n",
       "      <td>0.87</td>\n",
       "      <td>grand-theft-auto-iv</td>\n",
       "      <td>Grand Theft Auto IV</td>\n",
       "      <td>Action Adventure, Modern, Modern, Open-World</td>\n",
       "      <td>9.0</td>\n",
       "      <td>7.0</td>\n",
       "      <td>rockstar games</td>\n",
       "      <td>...</td>\n",
       "      <td>0</td>\n",
       "      <td>0</td>\n",
       "      <td>0</td>\n",
       "      <td>0</td>\n",
       "      <td>0</td>\n",
       "      <td>0</td>\n",
       "      <td>0</td>\n",
       "      <td>0</td>\n",
       "      <td>0</td>\n",
       "      <td>1</td>\n",
       "    </tr>\n",
       "  </tbody>\n",
       "</table>\n",
       "<p>5 rows × 85 columns</p>\n",
       "</div>"
      ],
      "text/plain": [
       "                            Name Platform   Genre  Global_Sales  \\\n",
       "0  Grand Theft Auto: San Andreas       XB  Action          1.95   \n",
       "1  Grand Theft Auto: San Andreas       PC  Action          0.97   \n",
       "2    Grand Theft Auto: Vice City       PC  Action          0.04   \n",
       "3           Grand Theft Auto III       PC  Action          0.01   \n",
       "4            Grand Theft Auto IV       PC  Action          0.87   \n",
       "\n",
       "                       game_key                      Name_meta  \\\n",
       "0  grand-theft-auto-san-andreas  Grand Theft Auto: San Andreas   \n",
       "1  grand-theft-auto-san-andreas  Grand Theft Auto: San Andreas   \n",
       "2    grand-theft-auto-vice-city    Grand Theft Auto: Vice City   \n",
       "3          grand-theft-auto-iii           Grand Theft Auto III   \n",
       "4           grand-theft-auto-iv            Grand Theft Auto IV   \n",
       "\n",
       "                                     Genre_meta  Score_pro  Score_user  \\\n",
       "0                      Action Adventure, Modern        9.3         8.8   \n",
       "1  Action Adventure, Modern, Modern, Open-World        9.3         8.9   \n",
       "2  Action Adventure, Modern, Modern, Open-World        9.4         8.8   \n",
       "3  Action Adventure, Modern, Modern, Open-World        9.3         8.2   \n",
       "4  Action Adventure, Modern, Modern, Open-World        9.0         7.0   \n",
       "\n",
       "        Publisher  ... genre_Platform  genre_Puzzle  genre_Racing  \\\n",
       "0  rockstar games  ...              0             0             0   \n",
       "1  rockstar games  ...              0             0             0   \n",
       "2  rockstar games  ...              0             0             0   \n",
       "3  rockstar games  ...              0             0             0   \n",
       "4  rockstar games  ...              0             0             0   \n",
       "\n",
       "   genre_Role-Playing genre_Shooter  genre_Simulation genre_Sports  \\\n",
       "0                   0             0                 0            0   \n",
       "1                   0             0                 0            0   \n",
       "2                   0             0                 0            0   \n",
       "3                   0             0                 0            0   \n",
       "4                   0             0                 0            0   \n",
       "\n",
       "   genre_Strategy  genre_Visual+Novel  labels  \n",
       "0               0                   0       5  \n",
       "1               0                   0       0  \n",
       "2               0                   0       0  \n",
       "3               0                   0       0  \n",
       "4               0                   0       1  \n",
       "\n",
       "[5 rows x 85 columns]"
      ]
     },
     "execution_count": 2,
     "metadata": {},
     "output_type": "execute_result"
    }
   ],
   "source": [
    "df = pd.read_csv(\"../data/vgsales_eda2_ready.csv\", sep=\",\")\n",
    "print ('Input shape',df.shape)  # (7524, 21)\n",
    "df.head()\n",
    "\n",
    "#df = df[df['oem']!= 'Others']\n",
    "#df.shape"
   ]
  },
  {
   "cell_type": "code",
   "execution_count": 4,
   "id": "331ef56a",
   "metadata": {},
   "outputs": [
    {
     "data": {
      "text/plain": [
       "Index(['Score_pro', 'Score_user', 'N_pro', 'N_user', 'compound', 'N_pro.log',\n",
       "       'N_user.log', 'PC', 'nintendo', 'playstation', 'xbox', 'pub_activision',\n",
       "       'pub_amc games', 'pub_capcom', 'pub_ea games', 'pub_ea sports',\n",
       "       'pub_electronic arts', 'pub_konami', 'pub_nintendo', 'pub_scea',\n",
       "       'pub_sega', 'pub_thq', 'pub_ubisoft', 'lic_FIFA', 'lic_Final Fantasy',\n",
       "       'lic_Harry Potter', 'lic_Marvel', 'lic_NBA', 'lic_Others',\n",
       "       'lic_Prince of Persia', 'lic_Sonic The Hedgehog', 'lic_Star Wars',\n",
       "       'lic_The Sims', 'lic_Tom Clancy’s', 'lic_WWE', 'year.release_2001',\n",
       "       'year.release_2002', 'year.release_2003', 'year.release_2004',\n",
       "       'year.release_2005', 'year.release_2006', 'year.release_2007',\n",
       "       'year.release_2008', 'year.release_2009', 'year.release_2010',\n",
       "       'year.release_2011', 'year.release_2012', 'year.release_2013',\n",
       "       'year.release_2014', 'year.release_2015', 'year.release_2016',\n",
       "       'year.release_2017', 'year.release_2018', 'genre_Action-Adventure',\n",
       "       'genre_Adventure', 'genre_Fighting', 'genre_MMO', 'genre_Misc',\n",
       "       'genre_Music', 'genre_Party', 'genre_Platform', 'genre_Puzzle',\n",
       "       'genre_Racing', 'genre_Role-Playing', 'genre_Shooter',\n",
       "       'genre_Simulation', 'genre_Sports', 'genre_Strategy',\n",
       "       'genre_Visual+Novel', 'labels'],\n",
       "      dtype='object')"
      ]
     },
     "execution_count": 4,
     "metadata": {},
     "output_type": "execute_result"
    }
   ],
   "source": [
    "# Séparer les variables explicatives de la variable à prédire\n",
    "bins=8\n",
    "target = pd.qcut(df['Global_Sales'],q=bins, labels=[i for i in range(0,bins)]).astype('int64')\n",
    "\n",
    "data = df.select_dtypes(exclude='object').drop(['Global_Sales','Global_Sales.log','year',\n",
    "                                               #'day', 'year', 'month', 'quarter', 'anom',\n",
    "                                               ],axis=1)\n",
    "\n",
    "data.columns"
   ]
  },
  {
   "cell_type": "code",
   "execution_count": 116,
   "id": "e36c2fd0",
   "metadata": {
    "scrolled": false
   },
   "outputs": [
    {
     "name": "stdout",
     "output_type": "stream",
     "text": [
      "              precision    recall  f1-score   support\n",
      "\n",
      "           0       0.64      0.70      0.67       242\n",
      "           1       0.32      0.29      0.30       173\n",
      "           2       0.29      0.41      0.34       207\n",
      "           3       0.28      0.26      0.27       194\n",
      "           4       0.36      0.25      0.29       198\n",
      "           5       0.35      0.28      0.31       239\n",
      "           6       0.42      0.41      0.41       217\n",
      "           7       0.63      0.73      0.68       226\n",
      "\n",
      "    accuracy                           0.43      1696\n",
      "   macro avg       0.41      0.41      0.41      1696\n",
      "weighted avg       0.42      0.43      0.42      1696\n",
      "\n"
     ]
    },
    {
     "data": {
      "image/png": "[encoded data removed]",
      "text/plain": [
       "<Figure size 432x288 with 1 Axes>"
      ]
     },
     "metadata": {
      "needs_background": "light"
     },
     "output_type": "display_data"
    },
    {
     "data": {
      "image/png": "[encoded data removed]",
      "text/plain": [
       "<Figure size 1152x864 with 2 Axes>"
      ]
     },
     "metadata": {
      "needs_background": "light"
     },
     "output_type": "display_data"
    }
   ],
   "source": [
    "# Séparer le jeu de données en données d'entraînement et données test \n",
    "X_train, X_test, y_train, y_test = train_test_split(data, target, test_size=0.20, random_state=0)\n",
    "\n",
    "# Créer un classificateur clf et entraîner le modèle sur l'ensemble d'entraînement\n",
    "# GradientBoostingClassifier, RandomForestClassifier, DecisionTreeClassifier\n",
    "clf = RandomForestClassifier().fit(X_train, y_train)\n",
    "\n",
    "# Calculer les prédictions \n",
    "y_pred = clf.predict(X_test)\n",
    "\n",
    "feats = {}\n",
    "for feature, importance in zip(data.columns, clf.feature_importances_):\n",
    "    feats[feature] = importance\n",
    "    \n",
    "importances = pd.DataFrame.from_dict(feats , orient='index').rename(columns={0: 'Importance'})\n",
    "importances.sort_values(by='Importance', ascending=False).head(20).plot.bar();\n",
    "\n",
    "# Calcul et affichage de classification_report\n",
    "print( classification_report(y_test, y_pred) )\n",
    "#sns.heatmap( pd.DataFrame(clf_report).iloc[:-1, :].T, annot=True, cmap= 'GnBu', cbar=False,ax=axes[0])\n",
    "\n",
    "\n",
    "# Calcul et affichage de la matrice de confusion\n",
    "contingency_matrix  = pd.crosstab(y_test, y_pred, rownames=['Classe réelle'], colnames=['Classe prédite'])\n",
    "fig, ax = plt.subplots(figsize=(16,12))\n",
    "sns.heatmap(contingency_matrix.T, annot=True, cmap=\"YlGnBu\", cbar=True, ax=ax);"
   ]
  },
  {
   "cell_type": "code",
   "execution_count": 117,
   "id": "6808ef39",
   "metadata": {},
   "outputs": [
    {
     "data": {
      "text/plain": [
       "(1.0, 0.42629716981132076)"
      ]
     },
     "execution_count": 117,
     "metadata": {},
     "output_type": "execute_result"
    }
   ],
   "source": [
    "clf.score(X_train, y_train), clf.score(X_test, y_test)"
   ]
  }
 ],
 "metadata": {
  "kernelspec": {
   "display_name": "Python 3",
   "language": "python",
   "name": "python3"
  },
  "language_info": {
   "codemirror_mode": {
    "name": "ipython",
    "version": 3
   },
   "file_extension": ".py",
   "mimetype": "text/x-python",
   "name": "python",
   "nbconvert_exporter": "python",
   "pygments_lexer": "ipython3",
   "version": "3.9.5"
  }
 },
 "nbformat": 4,
 "nbformat_minor": 5
}
