{
 "cells": [
  {
   "cell_type": "code",
   "execution_count": 2,
   "id": "eaeeab43",
   "metadata": {},
   "outputs": [],
   "source": [
    "import pandas as pd\n",
    "import numpy as np\n",
    "import matplotlib.pyplot as plt\n",
    "import seaborn as sns"
   ]
  },
  {
   "cell_type": "code",
   "execution_count": 23,
   "id": "086d8784",
   "metadata": {},
   "outputs": [
    {
     "name": "stdout",
     "output_type": "stream",
     "text": [
      "   Unnamed: 0               Name  multiplayer  singleplayer  awarded\n",
      "0           0         Wii Sports            1             1      1.0\n",
      "1           1  Super Mario Bros.            1             1      0.0\n",
      "2           2     Mario Kart Wii            1             1      1.0\n",
      "3           3  Wii Sports Resort            1             1      0.0\n",
      "4           5             Tetris            1             1      1.0\n",
      "<class 'pandas.core.frame.DataFrame'>\n",
      "RangeIndex: 5438 entries, 0 to 5437\n",
      "Data columns (total 5 columns):\n",
      " #   Column        Non-Null Count  Dtype  \n",
      "---  ------        --------------  -----  \n",
      " 0   Unnamed: 0    5438 non-null   int64  \n",
      " 1   Name          5438 non-null   object \n",
      " 2   multiplayer   5438 non-null   int64  \n",
      " 3   singleplayer  5438 non-null   int64  \n",
      " 4   awarded       5438 non-null   float64\n",
      "dtypes: float64(1), int64(3), object(1)\n",
      "memory usage: 212.5+ KB\n"
     ]
    }
   ],
   "source": [
    "wiki = pd.read_csv('vgsales_wikipedia.csv')\n",
    "print(wiki.head(5))\n",
    "wiki.info()"
   ]
  },
  {
   "cell_type": "code",
   "execution_count": 24,
   "id": "572e1132",
   "metadata": {},
   "outputs": [
    {
     "name": "stdout",
     "output_type": "stream",
     "text": [
      "   Unnamed: 0  Rank                      Name Platform    Year         Genre  \\\n",
      "0           0     1                Wii Sports      Wii  2006.0        Sports   \n",
      "1           1     2         Super Mario Bros.      NES  1985.0      Platform   \n",
      "2           2     3            Mario Kart Wii      Wii  2008.0        Racing   \n",
      "3           3     4         Wii Sports Resort      Wii  2009.0        Sports   \n",
      "4           4     5  Pokemon Red/Pokemon Blue       GB  1996.0  Role-Playing   \n",
      "\n",
      "  Publisher  NA_Sales  EU_Sales  JP_Sales  Other_Sales  Global_Sales  \\\n",
      "0  Nintendo     41.49     29.02      3.77         8.46         82.74   \n",
      "1  Nintendo     29.08      3.58      6.81         0.77         40.24   \n",
      "2  Nintendo     15.85     12.88      3.79         3.31         35.82   \n",
      "3  Nintendo     15.75     11.01      3.28         2.96         33.00   \n",
      "4  Nintendo     11.27      8.89     10.22         1.00         31.37   \n",
      "\n",
      "        series  \n",
      "0          Wii  \n",
      "1  Super Mario  \n",
      "2   Mario Kart  \n",
      "3          Wii  \n",
      "4          NaN  \n",
      "<class 'pandas.core.frame.DataFrame'>\n",
      "RangeIndex: 16598 entries, 0 to 16597\n",
      "Data columns (total 13 columns):\n",
      " #   Column        Non-Null Count  Dtype  \n",
      "---  ------        --------------  -----  \n",
      " 0   Unnamed: 0    16598 non-null  int64  \n",
      " 1   Rank          16598 non-null  int64  \n",
      " 2   Name          16598 non-null  object \n",
      " 3   Platform      16598 non-null  object \n",
      " 4   Year          16327 non-null  float64\n",
      " 5   Genre         16598 non-null  object \n",
      " 6   Publisher     16540 non-null  object \n",
      " 7   NA_Sales      16598 non-null  float64\n",
      " 8   EU_Sales      16598 non-null  float64\n",
      " 9   JP_Sales      16598 non-null  float64\n",
      " 10  Other_Sales   16598 non-null  float64\n",
      " 11  Global_Sales  16598 non-null  float64\n",
      " 12  series        12037 non-null  object \n",
      "dtypes: float64(6), int64(2), object(5)\n",
      "memory usage: 1.6+ MB\n"
     ]
    }
   ],
   "source": [
    "serie = pd.read_csv('vgnew_series.csv')\n",
    "print(serie.head(5))\n",
    "serie.info()"
   ]
  },
  {
   "cell_type": "code",
   "execution_count": 25,
   "id": "92776eca",
   "metadata": {},
   "outputs": [
    {
     "name": "stdout",
     "output_type": "stream",
     "text": [
      "<class 'pandas.core.frame.DataFrame'>\n",
      "RangeIndex: 16598 entries, 0 to 16597\n",
      "Data columns (total 18 columns):\n",
      " #   Column        Non-Null Count  Dtype  \n",
      "---  ------        --------------  -----  \n",
      " 0   Rank          16598 non-null  int64  \n",
      " 1   Name          16598 non-null  object \n",
      " 2   Platform      16572 non-null  object \n",
      " 3   Year          16301 non-null  float64\n",
      " 4   Genre         16572 non-null  object \n",
      " 5   Publisher     16514 non-null  object \n",
      " 6   NA_Sales      16572 non-null  float64\n",
      " 7   EU_Sales      16572 non-null  float64\n",
      " 8   JP_Sales      16572 non-null  float64\n",
      " 9   Other_Sales   16572 non-null  float64\n",
      " 10  Global_Sales  16572 non-null  float64\n",
      " 11  multiplayer   8695 non-null   object \n",
      " 12  singleplayer  8695 non-null   object \n",
      " 13  viewconut     2172 non-null   float64\n",
      " 14  likecount     2172 non-null   float64\n",
      " 15  commentcount  2172 non-null   float64\n",
      " 16  videotitle    2172 non-null   object \n",
      " 17  published     2172 non-null   object \n",
      "dtypes: float64(9), int64(1), object(8)\n",
      "memory usage: 2.3+ MB\n"
     ]
    }
   ],
   "source": [
    "yt = pd.read_csv('vgnew_nodesc3.csv',sep = ';')\n",
    "yt.head(5)\n",
    "\n",
    "yt.info()\n"
   ]
  },
  {
   "cell_type": "code",
   "execution_count": 26,
   "id": "5363d508",
   "metadata": {},
   "outputs": [],
   "source": [
    "yt = yt.dropna()"
   ]
  },
  {
   "cell_type": "code",
   "execution_count": 27,
   "id": "9d6bbbe5",
   "metadata": {},
   "outputs": [
    {
     "name": "stdout",
     "output_type": "stream",
     "text": [
      "<class 'pandas.core.frame.DataFrame'>\n",
      "Int64Index: 1608 entries, 0 to 2193\n",
      "Data columns (total 18 columns):\n",
      " #   Column        Non-Null Count  Dtype  \n",
      "---  ------        --------------  -----  \n",
      " 0   Rank          1608 non-null   int64  \n",
      " 1   Name          1608 non-null   object \n",
      " 2   Platform      1608 non-null   object \n",
      " 3   Year          1608 non-null   float64\n",
      " 4   Genre         1608 non-null   object \n",
      " 5   Publisher     1608 non-null   object \n",
      " 6   NA_Sales      1608 non-null   float64\n",
      " 7   EU_Sales      1608 non-null   float64\n",
      " 8   JP_Sales      1608 non-null   float64\n",
      " 9   Other_Sales   1608 non-null   float64\n",
      " 10  Global_Sales  1608 non-null   float64\n",
      " 11  multiplayer   1608 non-null   object \n",
      " 12  singleplayer  1608 non-null   object \n",
      " 13  viewconut     1608 non-null   float64\n",
      " 14  likecount     1608 non-null   float64\n",
      " 15  commentcount  1608 non-null   float64\n",
      " 16  videotitle    1608 non-null   object \n",
      " 17  published     1608 non-null   object \n",
      "dtypes: float64(9), int64(1), object(8)\n",
      "memory usage: 238.7+ KB\n"
     ]
    }
   ],
   "source": [
    "yt.info()"
   ]
  },
  {
   "cell_type": "code",
   "execution_count": 28,
   "id": "c988c68b",
   "metadata": {},
   "outputs": [],
   "source": [
    "serie = serie.dropna()"
   ]
  },
  {
   "cell_type": "code",
   "execution_count": 29,
   "id": "31fd6bef",
   "metadata": {},
   "outputs": [
    {
     "name": "stdout",
     "output_type": "stream",
     "text": [
      "<class 'pandas.core.frame.DataFrame'>\n",
      "Int64Index: 11806 entries, 0 to 16597\n",
      "Data columns (total 13 columns):\n",
      " #   Column        Non-Null Count  Dtype  \n",
      "---  ------        --------------  -----  \n",
      " 0   Unnamed: 0    11806 non-null  int64  \n",
      " 1   Rank          11806 non-null  int64  \n",
      " 2   Name          11806 non-null  object \n",
      " 3   Platform      11806 non-null  object \n",
      " 4   Year          11806 non-null  float64\n",
      " 5   Genre         11806 non-null  object \n",
      " 6   Publisher     11806 non-null  object \n",
      " 7   NA_Sales      11806 non-null  float64\n",
      " 8   EU_Sales      11806 non-null  float64\n",
      " 9   JP_Sales      11806 non-null  float64\n",
      " 10  Other_Sales   11806 non-null  float64\n",
      " 11  Global_Sales  11806 non-null  float64\n",
      " 12  series        11806 non-null  object \n",
      "dtypes: float64(6), int64(2), object(5)\n",
      "memory usage: 1.3+ MB\n"
     ]
    }
   ],
   "source": [
    "serie.info()"
   ]
  },
  {
   "cell_type": "code",
   "execution_count": 30,
   "id": "8ce05227",
   "metadata": {},
   "outputs": [
    {
     "name": "stdout",
     "output_type": "stream",
     "text": [
      "<class 'pandas.core.frame.DataFrame'>\n",
      "Int64Index: 5438 entries, 0 to 5437\n",
      "Data columns (total 5 columns):\n",
      " #   Column        Non-Null Count  Dtype  \n",
      "---  ------        --------------  -----  \n",
      " 0   Unnamed: 0    5438 non-null   int64  \n",
      " 1   Name          5438 non-null   object \n",
      " 2   multiplayer   5438 non-null   int64  \n",
      " 3   singleplayer  5438 non-null   int64  \n",
      " 4   awarded       5438 non-null   float64\n",
      "dtypes: float64(1), int64(3), object(1)\n",
      "memory usage: 254.9+ KB\n"
     ]
    }
   ],
   "source": [
    "wiki = wiki.dropna()\n",
    "wiki.info()"
   ]
  },
  {
   "cell_type": "code",
   "execution_count": 31,
   "id": "09e431b4",
   "metadata": {},
   "outputs": [],
   "source": [
    "df = wiki.merge(serie,how = 'inner', on = 'Name')"
   ]
  },
  {
   "cell_type": "code",
   "execution_count": 32,
   "id": "921db5c8",
   "metadata": {},
   "outputs": [
    {
     "name": "stdout",
     "output_type": "stream",
     "text": [
      "<class 'pandas.core.frame.DataFrame'>\n",
      "Int64Index: 8550 entries, 0 to 8549\n",
      "Data columns (total 17 columns):\n",
      " #   Column        Non-Null Count  Dtype  \n",
      "---  ------        --------------  -----  \n",
      " 0   Unnamed: 0_x  8550 non-null   int64  \n",
      " 1   Name          8550 non-null   object \n",
      " 2   multiplayer   8550 non-null   int64  \n",
      " 3   singleplayer  8550 non-null   int64  \n",
      " 4   awarded       8550 non-null   float64\n",
      " 5   Unnamed: 0_y  8550 non-null   int64  \n",
      " 6   Rank          8550 non-null   int64  \n",
      " 7   Platform      8550 non-null   object \n",
      " 8   Year          8550 non-null   float64\n",
      " 9   Genre         8550 non-null   object \n",
      " 10  Publisher     8550 non-null   object \n",
      " 11  NA_Sales      8550 non-null   float64\n",
      " 12  EU_Sales      8550 non-null   float64\n",
      " 13  JP_Sales      8550 non-null   float64\n",
      " 14  Other_Sales   8550 non-null   float64\n",
      " 15  Global_Sales  8550 non-null   float64\n",
      " 16  series        8550 non-null   object \n",
      "dtypes: float64(7), int64(5), object(5)\n",
      "memory usage: 1.2+ MB\n"
     ]
    }
   ],
   "source": [
    "df.info()"
   ]
  },
  {
   "cell_type": "code",
   "execution_count": 33,
   "id": "ef9379ca",
   "metadata": {},
   "outputs": [],
   "source": [
    "df.to_csv('wiki_merge.csv')"
   ]
  },
  {
   "cell_type": "code",
   "execution_count": 40,
   "id": "e529d6b2",
   "metadata": {},
   "outputs": [],
   "source": [
    "wiki_merge = pd.read_csv('wiki_merge.csv',sep = ';')"
   ]
  },
  {
   "cell_type": "code",
   "execution_count": 41,
   "id": "8cf5a1e1",
   "metadata": {},
   "outputs": [
    {
     "data": {
      "text/html": [
       "<div>\n",
       "<style scoped>\n",
       "    .dataframe tbody tr th:only-of-type {\n",
       "        vertical-align: middle;\n",
       "    }\n",
       "\n",
       "    .dataframe tbody tr th {\n",
       "        vertical-align: top;\n",
       "    }\n",
       "\n",
       "    .dataframe thead th {\n",
       "        text-align: right;\n",
       "    }\n",
       "</style>\n",
       "<table border=\"1\" class=\"dataframe\">\n",
       "  <thead>\n",
       "    <tr style=\"text-align: right;\">\n",
       "      <th></th>\n",
       "      <th>Name</th>\n",
       "      <th>multiplayer</th>\n",
       "      <th>singleplayer</th>\n",
       "      <th>awarded</th>\n",
       "      <th>Platform</th>\n",
       "      <th>Year</th>\n",
       "      <th>Genre</th>\n",
       "      <th>Publisher</th>\n",
       "      <th>NA_Sales</th>\n",
       "      <th>EU_Sales</th>\n",
       "      <th>JP_Sales</th>\n",
       "      <th>Other_Sales</th>\n",
       "      <th>Global_Sales</th>\n",
       "      <th>series</th>\n",
       "    </tr>\n",
       "  </thead>\n",
       "  <tbody>\n",
       "    <tr>\n",
       "      <th>0</th>\n",
       "      <td>Wii Sports</td>\n",
       "      <td>1.0</td>\n",
       "      <td>1.0</td>\n",
       "      <td>1.0</td>\n",
       "      <td>Wii</td>\n",
       "      <td>2006.0</td>\n",
       "      <td>Sports</td>\n",
       "      <td>Nintendo</td>\n",
       "      <td>41.49</td>\n",
       "      <td>29.02</td>\n",
       "      <td>3.77</td>\n",
       "      <td>8.46</td>\n",
       "      <td>82.74</td>\n",
       "      <td>Wii</td>\n",
       "    </tr>\n",
       "    <tr>\n",
       "      <th>1</th>\n",
       "      <td>Super Mario Bros.</td>\n",
       "      <td>1.0</td>\n",
       "      <td>1.0</td>\n",
       "      <td>0.0</td>\n",
       "      <td>NES</td>\n",
       "      <td>1985.0</td>\n",
       "      <td>Platform</td>\n",
       "      <td>Nintendo</td>\n",
       "      <td>29.08</td>\n",
       "      <td>3.58</td>\n",
       "      <td>6.81</td>\n",
       "      <td>0.77</td>\n",
       "      <td>40.24</td>\n",
       "      <td>Super Mario</td>\n",
       "    </tr>\n",
       "    <tr>\n",
       "      <th>2</th>\n",
       "      <td>Super Mario Bros.</td>\n",
       "      <td>1.0</td>\n",
       "      <td>1.0</td>\n",
       "      <td>0.0</td>\n",
       "      <td>GB</td>\n",
       "      <td>1999.0</td>\n",
       "      <td>Platform</td>\n",
       "      <td>Nintendo</td>\n",
       "      <td>3.40</td>\n",
       "      <td>1.30</td>\n",
       "      <td>0.15</td>\n",
       "      <td>0.22</td>\n",
       "      <td>5.07</td>\n",
       "      <td>Super Mario</td>\n",
       "    </tr>\n",
       "    <tr>\n",
       "      <th>3</th>\n",
       "      <td>Mario Kart Wii</td>\n",
       "      <td>1.0</td>\n",
       "      <td>1.0</td>\n",
       "      <td>1.0</td>\n",
       "      <td>Wii</td>\n",
       "      <td>2008.0</td>\n",
       "      <td>Racing</td>\n",
       "      <td>Nintendo</td>\n",
       "      <td>15.85</td>\n",
       "      <td>12.88</td>\n",
       "      <td>3.79</td>\n",
       "      <td>3.31</td>\n",
       "      <td>35.82</td>\n",
       "      <td>Mario Kart</td>\n",
       "    </tr>\n",
       "    <tr>\n",
       "      <th>4</th>\n",
       "      <td>Wii Sports Resort</td>\n",
       "      <td>1.0</td>\n",
       "      <td>1.0</td>\n",
       "      <td>0.0</td>\n",
       "      <td>Wii</td>\n",
       "      <td>2009.0</td>\n",
       "      <td>Sports</td>\n",
       "      <td>Nintendo</td>\n",
       "      <td>15.75</td>\n",
       "      <td>11.01</td>\n",
       "      <td>3.28</td>\n",
       "      <td>2.96</td>\n",
       "      <td>33.00</td>\n",
       "      <td>Wii</td>\n",
       "    </tr>\n",
       "    <tr>\n",
       "      <th>...</th>\n",
       "      <td>...</td>\n",
       "      <td>...</td>\n",
       "      <td>...</td>\n",
       "      <td>...</td>\n",
       "      <td>...</td>\n",
       "      <td>...</td>\n",
       "      <td>...</td>\n",
       "      <td>...</td>\n",
       "      <td>...</td>\n",
       "      <td>...</td>\n",
       "      <td>...</td>\n",
       "      <td>...</td>\n",
       "      <td>...</td>\n",
       "      <td>...</td>\n",
       "    </tr>\n",
       "    <tr>\n",
       "      <th>8545</th>\n",
       "      <td>Bookworm Deluxe</td>\n",
       "      <td>0.0</td>\n",
       "      <td>1.0</td>\n",
       "      <td>0.0</td>\n",
       "      <td>PC</td>\n",
       "      <td>2006.0</td>\n",
       "      <td>Puzzle</td>\n",
       "      <td>PopCap Games</td>\n",
       "      <td>0.01</td>\n",
       "      <td>0.00</td>\n",
       "      <td>0.00</td>\n",
       "      <td>0.00</td>\n",
       "      <td>0.01</td>\n",
       "      <td>NO FRANCHISE</td>\n",
       "    </tr>\n",
       "    <tr>\n",
       "      <th>8546</th>\n",
       "      <td>Super Robot Taisen: Original Generation</td>\n",
       "      <td>0.0</td>\n",
       "      <td>1.0</td>\n",
       "      <td>0.0</td>\n",
       "      <td>GBA</td>\n",
       "      <td>2002.0</td>\n",
       "      <td>Role-Playing</td>\n",
       "      <td>Banpresto</td>\n",
       "      <td>0.01</td>\n",
       "      <td>0.00</td>\n",
       "      <td>0.00</td>\n",
       "      <td>0.00</td>\n",
       "      <td>0.01</td>\n",
       "      <td>NO FRANCHISE</td>\n",
       "    </tr>\n",
       "    <tr>\n",
       "      <th>8547</th>\n",
       "      <td>Teslagrad</td>\n",
       "      <td>0.0</td>\n",
       "      <td>1.0</td>\n",
       "      <td>0.0</td>\n",
       "      <td>PSV</td>\n",
       "      <td>2015.0</td>\n",
       "      <td>Platform</td>\n",
       "      <td>Rain Games</td>\n",
       "      <td>0.00</td>\n",
       "      <td>0.01</td>\n",
       "      <td>0.00</td>\n",
       "      <td>0.00</td>\n",
       "      <td>0.01</td>\n",
       "      <td>NO FRANCHISE</td>\n",
       "    </tr>\n",
       "    <tr>\n",
       "      <th>8548</th>\n",
       "      <td>End of Nations</td>\n",
       "      <td>1.0</td>\n",
       "      <td>1.0</td>\n",
       "      <td>0.0</td>\n",
       "      <td>PC</td>\n",
       "      <td>2012.0</td>\n",
       "      <td>Strategy</td>\n",
       "      <td>Trion Worlds</td>\n",
       "      <td>0.01</td>\n",
       "      <td>0.00</td>\n",
       "      <td>0.00</td>\n",
       "      <td>0.00</td>\n",
       "      <td>0.01</td>\n",
       "      <td>NO FRANCHISE</td>\n",
       "    </tr>\n",
       "    <tr>\n",
       "      <th>8549</th>\n",
       "      <td>Carmageddon 64</td>\n",
       "      <td>0.0</td>\n",
       "      <td>1.0</td>\n",
       "      <td>0.0</td>\n",
       "      <td>N64</td>\n",
       "      <td>1999.0</td>\n",
       "      <td>Action</td>\n",
       "      <td>Virgin Interactive</td>\n",
       "      <td>0.01</td>\n",
       "      <td>0.00</td>\n",
       "      <td>0.00</td>\n",
       "      <td>0.00</td>\n",
       "      <td>0.01</td>\n",
       "      <td>NO FRANCHISE</td>\n",
       "    </tr>\n",
       "  </tbody>\n",
       "</table>\n",
       "<p>8550 rows × 14 columns</p>\n",
       "</div>"
      ],
      "text/plain": [
       "                                         Name  multiplayer  singleplayer  \\\n",
       "0                                  Wii Sports          1.0           1.0   \n",
       "1                           Super Mario Bros.          1.0           1.0   \n",
       "2                           Super Mario Bros.          1.0           1.0   \n",
       "3                              Mario Kart Wii          1.0           1.0   \n",
       "4                           Wii Sports Resort          1.0           1.0   \n",
       "...                                       ...          ...           ...   \n",
       "8545                          Bookworm Deluxe          0.0           1.0   \n",
       "8546  Super Robot Taisen: Original Generation          0.0           1.0   \n",
       "8547                                Teslagrad          0.0           1.0   \n",
       "8548                           End of Nations          1.0           1.0   \n",
       "8549                           Carmageddon 64          0.0           1.0   \n",
       "\n",
       "      awarded Platform    Year         Genre           Publisher  NA_Sales  \\\n",
       "0         1.0      Wii  2006.0        Sports            Nintendo     41.49   \n",
       "1         0.0      NES  1985.0      Platform            Nintendo     29.08   \n",
       "2         0.0       GB  1999.0      Platform            Nintendo      3.40   \n",
       "3         1.0      Wii  2008.0        Racing            Nintendo     15.85   \n",
       "4         0.0      Wii  2009.0        Sports            Nintendo     15.75   \n",
       "...       ...      ...     ...           ...                 ...       ...   \n",
       "8545      0.0       PC  2006.0        Puzzle        PopCap Games      0.01   \n",
       "8546      0.0      GBA  2002.0  Role-Playing           Banpresto      0.01   \n",
       "8547      0.0      PSV  2015.0      Platform          Rain Games      0.00   \n",
       "8548      0.0       PC  2012.0      Strategy        Trion Worlds      0.01   \n",
       "8549      0.0      N64  1999.0        Action  Virgin Interactive      0.01   \n",
       "\n",
       "      EU_Sales  JP_Sales  Other_Sales  Global_Sales        series  \n",
       "0        29.02      3.77         8.46         82.74           Wii  \n",
       "1         3.58      6.81         0.77         40.24   Super Mario  \n",
       "2         1.30      0.15         0.22          5.07   Super Mario  \n",
       "3        12.88      3.79         3.31         35.82    Mario Kart  \n",
       "4        11.01      3.28         2.96         33.00           Wii  \n",
       "...        ...       ...          ...           ...           ...  \n",
       "8545      0.00      0.00         0.00          0.01  NO FRANCHISE  \n",
       "8546      0.00      0.00         0.00          0.01  NO FRANCHISE  \n",
       "8547      0.01      0.00         0.00          0.01  NO FRANCHISE  \n",
       "8548      0.00      0.00         0.00          0.01  NO FRANCHISE  \n",
       "8549      0.00      0.00         0.00          0.01  NO FRANCHISE  \n",
       "\n",
       "[8550 rows x 14 columns]"
      ]
     },
     "execution_count": 41,
     "metadata": {},
     "output_type": "execute_result"
    }
   ],
   "source": [
    "wiki_merge"
   ]
  },
  {
   "cell_type": "code",
   "execution_count": 53,
   "id": "1987e222",
   "metadata": {},
   "outputs": [],
   "source": [
    "df1 = wiki_merge.groupby('series')['Global_Sales'].sum().reset_index()"
   ]
  },
  {
   "cell_type": "code",
   "execution_count": 61,
   "id": "ffb461c5",
   "metadata": {},
   "outputs": [],
   "source": [
    "df2 = df1.sort_values(by = 'Global_Sales',ascending = False)"
   ]
  },
  {
   "cell_type": "code",
   "execution_count": 62,
   "id": "be276275",
   "metadata": {},
   "outputs": [
    {
     "data": {
      "text/plain": [
       "Index(['series', 'Global_Sales'], dtype='object')"
      ]
     },
     "execution_count": 62,
     "metadata": {},
     "output_type": "execute_result"
    }
   ],
   "source": [
    "df2.columns"
   ]
  },
  {
   "cell_type": "code",
   "execution_count": 71,
   "id": "874e2206",
   "metadata": {},
   "outputs": [],
   "source": [
    "df3 = df2[df2.series != 'NO FRANCHISE']"
   ]
  },
  {
   "cell_type": "code",
   "execution_count": 72,
   "id": "c96146c2",
   "metadata": {},
   "outputs": [
    {
     "data": {
      "image/png": "[encoded data removed]",
      "text/plain": [
       "<Figure size 432x288 with 1 Axes>"
      ]
     },
     "metadata": {
      "needs_background": "light"
     },
     "output_type": "display_data"
    }
   ],
   "source": [
    "plt.bar(x = 'series', height = 'Global_Sales', data = df3.head(20),color = 'b')\n",
    "plt.tick_params(axis='x', labelrotation=90)\n"
   ]
  },
  {
   "cell_type": "code",
   "execution_count": null,
   "id": "7c990964",
   "metadata": {},
   "outputs": [],
   "source": []
  }
 ],
 "metadata": {
  "kernelspec": {
   "display_name": "Python 3 (ipykernel)",
   "language": "python",
   "name": "python3"
  },
  "language_info": {
   "codemirror_mode": {
    "name": "ipython",
    "version": 3
   },
   "file_extension": ".py",
   "mimetype": "text/x-python",
   "name": "python",
   "nbconvert_exporter": "python",
   "pygments_lexer": "ipython3",
   "version": "3.7.7"
  }
 },
 "nbformat": 4,
 "nbformat_minor": 5
}
