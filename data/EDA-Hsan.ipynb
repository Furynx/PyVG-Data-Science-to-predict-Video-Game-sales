{
 "cells": [
  {
   "cell_type": "code",
   "execution_count": 2,
   "id": "23d207b3",
   "metadata": {},
   "outputs": [],
   "source": [
    "import pandas as pd\n",
    "import numpy as np\n",
    "import matplotlib.pyplot as plt\n",
    "import seaborn as sns"
   ]
  },
  {
   "cell_type": "code",
   "execution_count": 23,
   "id": "17703b57",
   "metadata": {},
   "outputs": [
    {
     "name": "stdout",
     "output_type": "stream",
     "text": [
      "   Unnamed: 0               Name  multiplayer  singleplayer  awarded\n",
      "0           0         Wii Sports            1             1      1.0\n",
      "1           1  Super Mario Bros.            1             1      0.0\n",
      "2           2     Mario Kart Wii            1             1      1.0\n",
      "3           3  Wii Sports Resort            1             1      0.0\n",
      "4           5             Tetris            1             1      1.0\n",
      "<class 'pandas.core.frame.DataFrame'>\n",
      "RangeIndex: 5438 entries, 0 to 5437\n",
      "Data columns (total 5 columns):\n",
      " #   Column        Non-Null Count  Dtype  \n",
      "---  ------        --------------  -----  \n",
      " 0   Unnamed: 0    5438 non-null   int64  \n",
      " 1   Name          5438 non-null   object \n",
      " 2   multiplayer   5438 non-null   int64  \n",
      " 3   singleplayer  5438 non-null   int64  \n",
      " 4   awarded       5438 non-null   float64\n",
      "dtypes: float64(1), int64(3), object(1)\n",
      "memory usage: 212.5+ KB\n"
     ]
    }
   ],
   "source": [
    "wiki = pd.read_csv('vgsales_wikipedia.csv')\n",
    "print(wiki.head(5))\n",
    "wiki.info()"
   ]
  },
  {
   "cell_type": "code",
   "execution_count": 24,
   "id": "1f476f57",
   "metadata": {},
   "outputs": [
    {
     "name": "stdout",
     "output_type": "stream",
     "text": [
      "   Unnamed: 0  Rank                      Name Platform    Year         Genre  \\\n",
      "0           0     1                Wii Sports      Wii  2006.0        Sports   \n",
      "1           1     2         Super Mario Bros.      NES  1985.0      Platform   \n",
      "2           2     3            Mario Kart Wii      Wii  2008.0        Racing   \n",
      "3           3     4         Wii Sports Resort      Wii  2009.0        Sports   \n",
      "4           4     5  Pokemon Red/Pokemon Blue       GB  1996.0  Role-Playing   \n",
      "\n",
      "  Publisher  NA_Sales  EU_Sales  JP_Sales  Other_Sales  Global_Sales  \\\n",
      "0  Nintendo     41.49     29.02      3.77         8.46         82.74   \n",
      "1  Nintendo     29.08      3.58      6.81         0.77         40.24   \n",
      "2  Nintendo     15.85     12.88      3.79         3.31         35.82   \n",
      "3  Nintendo     15.75     11.01      3.28         2.96         33.00   \n",
      "4  Nintendo     11.27      8.89     10.22         1.00         31.37   \n",
      "\n",
      "        series  \n",
      "0          Wii  \n",
      "1  Super Mario  \n",
      "2   Mario Kart  \n",
      "3          Wii  \n",
      "4          NaN  \n",
      "<class 'pandas.core.frame.DataFrame'>\n",
      "RangeIndex: 16598 entries, 0 to 16597\n",
      "Data columns (total 13 columns):\n",
      " #   Column        Non-Null Count  Dtype  \n",
      "---  ------        --------------  -----  \n",
      " 0   Unnamed: 0    16598 non-null  int64  \n",
      " 1   Rank          16598 non-null  int64  \n",
      " 2   Name          16598 non-null  object \n",
      " 3   Platform      16598 non-null  object \n",
      " 4   Year          16327 non-null  float64\n",
      " 5   Genre         16598 non-null  object \n",
      " 6   Publisher     16540 non-null  object \n",
      " 7   NA_Sales      16598 non-null  float64\n",
      " 8   EU_Sales      16598 non-null  float64\n",
      " 9   JP_Sales      16598 non-null  float64\n",
      " 10  Other_Sales   16598 non-null  float64\n",
      " 11  Global_Sales  16598 non-null  float64\n",
      " 12  series        12037 non-null  object \n",
      "dtypes: float64(6), int64(2), object(5)\n",
      "memory usage: 1.6+ MB\n"
     ]
    }
   ],
   "source": [
    "serie = pd.read_csv('vgnew_series.csv')\n",
    "print(serie.head(5))\n",
    "serie.info()"
   ]
  },
  {
   "cell_type": "code",
   "execution_count": 25,
   "id": "33b6c05b",
   "metadata": {},
   "outputs": [
    {
     "name": "stdout",
     "output_type": "stream",
     "text": [
      "<class 'pandas.core.frame.DataFrame'>\n",
      "RangeIndex: 16598 entries, 0 to 16597\n",
      "Data columns (total 18 columns):\n",
      " #   Column        Non-Null Count  Dtype  \n",
      "---  ------        --------------  -----  \n",
      " 0   Rank          16598 non-null  int64  \n",
      " 1   Name          16598 non-null  object \n",
      " 2   Platform      16572 non-null  object \n",
      " 3   Year          16301 non-null  float64\n",
      " 4   Genre         16572 non-null  object \n",
      " 5   Publisher     16514 non-null  object \n",
      " 6   NA_Sales      16572 non-null  float64\n",
      " 7   EU_Sales      16572 non-null  float64\n",
      " 8   JP_Sales      16572 non-null  float64\n",
      " 9   Other_Sales   16572 non-null  float64\n",
      " 10  Global_Sales  16572 non-null  float64\n",
      " 11  multiplayer   8695 non-null   object \n",
      " 12  singleplayer  8695 non-null   object \n",
      " 13  viewconut     2172 non-null   float64\n",
      " 14  likecount     2172 non-null   float64\n",
      " 15  commentcount  2172 non-null   float64\n",
      " 16  videotitle    2172 non-null   object \n",
      " 17  published     2172 non-null   object \n",
      "dtypes: float64(9), int64(1), object(8)\n",
      "memory usage: 2.3+ MB\n"
     ]
    }
   ],
   "source": [
    "yt = pd.read_csv('vgnew_nodesc3.csv',sep = ';')\n",
    "yt.head(5)\n",
    "\n",
    "yt.info()\n"
   ]
  },
  {
   "cell_type": "code",
   "execution_count": 26,
   "id": "6df7c7c0",
   "metadata": {},
   "outputs": [],
   "source": [
    "yt = yt.dropna()"
   ]
  },
  {
   "cell_type": "code",
   "execution_count": 27,
   "id": "0849f156",
   "metadata": {},
   "outputs": [
    {
     "name": "stdout",
     "output_type": "stream",
     "text": [
      "<class 'pandas.core.frame.DataFrame'>\n",
      "Int64Index: 1608 entries, 0 to 2193\n",
      "Data columns (total 18 columns):\n",
      " #   Column        Non-Null Count  Dtype  \n",
      "---  ------        --------------  -----  \n",
      " 0   Rank          1608 non-null   int64  \n",
      " 1   Name          1608 non-null   object \n",
      " 2   Platform      1608 non-null   object \n",
      " 3   Year          1608 non-null   float64\n",
      " 4   Genre         1608 non-null   object \n",
      " 5   Publisher     1608 non-null   object \n",
      " 6   NA_Sales      1608 non-null   float64\n",
      " 7   EU_Sales      1608 non-null   float64\n",
      " 8   JP_Sales      1608 non-null   float64\n",
      " 9   Other_Sales   1608 non-null   float64\n",
      " 10  Global_Sales  1608 non-null   float64\n",
      " 11  multiplayer   1608 non-null   object \n",
      " 12  singleplayer  1608 non-null   object \n",
      " 13  viewconut     1608 non-null   float64\n",
      " 14  likecount     1608 non-null   float64\n",
      " 15  commentcount  1608 non-null   float64\n",
      " 16  videotitle    1608 non-null   object \n",
      " 17  published     1608 non-null   object \n",
      "dtypes: float64(9), int64(1), object(8)\n",
      "memory usage: 238.7+ KB\n"
     ]
    }
   ],
   "source": [
    "yt.info()"
   ]
  },
  {
   "cell_type": "code",
   "execution_count": 28,
   "id": "c9f0cff4",
   "metadata": {},
   "outputs": [],
   "source": [
    "serie = serie.dropna()"
   ]
  },
  {
   "cell_type": "code",
   "execution_count": 29,
   "id": "fe903564",
   "metadata": {},
   "outputs": [
    {
     "name": "stdout",
     "output_type": "stream",
     "text": [
      "<class 'pandas.core.frame.DataFrame'>\n",
      "Int64Index: 11806 entries, 0 to 16597\n",
      "Data columns (total 13 columns):\n",
      " #   Column        Non-Null Count  Dtype  \n",
      "---  ------        --------------  -----  \n",
      " 0   Unnamed: 0    11806 non-null  int64  \n",
      " 1   Rank          11806 non-null  int64  \n",
      " 2   Name          11806 non-null  object \n",
      " 3   Platform      11806 non-null  object \n",
      " 4   Year          11806 non-null  float64\n",
      " 5   Genre         11806 non-null  object \n",
      " 6   Publisher     11806 non-null  object \n",
      " 7   NA_Sales      11806 non-null  float64\n",
      " 8   EU_Sales      11806 non-null  float64\n",
      " 9   JP_Sales      11806 non-null  float64\n",
      " 10  Other_Sales   11806 non-null  float64\n",
      " 11  Global_Sales  11806 non-null  float64\n",
      " 12  series        11806 non-null  object \n",
      "dtypes: float64(6), int64(2), object(5)\n",
      "memory usage: 1.3+ MB\n"
     ]
    }
   ],
   "source": [
    "serie.info()"
   ]
  },
  {
   "cell_type": "code",
   "execution_count": 30,
   "id": "61f29116",
   "metadata": {},
   "outputs": [
    {
     "name": "stdout",
     "output_type": "stream",
     "text": [
      "<class 'pandas.core.frame.DataFrame'>\n",
      "Int64Index: 5438 entries, 0 to 5437\n",
      "Data columns (total 5 columns):\n",
      " #   Column        Non-Null Count  Dtype  \n",
      "---  ------        --------------  -----  \n",
      " 0   Unnamed: 0    5438 non-null   int64  \n",
      " 1   Name          5438 non-null   object \n",
      " 2   multiplayer   5438 non-null   int64  \n",
      " 3   singleplayer  5438 non-null   int64  \n",
      " 4   awarded       5438 non-null   float64\n",
      "dtypes: float64(1), int64(3), object(1)\n",
      "memory usage: 254.9+ KB\n"
     ]
    }
   ],
   "source": [
    "wiki = wiki.dropna()\n",
    "wiki.info()"
   ]
  },
  {
   "cell_type": "code",
   "execution_count": 31,
   "id": "94344086",
   "metadata": {},
   "outputs": [],
   "source": [
    "df = wiki.merge(serie,how = 'inner', on = 'Name')"
   ]
  },
  {
   "cell_type": "code",
   "execution_count": 32,
   "id": "e22152f7",
   "metadata": {},
   "outputs": [
    {
     "name": "stdout",
     "output_type": "stream",
     "text": [
      "<class 'pandas.core.frame.DataFrame'>\n",
      "Int64Index: 8550 entries, 0 to 8549\n",
      "Data columns (total 17 columns):\n",
      " #   Column        Non-Null Count  Dtype  \n",
      "---  ------        --------------  -----  \n",
      " 0   Unnamed: 0_x  8550 non-null   int64  \n",
      " 1   Name          8550 non-null   object \n",
      " 2   multiplayer   8550 non-null   int64  \n",
      " 3   singleplayer  8550 non-null   int64  \n",
      " 4   awarded       8550 non-null   float64\n",
      " 5   Unnamed: 0_y  8550 non-null   int64  \n",
      " 6   Rank          8550 non-null   int64  \n",
      " 7   Platform      8550 non-null   object \n",
      " 8   Year          8550 non-null   float64\n",
      " 9   Genre         8550 non-null   object \n",
      " 10  Publisher     8550 non-null   object \n",
      " 11  NA_Sales      8550 non-null   float64\n",
      " 12  EU_Sales      8550 non-null   float64\n",
      " 13  JP_Sales      8550 non-null   float64\n",
      " 14  Other_Sales   8550 non-null   float64\n",
      " 15  Global_Sales  8550 non-null   float64\n",
      " 16  series        8550 non-null   object \n",
      "dtypes: float64(7), int64(5), object(5)\n",
      "memory usage: 1.2+ MB\n"
     ]
    }
   ],
   "source": [
    "df.info()"
   ]
  },
  {
   "cell_type": "code",
   "execution_count": 33,
   "id": "16f8e70a",
   "metadata": {},
   "outputs": [],
   "source": [
    "df.to_csv('wiki_merge.csv')"
   ]
  },
  {
   "cell_type": "code",
   "execution_count": 40,
   "id": "bf4a7aec",
   "metadata": {},
   "outputs": [],
   "source": [
    "wiki_merge = pd.read_csv('wiki_merge.csv',sep = ';')"
   ]
  },
  {
   "cell_type": "code",
   "execution_count": 41,
   "id": "7f4b4fdc",
   "metadata": {},
   "outputs": [
    {
     "data": {
      "text/html": [
       "<div>\n",
       "<style scoped>\n",
       "    .dataframe tbody tr th:only-of-type {\n",
       "        vertical-align: middle;\n",
       "    }\n",
       "\n",
       "    .dataframe tbody tr th {\n",
       "        vertical-align: top;\n",
       "    }\n",
       "\n",
       "    .dataframe thead th {\n",
       "        text-align: right;\n",
       "    }\n",
       "</style>\n",
       "<table border=\"1\" class=\"dataframe\">\n",
       "  <thead>\n",
       "    <tr style=\"text-align: right;\">\n",
       "      <th></th>\n",
       "      <th>Name</th>\n",
       "      <th>multiplayer</th>\n",
       "      <th>singleplayer</th>\n",
       "      <th>awarded</th>\n",
       "      <th>Platform</th>\n",
       "      <th>Year</th>\n",
       "      <th>Genre</th>\n",
       "      <th>Publisher</th>\n",
       "      <th>NA_Sales</th>\n",
       "      <th>EU_Sales</th>\n",
       "      <th>JP_Sales</th>\n",
       "      <th>Other_Sales</th>\n",
       "      <th>Global_Sales</th>\n",
       "      <th>series</th>\n",
       "    </tr>\n",
       "  </thead>\n",
       "  <tbody>\n",
       "    <tr>\n",
       "      <th>0</th>\n",
       "      <td>Wii Sports</td>\n",
       "      <td>1.0</td>\n",
       "      <td>1.0</td>\n",
       "      <td>1.0</td>\n",
       "      <td>Wii</td>\n",
       "      <td>2006.0</td>\n",
       "      <td>Sports</td>\n",
       "      <td>Nintendo</td>\n",
       "      <td>41.49</td>\n",
       "      <td>29.02</td>\n",
       "      <td>3.77</td>\n",
       "      <td>8.46</td>\n",
       "      <td>82.74</td>\n",
       "      <td>Wii</td>\n",
       "    </tr>\n",
       "    <tr>\n",
       "      <th>1</th>\n",
       "      <td>Super Mario Bros.</td>\n",
       "      <td>1.0</td>\n",
       "      <td>1.0</td>\n",
       "      <td>0.0</td>\n",
       "      <td>NES</td>\n",
       "      <td>1985.0</td>\n",
       "      <td>Platform</td>\n",
       "      <td>Nintendo</td>\n",
       "      <td>29.08</td>\n",
       "      <td>3.58</td>\n",
       "      <td>6.81</td>\n",
       "      <td>0.77</td>\n",
       "      <td>40.24</td>\n",
       "      <td>Super Mario</td>\n",
       "    </tr>\n",
       "    <tr>\n",
       "      <th>2</th>\n",
       "      <td>Super Mario Bros.</td>\n",
       "      <td>1.0</td>\n",
       "      <td>1.0</td>\n",
       "      <td>0.0</td>\n",
       "      <td>GB</td>\n",
       "      <td>1999.0</td>\n",
       "      <td>Platform</td>\n",
       "      <td>Nintendo</td>\n",
       "      <td>3.40</td>\n",
       "      <td>1.30</td>\n",
       "      <td>0.15</td>\n",
       "      <td>0.22</td>\n",
       "      <td>5.07</td>\n",
       "      <td>Super Mario</td>\n",
       "    </tr>\n",
       "    <tr>\n",
       "      <th>3</th>\n",
       "      <td>Mario Kart Wii</td>\n",
       "      <td>1.0</td>\n",
       "      <td>1.0</td>\n",
       "      <td>1.0</td>\n",
       "      <td>Wii</td>\n",
       "      <td>2008.0</td>\n",
       "      <td>Racing</td>\n",
       "      <td>Nintendo</td>\n",
       "      <td>15.85</td>\n",
       "      <td>12.88</td>\n",
       "      <td>3.79</td>\n",
       "      <td>3.31</td>\n",
       "      <td>35.82</td>\n",
       "      <td>Mario Kart</td>\n",
       "    </tr>\n",
       "    <tr>\n",
       "      <th>4</th>\n",
       "      <td>Wii Sports Resort</td>\n",
       "      <td>1.0</td>\n",
       "      <td>1.0</td>\n",
       "      <td>0.0</td>\n",
       "      <td>Wii</td>\n",
       "      <td>2009.0</td>\n",
       "      <td>Sports</td>\n",
       "      <td>Nintendo</td>\n",
       "      <td>15.75</td>\n",
       "      <td>11.01</td>\n",
       "      <td>3.28</td>\n",
       "      <td>2.96</td>\n",
       "      <td>33.00</td>\n",
       "      <td>Wii</td>\n",
       "    </tr>\n",
       "    <tr>\n",
       "      <th>...</th>\n",
       "      <td>...</td>\n",
       "      <td>...</td>\n",
       "      <td>...</td>\n",
       "      <td>...</td>\n",
       "      <td>...</td>\n",
       "      <td>...</td>\n",
       "      <td>...</td>\n",
       "      <td>...</td>\n",
       "      <td>...</td>\n",
       "      <td>...</td>\n",
       "      <td>...</td>\n",
       "      <td>...</td>\n",
       "      <td>...</td>\n",
       "      <td>...</td>\n",
       "    </tr>\n",
       "    <tr>\n",
       "      <th>8545</th>\n",
       "      <td>Bookworm Deluxe</td>\n",
       "      <td>0.0</td>\n",
       "      <td>1.0</td>\n",
       "      <td>0.0</td>\n",
       "      <td>PC</td>\n",
       "      <td>2006.0</td>\n",
       "      <td>Puzzle</td>\n",
       "      <td>PopCap Games</td>\n",
       "      <td>0.01</td>\n",
       "      <td>0.00</td>\n",
       "      <td>0.00</td>\n",
       "      <td>0.00</td>\n",
       "      <td>0.01</td>\n",
       "      <td>NO FRANCHISE</td>\n",
       "    </tr>\n",
       "    <tr>\n",
       "      <th>8546</th>\n",
       "      <td>Super Robot Taisen: Original Generation</td>\n",
       "      <td>0.0</td>\n",
       "      <td>1.0</td>\n",
       "      <td>0.0</td>\n",
       "      <td>GBA</td>\n",
       "      <td>2002.0</td>\n",
       "      <td>Role-Playing</td>\n",
       "      <td>Banpresto</td>\n",
       "      <td>0.01</td>\n",
       "      <td>0.00</td>\n",
       "      <td>0.00</td>\n",
       "      <td>0.00</td>\n",
       "      <td>0.01</td>\n",
       "      <td>NO FRANCHISE</td>\n",
       "    </tr>\n",
       "    <tr>\n",
       "      <th>8547</th>\n",
       "      <td>Teslagrad</td>\n",
       "      <td>0.0</td>\n",
       "      <td>1.0</td>\n",
       "      <td>0.0</td>\n",
       "      <td>PSV</td>\n",
       "      <td>2015.0</td>\n",
       "      <td>Platform</td>\n",
       "      <td>Rain Games</td>\n",
       "      <td>0.00</td>\n",
       "      <td>0.01</td>\n",
       "      <td>0.00</td>\n",
       "      <td>0.00</td>\n",
       "      <td>0.01</td>\n",
       "      <td>NO FRANCHISE</td>\n",
       "    </tr>\n",
       "    <tr>\n",
       "      <th>8548</th>\n",
       "      <td>End of Nations</td>\n",
       "      <td>1.0</td>\n",
       "      <td>1.0</td>\n",
       "      <td>0.0</td>\n",
       "      <td>PC</td>\n",
       "      <td>2012.0</td>\n",
       "      <td>Strategy</td>\n",
       "      <td>Trion Worlds</td>\n",
       "      <td>0.01</td>\n",
       "      <td>0.00</td>\n",
       "      <td>0.00</td>\n",
       "      <td>0.00</td>\n",
       "      <td>0.01</td>\n",
       "      <td>NO FRANCHISE</td>\n",
       "    </tr>\n",
       "    <tr>\n",
       "      <th>8549</th>\n",
       "      <td>Carmageddon 64</td>\n",
       "      <td>0.0</td>\n",
       "      <td>1.0</td>\n",
       "      <td>0.0</td>\n",
       "      <td>N64</td>\n",
       "      <td>1999.0</td>\n",
       "      <td>Action</td>\n",
       "      <td>Virgin Interactive</td>\n",
       "      <td>0.01</td>\n",
       "      <td>0.00</td>\n",
       "      <td>0.00</td>\n",
       "      <td>0.00</td>\n",
       "      <td>0.01</td>\n",
       "      <td>NO FRANCHISE</td>\n",
       "    </tr>\n",
       "  </tbody>\n",
       "</table>\n",
       "<p>8550 rows × 14 columns</p>\n",
       "</div>"
      ],
      "text/plain": [
       "                                         Name  multiplayer  singleplayer  \\\n",
       "0                                  Wii Sports          1.0           1.0   \n",
       "1                           Super Mario Bros.          1.0           1.0   \n",
       "2                           Super Mario Bros.          1.0           1.0   \n",
       "3                              Mario Kart Wii          1.0           1.0   \n",
       "4                           Wii Sports Resort          1.0           1.0   \n",
       "...                                       ...          ...           ...   \n",
       "8545                          Bookworm Deluxe          0.0           1.0   \n",
       "8546  Super Robot Taisen: Original Generation          0.0           1.0   \n",
       "8547                                Teslagrad          0.0           1.0   \n",
       "8548                           End of Nations          1.0           1.0   \n",
       "8549                           Carmageddon 64          0.0           1.0   \n",
       "\n",
       "      awarded Platform    Year         Genre           Publisher  NA_Sales  \\\n",
       "0         1.0      Wii  2006.0        Sports            Nintendo     41.49   \n",
       "1         0.0      NES  1985.0      Platform            Nintendo     29.08   \n",
       "2         0.0       GB  1999.0      Platform            Nintendo      3.40   \n",
       "3         1.0      Wii  2008.0        Racing            Nintendo     15.85   \n",
       "4         0.0      Wii  2009.0        Sports            Nintendo     15.75   \n",
       "...       ...      ...     ...           ...                 ...       ...   \n",
       "8545      0.0       PC  2006.0        Puzzle        PopCap Games      0.01   \n",
       "8546      0.0      GBA  2002.0  Role-Playing           Banpresto      0.01   \n",
       "8547      0.0      PSV  2015.0      Platform          Rain Games      0.00   \n",
       "8548      0.0       PC  2012.0      Strategy        Trion Worlds      0.01   \n",
       "8549      0.0      N64  1999.0        Action  Virgin Interactive      0.01   \n",
       "\n",
       "      EU_Sales  JP_Sales  Other_Sales  Global_Sales        series  \n",
       "0        29.02      3.77         8.46         82.74           Wii  \n",
       "1         3.58      6.81         0.77         40.24   Super Mario  \n",
       "2         1.30      0.15         0.22          5.07   Super Mario  \n",
       "3        12.88      3.79         3.31         35.82    Mario Kart  \n",
       "4        11.01      3.28         2.96         33.00           Wii  \n",
       "...        ...       ...          ...           ...           ...  \n",
       "8545      0.00      0.00         0.00          0.01  NO FRANCHISE  \n",
       "8546      0.00      0.00         0.00          0.01  NO FRANCHISE  \n",
       "8547      0.01      0.00         0.00          0.01  NO FRANCHISE  \n",
       "8548      0.00      0.00         0.00          0.01  NO FRANCHISE  \n",
       "8549      0.00      0.00         0.00          0.01  NO FRANCHISE  \n",
       "\n",
       "[8550 rows x 14 columns]"
      ]
     },
     "execution_count": 41,
     "metadata": {},
     "output_type": "execute_result"
    }
   ],
   "source": [
    "wiki_merge"
   ]
  },
  {
   "cell_type": "markdown",
   "id": "a09b8c96",
   "metadata": {},
   "source": [
    "# Global Sales by Series"
   ]
  },
  {
   "cell_type": "code",
   "execution_count": 53,
   "id": "12963954",
   "metadata": {},
   "outputs": [],
   "source": [
    "df1 = wiki_merge.groupby('series')['Global_Sales'].sum().reset_index()"
   ]
  },
  {
   "cell_type": "code",
   "execution_count": 61,
   "id": "6fd2fe92",
   "metadata": {},
   "outputs": [],
   "source": [
    "df2 = df1.sort_values(by = 'Global_Sales',ascending = False)"
   ]
  },
  {
   "cell_type": "code",
   "execution_count": 62,
   "id": "3f093941",
   "metadata": {},
   "outputs": [
    {
     "data": {
      "text/plain": [
       "Index(['series', 'Global_Sales'], dtype='object')"
      ]
     },
     "execution_count": 62,
     "metadata": {},
     "output_type": "execute_result"
    }
   ],
   "source": [
    "df2.columns"
   ]
  },
  {
   "cell_type": "code",
   "execution_count": 71,
   "id": "954f757e",
   "metadata": {},
   "outputs": [],
   "source": [
    "df3 = df2[df2.series != 'NO FRANCHISE']"
   ]
  },
  {
   "cell_type": "code",
   "execution_count": 72,
   "id": "cbfb1f93",
   "metadata": {},
   "outputs": [
    {
     "data": {
      "image/png": "[encoded data removed]",
      "text/plain": [
       "<Figure size 432x288 with 1 Axes>"
      ]
     },
     "metadata": {
      "needs_background": "light"
     },
     "output_type": "display_data"
    }
   ],
   "source": [
    "plt.bar(x = 'series', height = 'Global_Sales', data = df3.head(20),color = 'b')\n",
    "plt.tick_params(axis='x', labelrotation=90)\n"
   ]
  },
  {
   "cell_type": "markdown",
   "id": "27e64585",
   "metadata": {},
   "source": [
    "# Number of games per Serie"
   ]
  },
  {
   "cell_type": "code",
   "execution_count": 75,
   "id": "9e3fc2ec",
   "metadata": {},
   "outputs": [],
   "source": [
    "df4 = wiki_merge.drop_duplicates(subset=['Name'])\n",
    "\n",
    "df5 = df4.groupby('series')['Name'].count().reset_index()\n",
    "\n",
    "df5 = df5.sort_values(by = 'Name',ascending = False)\n",
    "\n",
    "df5 = df5.rename(columns={'Name':'count_games'})\n",
    "\n",
    "df5 = df5[df2.series != 'NO FRANCHISE']"
   ]
  },
  {
   "cell_type": "code",
   "execution_count": 92,
   "id": "1df4d781",
   "metadata": {},
   "outputs": [
    {
     "data": {
      "text/html": [
       "<div>\n",
       "<style scoped>\n",
       "    .dataframe tbody tr th:only-of-type {\n",
       "        vertical-align: middle;\n",
       "    }\n",
       "\n",
       "    .dataframe tbody tr th {\n",
       "        vertical-align: top;\n",
       "    }\n",
       "\n",
       "    .dataframe thead th {\n",
       "        text-align: right;\n",
       "    }\n",
       "</style>\n",
       "<table border=\"1\" class=\"dataframe\">\n",
       "  <thead>\n",
       "    <tr style=\"text-align: right;\">\n",
       "      <th></th>\n",
       "      <th>series</th>\n",
       "      <th>count_games</th>\n",
       "    </tr>\n",
       "  </thead>\n",
       "  <tbody>\n",
       "    <tr>\n",
       "      <th>191</th>\n",
       "      <td>Final Fantasy</td>\n",
       "      <td>46</td>\n",
       "    </tr>\n",
       "    <tr>\n",
       "      <th>516</th>\n",
       "      <td>Sonic the Hedgehog</td>\n",
       "      <td>35</td>\n",
       "    </tr>\n",
       "    <tr>\n",
       "      <th>162</th>\n",
       "      <td>Dynasty Warriors</td>\n",
       "      <td>34</td>\n",
       "    </tr>\n",
       "    <tr>\n",
       "      <th>556</th>\n",
       "      <td>Tales</td>\n",
       "      <td>28</td>\n",
       "    </tr>\n",
       "    <tr>\n",
       "      <th>149</th>\n",
       "      <td>Dragon Ball</td>\n",
       "      <td>25</td>\n",
       "    </tr>\n",
       "    <tr>\n",
       "      <th>...</th>\n",
       "      <td>...</td>\n",
       "      <td>...</td>\n",
       "    </tr>\n",
       "    <tr>\n",
       "      <th>308</th>\n",
       "      <td>Mafia</td>\n",
       "      <td>1</td>\n",
       "    </tr>\n",
       "    <tr>\n",
       "      <th>303</th>\n",
       "      <td>MVP Baseball</td>\n",
       "      <td>1</td>\n",
       "    </tr>\n",
       "    <tr>\n",
       "      <th>299</th>\n",
       "      <td>Lupin III</td>\n",
       "      <td>1</td>\n",
       "    </tr>\n",
       "    <tr>\n",
       "      <th>296</th>\n",
       "      <td>Lumines</td>\n",
       "      <td>1</td>\n",
       "    </tr>\n",
       "    <tr>\n",
       "      <th>338</th>\n",
       "      <td>Mega_Man</td>\n",
       "      <td>1</td>\n",
       "    </tr>\n",
       "  </tbody>\n",
       "</table>\n",
       "<p>675 rows × 2 columns</p>\n",
       "</div>"
      ],
      "text/plain": [
       "                 series  count_games\n",
       "191       Final Fantasy           46\n",
       "516  Sonic the Hedgehog           35\n",
       "162    Dynasty Warriors           34\n",
       "556               Tales           28\n",
       "149         Dragon Ball           25\n",
       "..                  ...          ...\n",
       "308               Mafia            1\n",
       "303        MVP Baseball            1\n",
       "299           Lupin III            1\n",
       "296             Lumines            1\n",
       "338            Mega_Man            1\n",
       "\n",
       "[675 rows x 2 columns]"
      ]
     },
     "execution_count": 92,
     "metadata": {},
     "output_type": "execute_result"
    }
   ],
   "source": [
    "df5"
   ]
  },
  {
   "cell_type": "code",
   "execution_count": 93,
   "id": "71bdbe51",
   "metadata": {},
   "outputs": [
    {
     "data": {
      "image/png": "[encoded data removed]",
      "text/plain": [
       "<Figure size 432x288 with 1 Axes>"
      ]
     },
     "metadata": {
      "needs_background": "light"
     },
     "output_type": "display_data"
    }
   ],
   "source": [
    "plt.bar(x = 'series', height = 'count_games', data = df5.head(20),color = 'r')\n",
    "plt.tick_params(axis='x', labelrotation=90)"
   ]
  },
  {
   "cell_type": "code",
   "execution_count": 98,
   "id": "c479141e",
   "metadata": {},
   "outputs": [
    {
     "data": {
      "text/plain": [
       "Text(0.5, 1.0, 'Nombre de jeux par franchise')"
      ]
     },
     "execution_count": 98,
     "metadata": {},
     "output_type": "execute_result"
    },
    {
     "data": {
      "image/png": "[encoded data removed]",
      "text/plain": [
       "<Figure size 720x360 with 2 Axes>"
      ]
     },
     "metadata": {
      "needs_background": "light"
     },
     "output_type": "display_data"
    }
   ],
   "source": [
    "fig, [ax1, ax2] = plt.subplots(nrows=1, ncols=2, figsize=(10,5)) \n",
    "\n",
    "ax1.bar(x = 'series', height = 'Global_Sales', data = df3.head(20),color = 'b')\n",
    "ax1.tick_params(axis='x', labelrotation=90)\n",
    "ax1.set_title('Top ventes par franchise')\n",
    "\n",
    "\n",
    "\n",
    "ax2.bar(x = 'series', height = 'count_games', data = df5.head(20),color = 'r')\n",
    "ax2.tick_params(axis='x', labelrotation=90)\n",
    "ax2.set_title('Nombre de jeux par franchise')"
   ]
  },
  {
   "cell_type": "markdown",
   "id": "4e7abb92",
   "metadata": {},
   "source": [
    "# correlation vente / nombre de jeux par franchise"
   ]
  },
  {
   "cell_type": "code",
   "execution_count": 102,
   "id": "6632a426",
   "metadata": {},
   "outputs": [
    {
     "data": {
      "text/html": [
       "<div>\n",
       "<style scoped>\n",
       "    .dataframe tbody tr th:only-of-type {\n",
       "        vertical-align: middle;\n",
       "    }\n",
       "\n",
       "    .dataframe tbody tr th {\n",
       "        vertical-align: top;\n",
       "    }\n",
       "\n",
       "    .dataframe thead th {\n",
       "        text-align: right;\n",
       "    }\n",
       "</style>\n",
       "<table border=\"1\" class=\"dataframe\">\n",
       "  <thead>\n",
       "    <tr style=\"text-align: right;\">\n",
       "      <th></th>\n",
       "      <th>Global_Sales</th>\n",
       "      <th>count_games</th>\n",
       "    </tr>\n",
       "  </thead>\n",
       "  <tbody>\n",
       "    <tr>\n",
       "      <th>Global_Sales</th>\n",
       "      <td>1.000000</td>\n",
       "      <td>0.561757</td>\n",
       "    </tr>\n",
       "    <tr>\n",
       "      <th>count_games</th>\n",
       "      <td>0.561757</td>\n",
       "      <td>1.000000</td>\n",
       "    </tr>\n",
       "  </tbody>\n",
       "</table>\n",
       "</div>"
      ],
      "text/plain": [
       "              Global_Sales  count_games\n",
       "Global_Sales      1.000000     0.561757\n",
       "count_games       0.561757     1.000000"
      ]
     },
     "execution_count": 102,
     "metadata": {},
     "output_type": "execute_result"
    }
   ],
   "source": [
    "df6 = df3.merge(df5,how = 'inner', on  = 'series')\n",
    "df6.corr()"
   ]
  },
  {
   "cell_type": "code",
   "execution_count": 135,
   "id": "347d8e4e",
   "metadata": {},
   "outputs": [
    {
     "data": {
      "text/html": [
       "<div>\n",
       "<style scoped>\n",
       "    .dataframe tbody tr th:only-of-type {\n",
       "        vertical-align: middle;\n",
       "    }\n",
       "\n",
       "    .dataframe tbody tr th {\n",
       "        vertical-align: top;\n",
       "    }\n",
       "\n",
       "    .dataframe thead th {\n",
       "        text-align: right;\n",
       "    }\n",
       "</style>\n",
       "<table border=\"1\" class=\"dataframe\">\n",
       "  <thead>\n",
       "    <tr style=\"text-align: right;\">\n",
       "      <th></th>\n",
       "      <th>series</th>\n",
       "      <th>Global_Sales</th>\n",
       "      <th>count_games</th>\n",
       "    </tr>\n",
       "  </thead>\n",
       "  <tbody>\n",
       "    <tr>\n",
       "      <th>0</th>\n",
       "      <td>Super Mario</td>\n",
       "      <td>296.05</td>\n",
       "      <td>21</td>\n",
       "    </tr>\n",
       "    <tr>\n",
       "      <th>1</th>\n",
       "      <td>Call of Duty</td>\n",
       "      <td>241.92</td>\n",
       "      <td>17</td>\n",
       "    </tr>\n",
       "    <tr>\n",
       "      <th>2</th>\n",
       "      <td>Wii</td>\n",
       "      <td>205.25</td>\n",
       "      <td>11</td>\n",
       "    </tr>\n",
       "    <tr>\n",
       "      <th>3</th>\n",
       "      <td>Grand Theft Auto</td>\n",
       "      <td>154.71</td>\n",
       "      <td>9</td>\n",
       "    </tr>\n",
       "    <tr>\n",
       "      <th>4</th>\n",
       "      <td>FIFA</td>\n",
       "      <td>138.33</td>\n",
       "      <td>22</td>\n",
       "    </tr>\n",
       "    <tr>\n",
       "      <th>...</th>\n",
       "      <td>...</td>\n",
       "      <td>...</td>\n",
       "      <td>...</td>\n",
       "    </tr>\n",
       "    <tr>\n",
       "      <th>670</th>\n",
       "      <td>Winning Post</td>\n",
       "      <td>0.02</td>\n",
       "      <td>1</td>\n",
       "    </tr>\n",
       "    <tr>\n",
       "      <th>671</th>\n",
       "      <td>Discworld</td>\n",
       "      <td>0.02</td>\n",
       "      <td>1</td>\n",
       "    </tr>\n",
       "    <tr>\n",
       "      <th>672</th>\n",
       "      <td>Xbox Live</td>\n",
       "      <td>0.01</td>\n",
       "      <td>1</td>\n",
       "    </tr>\n",
       "    <tr>\n",
       "      <th>673</th>\n",
       "      <td>King's Bounty</td>\n",
       "      <td>0.01</td>\n",
       "      <td>1</td>\n",
       "    </tr>\n",
       "    <tr>\n",
       "      <th>674</th>\n",
       "      <td>Icewind Dale</td>\n",
       "      <td>0.01</td>\n",
       "      <td>1</td>\n",
       "    </tr>\n",
       "  </tbody>\n",
       "</table>\n",
       "<p>675 rows × 3 columns</p>\n",
       "</div>"
      ],
      "text/plain": [
       "               series  Global_Sales  count_games\n",
       "0         Super Mario        296.05           21\n",
       "1        Call of Duty        241.92           17\n",
       "2                 Wii        205.25           11\n",
       "3    Grand Theft Auto        154.71            9\n",
       "4                FIFA        138.33           22\n",
       "..                ...           ...          ...\n",
       "670      Winning Post          0.02            1\n",
       "671         Discworld          0.02            1\n",
       "672         Xbox Live          0.01            1\n",
       "673     King's Bounty          0.01            1\n",
       "674      Icewind Dale          0.01            1\n",
       "\n",
       "[675 rows x 3 columns]"
      ]
     },
     "execution_count": 135,
     "metadata": {},
     "output_type": "execute_result"
    }
   ],
   "source": [
    "df7 =  df3.merge(df5,how = 'inner', on  = 'series')\n",
    "\n",
    "df7"
   ]
  },
  {
   "cell_type": "markdown",
   "id": "6197ced8",
   "metadata": {},
   "source": [
    "correlation entre 0.5 et 0.7 donc modérée \n",
    "8 parmis 20 franchises les plus vendues sont dans le top 20 des franchises avec le plus de nombre de jeux\n",
    "on connait la franchise GTA qui a 9 jeux seulement et qui est le 4 éme franchise la plus vendue"
   ]
  },
  {
   "cell_type": "code",
   "execution_count": 110,
   "id": "25a05b87",
   "metadata": {},
   "outputs": [
    {
     "data": {
      "image/png": "[encoded data removed]",
      "text/plain": [
       "<Figure size 432x288 with 1 Axes>"
      ]
     },
     "metadata": {
      "needs_background": "light"
     },
     "output_type": "display_data"
    }
   ],
   "source": [
    "sns.lineplot(data=yt, x='Global_Sales', y='likecount')\n",
    "plt.show()"
   ]
  },
  {
   "cell_type": "code",
   "execution_count": 111,
   "id": "28baee23",
   "metadata": {},
   "outputs": [
    {
     "data": {
      "text/html": [
       "<div>\n",
       "<style scoped>\n",
       "    .dataframe tbody tr th:only-of-type {\n",
       "        vertical-align: middle;\n",
       "    }\n",
       "\n",
       "    .dataframe tbody tr th {\n",
       "        vertical-align: top;\n",
       "    }\n",
       "\n",
       "    .dataframe thead th {\n",
       "        text-align: right;\n",
       "    }\n",
       "</style>\n",
       "<table border=\"1\" class=\"dataframe\">\n",
       "  <thead>\n",
       "    <tr style=\"text-align: right;\">\n",
       "      <th></th>\n",
       "      <th>Rank</th>\n",
       "      <th>Name</th>\n",
       "      <th>Platform</th>\n",
       "      <th>Year</th>\n",
       "      <th>Genre</th>\n",
       "      <th>Publisher</th>\n",
       "      <th>NA_Sales</th>\n",
       "      <th>EU_Sales</th>\n",
       "      <th>JP_Sales</th>\n",
       "      <th>Other_Sales</th>\n",
       "      <th>Global_Sales</th>\n",
       "      <th>multiplayer</th>\n",
       "      <th>singleplayer</th>\n",
       "      <th>viewconut</th>\n",
       "      <th>likecount</th>\n",
       "      <th>commentcount</th>\n",
       "      <th>videotitle</th>\n",
       "      <th>published</th>\n",
       "    </tr>\n",
       "  </thead>\n",
       "  <tbody>\n",
       "    <tr>\n",
       "      <th>0</th>\n",
       "      <td>1</td>\n",
       "      <td>Wii Sports</td>\n",
       "      <td>Wii</td>\n",
       "      <td>2006.0</td>\n",
       "      <td>Sports</td>\n",
       "      <td>Nintendo</td>\n",
       "      <td>41.49</td>\n",
       "      <td>29.02</td>\n",
       "      <td>3.77</td>\n",
       "      <td>8.46</td>\n",
       "      <td>82.74</td>\n",
       "      <td>True</td>\n",
       "      <td>True</td>\n",
       "      <td>45473.0</td>\n",
       "      <td>400.0</td>\n",
       "      <td>79.0</td>\n",
       "      <td>Wii Sports Nintendo Wii Video - Video Review</td>\n",
       "      <td>2011-05-19T07:28:23Z</td>\n",
       "    </tr>\n",
       "    <tr>\n",
       "      <th>1</th>\n",
       "      <td>2</td>\n",
       "      <td>Super Mario Bros.</td>\n",
       "      <td>NES</td>\n",
       "      <td>1985.0</td>\n",
       "      <td>Platform</td>\n",
       "      <td>Nintendo</td>\n",
       "      <td>29.08</td>\n",
       "      <td>3.58</td>\n",
       "      <td>6.81</td>\n",
       "      <td>0.77</td>\n",
       "      <td>40.24</td>\n",
       "      <td>True</td>\n",
       "      <td>True</td>\n",
       "      <td>1002608.0</td>\n",
       "      <td>11057.0</td>\n",
       "      <td>1649.0</td>\n",
       "      <td>New Super Mario Bros. U Deluxe Review</td>\n",
       "      <td>2019-01-09T14:00:10Z</td>\n",
       "    </tr>\n",
       "    <tr>\n",
       "      <th>2</th>\n",
       "      <td>3</td>\n",
       "      <td>Mario Kart Wii</td>\n",
       "      <td>Wii</td>\n",
       "      <td>2008.0</td>\n",
       "      <td>Racing</td>\n",
       "      <td>Nintendo</td>\n",
       "      <td>15.85</td>\n",
       "      <td>12.88</td>\n",
       "      <td>3.79</td>\n",
       "      <td>3.31</td>\n",
       "      <td>35.82</td>\n",
       "      <td>True</td>\n",
       "      <td>True</td>\n",
       "      <td>241260.0</td>\n",
       "      <td>1487.0</td>\n",
       "      <td>682.0</td>\n",
       "      <td>Mario Kart Wii Review</td>\n",
       "      <td>2008-08-05T21:04:29Z</td>\n",
       "    </tr>\n",
       "    <tr>\n",
       "      <th>3</th>\n",
       "      <td>4</td>\n",
       "      <td>Wii Sports Resort</td>\n",
       "      <td>Wii</td>\n",
       "      <td>2009.0</td>\n",
       "      <td>Sports</td>\n",
       "      <td>Nintendo</td>\n",
       "      <td>15.75</td>\n",
       "      <td>11.01</td>\n",
       "      <td>3.28</td>\n",
       "      <td>2.96</td>\n",
       "      <td>33.00</td>\n",
       "      <td>True</td>\n",
       "      <td>True</td>\n",
       "      <td>1532660.0</td>\n",
       "      <td>2514.0</td>\n",
       "      <td>947.0</td>\n",
       "      <td>Wii Sports Resort Review</td>\n",
       "      <td>2009-07-17T01:25:07Z</td>\n",
       "    </tr>\n",
       "    <tr>\n",
       "      <th>5</th>\n",
       "      <td>6</td>\n",
       "      <td>Tetris</td>\n",
       "      <td>GB</td>\n",
       "      <td>1989.0</td>\n",
       "      <td>Puzzle</td>\n",
       "      <td>Nintendo</td>\n",
       "      <td>23.20</td>\n",
       "      <td>2.26</td>\n",
       "      <td>4.22</td>\n",
       "      <td>0.58</td>\n",
       "      <td>30.26</td>\n",
       "      <td>True</td>\n",
       "      <td>True</td>\n",
       "      <td>258749.0</td>\n",
       "      <td>3341.0</td>\n",
       "      <td>472.0</td>\n",
       "      <td>Tetris Effect Review</td>\n",
       "      <td>2018-11-09T16:00:03Z</td>\n",
       "    </tr>\n",
       "    <tr>\n",
       "      <th>...</th>\n",
       "      <td>...</td>\n",
       "      <td>...</td>\n",
       "      <td>...</td>\n",
       "      <td>...</td>\n",
       "      <td>...</td>\n",
       "      <td>...</td>\n",
       "      <td>...</td>\n",
       "      <td>...</td>\n",
       "      <td>...</td>\n",
       "      <td>...</td>\n",
       "      <td>...</td>\n",
       "      <td>...</td>\n",
       "      <td>...</td>\n",
       "      <td>...</td>\n",
       "      <td>...</td>\n",
       "      <td>...</td>\n",
       "      <td>...</td>\n",
       "      <td>...</td>\n",
       "    </tr>\n",
       "    <tr>\n",
       "      <th>2187</th>\n",
       "      <td>2189</td>\n",
       "      <td>Guitar Hero: Metallica</td>\n",
       "      <td>Wii</td>\n",
       "      <td>2009.0</td>\n",
       "      <td>Misc</td>\n",
       "      <td>Activision</td>\n",
       "      <td>0.41</td>\n",
       "      <td>0.43</td>\n",
       "      <td>0.00</td>\n",
       "      <td>0.10</td>\n",
       "      <td>0.95</td>\n",
       "      <td>True</td>\n",
       "      <td>True</td>\n",
       "      <td>132637.0</td>\n",
       "      <td>768.0</td>\n",
       "      <td>335.0</td>\n",
       "      <td>Guitar Hero: Metallica Video Review</td>\n",
       "      <td>2009-03-30T22:09:18Z</td>\n",
       "    </tr>\n",
       "    <tr>\n",
       "      <th>2189</th>\n",
       "      <td>2191</td>\n",
       "      <td>WWE SmackDown vs. Raw 2009</td>\n",
       "      <td>PS3</td>\n",
       "      <td>2008.0</td>\n",
       "      <td>Fighting</td>\n",
       "      <td>THQ</td>\n",
       "      <td>0.51</td>\n",
       "      <td>0.31</td>\n",
       "      <td>0.01</td>\n",
       "      <td>0.13</td>\n",
       "      <td>0.95</td>\n",
       "      <td>True</td>\n",
       "      <td>True</td>\n",
       "      <td>1441448.0</td>\n",
       "      <td>2754.0</td>\n",
       "      <td>698.0</td>\n",
       "      <td>WWE SmackDown vs. Raw 2009 Review</td>\n",
       "      <td>2008-11-10T20:05:21Z</td>\n",
       "    </tr>\n",
       "    <tr>\n",
       "      <th>2190</th>\n",
       "      <td>2192</td>\n",
       "      <td>Army of Two: The 40th Day</td>\n",
       "      <td>X360</td>\n",
       "      <td>2010.0</td>\n",
       "      <td>Shooter</td>\n",
       "      <td>Electronic Arts</td>\n",
       "      <td>0.62</td>\n",
       "      <td>0.24</td>\n",
       "      <td>0.00</td>\n",
       "      <td>0.08</td>\n",
       "      <td>0.95</td>\n",
       "      <td>True</td>\n",
       "      <td>True</td>\n",
       "      <td>491273.0</td>\n",
       "      <td>1967.0</td>\n",
       "      <td>940.0</td>\n",
       "      <td>Army of Two: The 40th Day Review</td>\n",
       "      <td>2010-01-08T20:33:34Z</td>\n",
       "    </tr>\n",
       "    <tr>\n",
       "      <th>2192</th>\n",
       "      <td>2194</td>\n",
       "      <td>Lego Batman 3: Beyond Gotham</td>\n",
       "      <td>X360</td>\n",
       "      <td>2014.0</td>\n",
       "      <td>Action</td>\n",
       "      <td>Warner Bros. Interactive Entertainment</td>\n",
       "      <td>0.48</td>\n",
       "      <td>0.38</td>\n",
       "      <td>0.00</td>\n",
       "      <td>0.08</td>\n",
       "      <td>0.95</td>\n",
       "      <td>True</td>\n",
       "      <td>True</td>\n",
       "      <td>422972.0</td>\n",
       "      <td>3903.0</td>\n",
       "      <td>602.0</td>\n",
       "      <td>Lego Batman 3 Beyond Gotham Review</td>\n",
       "      <td>2014-11-21T19:28:51Z</td>\n",
       "    </tr>\n",
       "    <tr>\n",
       "      <th>2193</th>\n",
       "      <td>2195</td>\n",
       "      <td>Wii Play: Motion</td>\n",
       "      <td>Wii</td>\n",
       "      <td>2011.0</td>\n",
       "      <td>Misc</td>\n",
       "      <td>Nintendo</td>\n",
       "      <td>0.24</td>\n",
       "      <td>0.43</td>\n",
       "      <td>0.18</td>\n",
       "      <td>0.09</td>\n",
       "      <td>0.95</td>\n",
       "      <td>True</td>\n",
       "      <td>True</td>\n",
       "      <td>10096.0</td>\n",
       "      <td>77.0</td>\n",
       "      <td>17.0</td>\n",
       "      <td>Wii Play (with Wii Remote) Nintendo Wii Review...</td>\n",
       "      <td>2011-06-23T10:02:30Z</td>\n",
       "    </tr>\n",
       "  </tbody>\n",
       "</table>\n",
       "<p>1608 rows × 18 columns</p>\n",
       "</div>"
      ],
      "text/plain": [
       "      Rank                          Name Platform    Year     Genre  \\\n",
       "0        1                    Wii Sports      Wii  2006.0    Sports   \n",
       "1        2             Super Mario Bros.      NES  1985.0  Platform   \n",
       "2        3                Mario Kart Wii      Wii  2008.0    Racing   \n",
       "3        4             Wii Sports Resort      Wii  2009.0    Sports   \n",
       "5        6                        Tetris       GB  1989.0    Puzzle   \n",
       "...    ...                           ...      ...     ...       ...   \n",
       "2187  2189        Guitar Hero: Metallica      Wii  2009.0      Misc   \n",
       "2189  2191    WWE SmackDown vs. Raw 2009      PS3  2008.0  Fighting   \n",
       "2190  2192     Army of Two: The 40th Day     X360  2010.0   Shooter   \n",
       "2192  2194  Lego Batman 3: Beyond Gotham     X360  2014.0    Action   \n",
       "2193  2195              Wii Play: Motion      Wii  2011.0      Misc   \n",
       "\n",
       "                                   Publisher  NA_Sales  EU_Sales  JP_Sales  \\\n",
       "0                                   Nintendo     41.49     29.02      3.77   \n",
       "1                                   Nintendo     29.08      3.58      6.81   \n",
       "2                                   Nintendo     15.85     12.88      3.79   \n",
       "3                                   Nintendo     15.75     11.01      3.28   \n",
       "5                                   Nintendo     23.20      2.26      4.22   \n",
       "...                                      ...       ...       ...       ...   \n",
       "2187                              Activision      0.41      0.43      0.00   \n",
       "2189                                     THQ      0.51      0.31      0.01   \n",
       "2190                         Electronic Arts      0.62      0.24      0.00   \n",
       "2192  Warner Bros. Interactive Entertainment      0.48      0.38      0.00   \n",
       "2193                                Nintendo      0.24      0.43      0.18   \n",
       "\n",
       "      Other_Sales  Global_Sales multiplayer singleplayer  viewconut  \\\n",
       "0            8.46         82.74        True         True    45473.0   \n",
       "1            0.77         40.24        True         True  1002608.0   \n",
       "2            3.31         35.82        True         True   241260.0   \n",
       "3            2.96         33.00        True         True  1532660.0   \n",
       "5            0.58         30.26        True         True   258749.0   \n",
       "...           ...           ...         ...          ...        ...   \n",
       "2187         0.10          0.95        True         True   132637.0   \n",
       "2189         0.13          0.95        True         True  1441448.0   \n",
       "2190         0.08          0.95        True         True   491273.0   \n",
       "2192         0.08          0.95        True         True   422972.0   \n",
       "2193         0.09          0.95        True         True    10096.0   \n",
       "\n",
       "      likecount  commentcount  \\\n",
       "0         400.0          79.0   \n",
       "1       11057.0        1649.0   \n",
       "2        1487.0         682.0   \n",
       "3        2514.0         947.0   \n",
       "5        3341.0         472.0   \n",
       "...         ...           ...   \n",
       "2187      768.0         335.0   \n",
       "2189     2754.0         698.0   \n",
       "2190     1967.0         940.0   \n",
       "2192     3903.0         602.0   \n",
       "2193       77.0          17.0   \n",
       "\n",
       "                                             videotitle             published  \n",
       "0          Wii Sports Nintendo Wii Video - Video Review  2011-05-19T07:28:23Z  \n",
       "1                 New Super Mario Bros. U Deluxe Review  2019-01-09T14:00:10Z  \n",
       "2                                 Mario Kart Wii Review  2008-08-05T21:04:29Z  \n",
       "3                              Wii Sports Resort Review  2009-07-17T01:25:07Z  \n",
       "5                                  Tetris Effect Review  2018-11-09T16:00:03Z  \n",
       "...                                                 ...                   ...  \n",
       "2187                Guitar Hero: Metallica Video Review  2009-03-30T22:09:18Z  \n",
       "2189                  WWE SmackDown vs. Raw 2009 Review  2008-11-10T20:05:21Z  \n",
       "2190                   Army of Two: The 40th Day Review  2010-01-08T20:33:34Z  \n",
       "2192                 Lego Batman 3 Beyond Gotham Review  2014-11-21T19:28:51Z  \n",
       "2193  Wii Play (with Wii Remote) Nintendo Wii Review...  2011-06-23T10:02:30Z  \n",
       "\n",
       "[1608 rows x 18 columns]"
      ]
     },
     "execution_count": 111,
     "metadata": {},
     "output_type": "execute_result"
    }
   ],
   "source": [
    "yt"
   ]
  },
  {
   "cell_type": "code",
   "execution_count": 112,
   "id": "dcaa86a0",
   "metadata": {},
   "outputs": [],
   "source": [
    "import plotly.express as px\n",
    "import plotly.graph_objects as go"
   ]
  },
  {
   "cell_type": "code",
   "execution_count": 148,
   "id": "a27d5651",
   "metadata": {},
   "outputs": [],
   "source": [
    "df7.iloc[5,1] = 109.46"
   ]
  },
  {
   "cell_type": "code",
   "execution_count": 208,
   "id": "07fc466c",
   "metadata": {},
   "outputs": [],
   "source": [
    "df8 = df4.groupby('series')['awarded'].sum().reset_index()\n",
    "\n",
    "df8 = df8.sort_values(by = 'awarded',ascending = False)\n"
   ]
  },
  {
   "cell_type": "code",
   "execution_count": 214,
   "id": "807def11",
   "metadata": {},
   "outputs": [],
   "source": [
    "df9 =  df7.merge(df8,how = 'inner', on  = 'series')\n",
    "\n"
   ]
  },
  {
   "cell_type": "code",
   "execution_count": 215,
   "id": "d4e297e5",
   "metadata": {},
   "outputs": [
    {
     "data": {
      "text/html": [
       "<div>\n",
       "<style scoped>\n",
       "    .dataframe tbody tr th:only-of-type {\n",
       "        vertical-align: middle;\n",
       "    }\n",
       "\n",
       "    .dataframe tbody tr th {\n",
       "        vertical-align: top;\n",
       "    }\n",
       "\n",
       "    .dataframe thead th {\n",
       "        text-align: right;\n",
       "    }\n",
       "</style>\n",
       "<table border=\"1\" class=\"dataframe\">\n",
       "  <thead>\n",
       "    <tr style=\"text-align: right;\">\n",
       "      <th></th>\n",
       "      <th>series</th>\n",
       "      <th>Global_Sales</th>\n",
       "      <th>count_games</th>\n",
       "      <th>awarded</th>\n",
       "    </tr>\n",
       "  </thead>\n",
       "  <tbody>\n",
       "    <tr>\n",
       "      <th>0</th>\n",
       "      <td>Super Mario</td>\n",
       "      <td>296.05</td>\n",
       "      <td>21</td>\n",
       "      <td>8.0</td>\n",
       "    </tr>\n",
       "    <tr>\n",
       "      <th>1</th>\n",
       "      <td>Call of Duty</td>\n",
       "      <td>241.92</td>\n",
       "      <td>17</td>\n",
       "      <td>5.0</td>\n",
       "    </tr>\n",
       "    <tr>\n",
       "      <th>2</th>\n",
       "      <td>Wii</td>\n",
       "      <td>205.25</td>\n",
       "      <td>11</td>\n",
       "      <td>1.0</td>\n",
       "    </tr>\n",
       "    <tr>\n",
       "      <th>3</th>\n",
       "      <td>Grand Theft Auto</td>\n",
       "      <td>154.71</td>\n",
       "      <td>9</td>\n",
       "      <td>7.0</td>\n",
       "    </tr>\n",
       "    <tr>\n",
       "      <th>4</th>\n",
       "      <td>FIFA</td>\n",
       "      <td>138.33</td>\n",
       "      <td>22</td>\n",
       "      <td>2.0</td>\n",
       "    </tr>\n",
       "    <tr>\n",
       "      <th>...</th>\n",
       "      <td>...</td>\n",
       "      <td>...</td>\n",
       "      <td>...</td>\n",
       "      <td>...</td>\n",
       "    </tr>\n",
       "    <tr>\n",
       "      <th>670</th>\n",
       "      <td>Winning Post</td>\n",
       "      <td>0.02</td>\n",
       "      <td>1</td>\n",
       "      <td>0.0</td>\n",
       "    </tr>\n",
       "    <tr>\n",
       "      <th>671</th>\n",
       "      <td>Discworld</td>\n",
       "      <td>0.02</td>\n",
       "      <td>1</td>\n",
       "      <td>0.0</td>\n",
       "    </tr>\n",
       "    <tr>\n",
       "      <th>672</th>\n",
       "      <td>Xbox Live</td>\n",
       "      <td>0.01</td>\n",
       "      <td>1</td>\n",
       "      <td>0.0</td>\n",
       "    </tr>\n",
       "    <tr>\n",
       "      <th>673</th>\n",
       "      <td>King's Bounty</td>\n",
       "      <td>0.01</td>\n",
       "      <td>1</td>\n",
       "      <td>0.0</td>\n",
       "    </tr>\n",
       "    <tr>\n",
       "      <th>674</th>\n",
       "      <td>Icewind Dale</td>\n",
       "      <td>0.01</td>\n",
       "      <td>1</td>\n",
       "      <td>0.0</td>\n",
       "    </tr>\n",
       "  </tbody>\n",
       "</table>\n",
       "<p>675 rows × 4 columns</p>\n",
       "</div>"
      ],
      "text/plain": [
       "               series  Global_Sales  count_games  awarded\n",
       "0         Super Mario        296.05           21      8.0\n",
       "1        Call of Duty        241.92           17      5.0\n",
       "2                 Wii        205.25           11      1.0\n",
       "3    Grand Theft Auto        154.71            9      7.0\n",
       "4                FIFA        138.33           22      2.0\n",
       "..                ...           ...          ...      ...\n",
       "670      Winning Post          0.02            1      0.0\n",
       "671         Discworld          0.02            1      0.0\n",
       "672         Xbox Live          0.01            1      0.0\n",
       "673     King's Bounty          0.01            1      0.0\n",
       "674      Icewind Dale          0.01            1      0.0\n",
       "\n",
       "[675 rows x 4 columns]"
      ]
     },
     "execution_count": 215,
     "metadata": {},
     "output_type": "execute_result"
    }
   ],
   "source": [
    "df9"
   ]
  },
  {
   "cell_type": "code",
   "execution_count": 216,
   "id": "13d186dd",
   "metadata": {},
   "outputs": [
    {
     "data": {
      "application/vnd.plotly.v1+json": {
       "config": {
        "plotlyServerURL": "https://plot.ly"
       },
       "data": [
        {
         "branchvalues": "total",
         "domain": {
          "x": [
           0,
           1
          ],
          "y": [
           0,
           1
          ]
         },
         "hovertemplate": "labels=%{label}<br>Global_Sales=%{value}<br>parent=%{parent}<br>id=%{id}<extra></extra>",
         "ids": [
          "Wii/205.25/11/1.0",
          "Need for Speed/81.29/19/1.0",
          "FIFA/138.33/22/2.0",
          "Madden NFL/103.85/24/2.0",
          "Mario Kart/109.46/8/3.0",
          "Call of Duty/241.92/17/5.0",
          "Grand Theft Auto/154.71/9/7.0",
          "Super Mario/296.05/21/8.0",
          "The Legend of Zelda/87.57/23/8.0",
          "Final Fantasy/88.94/46/10.0",
          "Mario Kart/109.46/8",
          "Grand Theft Auto/154.71/9",
          "Wii/205.25/11",
          "Call of Duty/241.92/17",
          "Need for Speed/81.29/19",
          "Super Mario/296.05/21",
          "FIFA/138.33/22",
          "The Legend of Zelda/87.57/23",
          "Madden NFL/103.85/24",
          "Final Fantasy/88.94/46",
          "Need for Speed/81.29",
          "The Legend of Zelda/87.57",
          "Final Fantasy/88.94",
          "Madden NFL/103.85",
          "Mario Kart/109.46",
          "FIFA/138.33",
          "Grand Theft Auto/154.71",
          "Wii/205.25",
          "Call of Duty/241.92",
          "Super Mario/296.05",
          "Call of Duty",
          "FIFA",
          "Final Fantasy",
          "Grand Theft Auto",
          "Madden NFL",
          "Mario Kart",
          "Need for Speed",
          "Super Mario",
          "The Legend of Zelda",
          "Wii"
         ],
         "labels": [
          "1.0",
          "1.0",
          "2.0",
          "2.0",
          "3.0",
          "5.0",
          "7.0",
          "8.0",
          "8.0",
          "10.0",
          "8",
          "9",
          "11",
          "17",
          "19",
          "21",
          "22",
          "23",
          "24",
          "46",
          "81.29",
          "87.57",
          "88.94",
          "103.85",
          "109.46",
          "138.33",
          "154.71",
          "205.25",
          "241.92",
          "296.05",
          "Call of Duty",
          "FIFA",
          "Final Fantasy",
          "Grand Theft Auto",
          "Madden NFL",
          "Mario Kart",
          "Need for Speed",
          "Super Mario",
          "The Legend of Zelda",
          "Wii"
         ],
         "name": "",
         "parents": [
          "Wii/205.25/11",
          "Need for Speed/81.29/19",
          "FIFA/138.33/22",
          "Madden NFL/103.85/24",
          "Mario Kart/109.46/8",
          "Call of Duty/241.92/17",
          "Grand Theft Auto/154.71/9",
          "Super Mario/296.05/21",
          "The Legend of Zelda/87.57/23",
          "Final Fantasy/88.94/46",
          "Mario Kart/109.46",
          "Grand Theft Auto/154.71",
          "Wii/205.25",
          "Call of Duty/241.92",
          "Need for Speed/81.29",
          "Super Mario/296.05",
          "FIFA/138.33",
          "The Legend of Zelda/87.57",
          "Madden NFL/103.85",
          "Final Fantasy/88.94",
          "Need for Speed",
          "The Legend of Zelda",
          "Final Fantasy",
          "Madden NFL",
          "Mario Kart",
          "FIFA",
          "Grand Theft Auto",
          "Wii",
          "Call of Duty",
          "Super Mario",
          "",
          "",
          "",
          "",
          "",
          "",
          "",
          "",
          "",
          ""
         ],
         "type": "sunburst",
         "values": [
          205.25,
          81.29,
          138.33,
          103.85,
          109.46,
          241.92,
          154.71,
          296.05,
          87.57,
          88.94,
          109.46,
          154.71,
          205.25,
          241.92,
          81.29,
          296.05,
          138.33,
          87.57,
          103.85,
          88.94,
          81.29,
          87.57,
          88.94,
          103.85,
          109.46,
          138.33,
          154.71,
          205.25,
          241.92,
          296.05,
          241.92,
          138.33,
          88.94,
          154.71,
          103.85,
          109.46,
          81.29,
          296.05,
          87.57,
          205.25
         ]
        }
       ],
       "layout": {
        "height": 750,
        "legend": {
         "tracegroupgap": 0
        },
        "template": {
         "data": {
          "bar": [
           {
            "error_x": {
             "color": "#2a3f5f"
            },
            "error_y": {
             "color": "#2a3f5f"
            },
            "marker": {
             "line": {
              "color": "#E5ECF6",
              "width": 0.5
             },
             "pattern": {
              "fillmode": "overlay",
              "size": 10,
              "solidity": 0.2
             }
            },
            "type": "bar"
           }
          ],
          "barpolar": [
           {
            "marker": {
             "line": {
              "color": "#E5ECF6",
              "width": 0.5
             },
             "pattern": {
              "fillmode": "overlay",
              "size": 10,
              "solidity": 0.2
             }
            },
            "type": "barpolar"
           }
          ],
          "carpet": [
           {
            "aaxis": {
             "endlinecolor": "#2a3f5f",
             "gridcolor": "white",
             "linecolor": "white",
             "minorgridcolor": "white",
             "startlinecolor": "#2a3f5f"
            },
            "baxis": {
             "endlinecolor": "#2a3f5f",
             "gridcolor": "white",
             "linecolor": "white",
             "minorgridcolor": "white",
             "startlinecolor": "#2a3f5f"
            },
            "type": "carpet"
           }
          ],
          "choropleth": [
           {
            "colorbar": {
             "outlinewidth": 0,
             "ticks": ""
            },
            "type": "choropleth"
           }
          ],
          "contour": [
           {
            "colorbar": {
             "outlinewidth": 0,
             "ticks": ""
            },
            "colorscale": [
             [
              0,
              "#0d0887"
             ],
             [
              0.1111111111111111,
              "#46039f"
             ],
             [
              0.2222222222222222,
              "#7201a8"
             ],
             [
              0.3333333333333333,
              "#9c179e"
             ],
             [
              0.4444444444444444,
              "#bd3786"
             ],
             [
              0.5555555555555556,
              "#d8576b"
             ],
             [
              0.6666666666666666,
              "#ed7953"
             ],
             [
              0.7777777777777778,
              "#fb9f3a"
             ],
             [
              0.8888888888888888,
              "#fdca26"
             ],
             [
              1,
              "#f0f921"
             ]
            ],
            "type": "contour"
           }
          ],
          "contourcarpet": [
           {
            "colorbar": {
             "outlinewidth": 0,
             "ticks": ""
            },
            "type": "contourcarpet"
           }
          ],
          "heatmap": [
           {
            "colorbar": {
             "outlinewidth": 0,
             "ticks": ""
            },
            "colorscale": [
             [
              0,
              "#0d0887"
             ],
             [
              0.1111111111111111,
              "#46039f"
             ],
             [
              0.2222222222222222,
              "#7201a8"
             ],
             [
              0.3333333333333333,
              "#9c179e"
             ],
             [
              0.4444444444444444,
              "#bd3786"
             ],
             [
              0.5555555555555556,
              "#d8576b"
             ],
             [
              0.6666666666666666,
              "#ed7953"
             ],
             [
              0.7777777777777778,
              "#fb9f3a"
             ],
             [
              0.8888888888888888,
              "#fdca26"
             ],
             [
              1,
              "#f0f921"
             ]
            ],
            "type": "heatmap"
           }
          ],
          "heatmapgl": [
           {
            "colorbar": {
             "outlinewidth": 0,
             "ticks": ""
            },
            "colorscale": [
             [
              0,
              "#0d0887"
             ],
             [
              0.1111111111111111,
              "#46039f"
             ],
             [
              0.2222222222222222,
              "#7201a8"
             ],
             [
              0.3333333333333333,
              "#9c179e"
             ],
             [
              0.4444444444444444,
              "#bd3786"
             ],
             [
              0.5555555555555556,
              "#d8576b"
             ],
             [
              0.6666666666666666,
              "#ed7953"
             ],
             [
              0.7777777777777778,
              "#fb9f3a"
             ],
             [
              0.8888888888888888,
              "#fdca26"
             ],
             [
              1,
              "#f0f921"
             ]
            ],
            "type": "heatmapgl"
           }
          ],
          "histogram": [
           {
            "marker": {
             "pattern": {
              "fillmode": "overlay",
              "size": 10,
              "solidity": 0.2
             }
            },
            "type": "histogram"
           }
          ],
          "histogram2d": [
           {
            "colorbar": {
             "outlinewidth": 0,
             "ticks": ""
            },
            "colorscale": [
             [
              0,
              "#0d0887"
             ],
             [
              0.1111111111111111,
              "#46039f"
             ],
             [
              0.2222222222222222,
              "#7201a8"
             ],
             [
              0.3333333333333333,
              "#9c179e"
             ],
             [
              0.4444444444444444,
              "#bd3786"
             ],
             [
              0.5555555555555556,
              "#d8576b"
             ],
             [
              0.6666666666666666,
              "#ed7953"
             ],
             [
              0.7777777777777778,
              "#fb9f3a"
             ],
             [
              0.8888888888888888,
              "#fdca26"
             ],
             [
              1,
              "#f0f921"
             ]
            ],
            "type": "histogram2d"
           }
          ],
          "histogram2dcontour": [
           {
            "colorbar": {
             "outlinewidth": 0,
             "ticks": ""
            },
            "colorscale": [
             [
              0,
              "#0d0887"
             ],
             [
              0.1111111111111111,
              "#46039f"
             ],
             [
              0.2222222222222222,
              "#7201a8"
             ],
             [
              0.3333333333333333,
              "#9c179e"
             ],
             [
              0.4444444444444444,
              "#bd3786"
             ],
             [
              0.5555555555555556,
              "#d8576b"
             ],
             [
              0.6666666666666666,
              "#ed7953"
             ],
             [
              0.7777777777777778,
              "#fb9f3a"
             ],
             [
              0.8888888888888888,
              "#fdca26"
             ],
             [
              1,
              "#f0f921"
             ]
            ],
            "type": "histogram2dcontour"
           }
          ],
          "mesh3d": [
           {
            "colorbar": {
             "outlinewidth": 0,
             "ticks": ""
            },
            "type": "mesh3d"
           }
          ],
          "parcoords": [
           {
            "line": {
             "colorbar": {
              "outlinewidth": 0,
              "ticks": ""
             }
            },
            "type": "parcoords"
           }
          ],
          "pie": [
           {
            "automargin": true,
            "type": "pie"
           }
          ],
          "scatter": [
           {
            "fillpattern": {
             "fillmode": "overlay",
             "size": 10,
             "solidity": 0.2
            },
            "type": "scatter"
           }
          ],
          "scatter3d": [
           {
            "line": {
             "colorbar": {
              "outlinewidth": 0,
              "ticks": ""
             }
            },
            "marker": {
             "colorbar": {
              "outlinewidth": 0,
              "ticks": ""
             }
            },
            "type": "scatter3d"
           }
          ],
          "scattercarpet": [
           {
            "marker": {
             "colorbar": {
              "outlinewidth": 0,
              "ticks": ""
             }
            },
            "type": "scattercarpet"
           }
          ],
          "scattergeo": [
           {
            "marker": {
             "colorbar": {
              "outlinewidth": 0,
              "ticks": ""
             }
            },
            "type": "scattergeo"
           }
          ],
          "scattergl": [
           {
            "marker": {
             "colorbar": {
              "outlinewidth": 0,
              "ticks": ""
             }
            },
            "type": "scattergl"
           }
          ],
          "scattermapbox": [
           {
            "marker": {
             "colorbar": {
              "outlinewidth": 0,
              "ticks": ""
             }
            },
            "type": "scattermapbox"
           }
          ],
          "scatterpolar": [
           {
            "marker": {
             "colorbar": {
              "outlinewidth": 0,
              "ticks": ""
             }
            },
            "type": "scatterpolar"
           }
          ],
          "scatterpolargl": [
           {
            "marker": {
             "colorbar": {
              "outlinewidth": 0,
              "ticks": ""
             }
            },
            "type": "scatterpolargl"
           }
          ],
          "scatterternary": [
           {
            "marker": {
             "colorbar": {
              "outlinewidth": 0,
              "ticks": ""
             }
            },
            "type": "scatterternary"
           }
          ],
          "surface": [
           {
            "colorbar": {
             "outlinewidth": 0,
             "ticks": ""
            },
            "colorscale": [
             [
              0,
              "#0d0887"
             ],
             [
              0.1111111111111111,
              "#46039f"
             ],
             [
              0.2222222222222222,
              "#7201a8"
             ],
             [
              0.3333333333333333,
              "#9c179e"
             ],
             [
              0.4444444444444444,
              "#bd3786"
             ],
             [
              0.5555555555555556,
              "#d8576b"
             ],
             [
              0.6666666666666666,
              "#ed7953"
             ],
             [
              0.7777777777777778,
              "#fb9f3a"
             ],
             [
              0.8888888888888888,
              "#fdca26"
             ],
             [
              1,
              "#f0f921"
             ]
            ],
            "type": "surface"
           }
          ],
          "table": [
           {
            "cells": {
             "fill": {
              "color": "#EBF0F8"
             },
             "line": {
              "color": "white"
             }
            },
            "header": {
             "fill": {
              "color": "#C8D4E3"
             },
             "line": {
              "color": "white"
             }
            },
            "type": "table"
           }
          ]
         },
         "layout": {
          "annotationdefaults": {
           "arrowcolor": "#2a3f5f",
           "arrowhead": 0,
           "arrowwidth": 1
          },
          "autotypenumbers": "strict",
          "coloraxis": {
           "colorbar": {
            "outlinewidth": 0,
            "ticks": ""
           }
          },
          "colorscale": {
           "diverging": [
            [
             0,
             "#8e0152"
            ],
            [
             0.1,
             "#c51b7d"
            ],
            [
             0.2,
             "#de77ae"
            ],
            [
             0.3,
             "#f1b6da"
            ],
            [
             0.4,
             "#fde0ef"
            ],
            [
             0.5,
             "#f7f7f7"
            ],
            [
             0.6,
             "#e6f5d0"
            ],
            [
             0.7,
             "#b8e186"
            ],
            [
             0.8,
             "#7fbc41"
            ],
            [
             0.9,
             "#4d9221"
            ],
            [
             1,
             "#276419"
            ]
           ],
           "sequential": [
            [
             0,
             "#0d0887"
            ],
            [
             0.1111111111111111,
             "#46039f"
            ],
            [
             0.2222222222222222,
             "#7201a8"
            ],
            [
             0.3333333333333333,
             "#9c179e"
            ],
            [
             0.4444444444444444,
             "#bd3786"
            ],
            [
             0.5555555555555556,
             "#d8576b"
            ],
            [
             0.6666666666666666,
             "#ed7953"
            ],
            [
             0.7777777777777778,
             "#fb9f3a"
            ],
            [
             0.8888888888888888,
             "#fdca26"
            ],
            [
             1,
             "#f0f921"
            ]
           ],
           "sequentialminus": [
            [
             0,
             "#0d0887"
            ],
            [
             0.1111111111111111,
             "#46039f"
            ],
            [
             0.2222222222222222,
             "#7201a8"
            ],
            [
             0.3333333333333333,
             "#9c179e"
            ],
            [
             0.4444444444444444,
             "#bd3786"
            ],
            [
             0.5555555555555556,
             "#d8576b"
            ],
            [
             0.6666666666666666,
             "#ed7953"
            ],
            [
             0.7777777777777778,
             "#fb9f3a"
            ],
            [
             0.8888888888888888,
             "#fdca26"
            ],
            [
             1,
             "#f0f921"
            ]
           ]
          },
          "colorway": [
           "#636efa",
           "#EF553B",
           "#00cc96",
           "#ab63fa",
           "#FFA15A",
           "#19d3f3",
           "#FF6692",
           "#B6E880",
           "#FF97FF",
           "#FECB52"
          ],
          "font": {
           "color": "#2a3f5f"
          },
          "geo": {
           "bgcolor": "white",
           "lakecolor": "white",
           "landcolor": "#E5ECF6",
           "showlakes": true,
           "showland": true,
           "subunitcolor": "white"
          },
          "hoverlabel": {
           "align": "left"
          },
          "hovermode": "closest",
          "mapbox": {
           "style": "light"
          },
          "paper_bgcolor": "white",
          "plot_bgcolor": "#E5ECF6",
          "polar": {
           "angularaxis": {
            "gridcolor": "white",
            "linecolor": "white",
            "ticks": ""
           },
           "bgcolor": "#E5ECF6",
           "radialaxis": {
            "gridcolor": "white",
            "linecolor": "white",
            "ticks": ""
           }
          },
          "scene": {
           "xaxis": {
            "backgroundcolor": "#E5ECF6",
            "gridcolor": "white",
            "gridwidth": 2,
            "linecolor": "white",
            "showbackground": true,
            "ticks": "",
            "zerolinecolor": "white"
           },
           "yaxis": {
            "backgroundcolor": "#E5ECF6",
            "gridcolor": "white",
            "gridwidth": 2,
            "linecolor": "white",
            "showbackground": true,
            "ticks": "",
            "zerolinecolor": "white"
           },
           "zaxis": {
            "backgroundcolor": "#E5ECF6",
            "gridcolor": "white",
            "gridwidth": 2,
            "linecolor": "white",
            "showbackground": true,
            "ticks": "",
            "zerolinecolor": "white"
           }
          },
          "shapedefaults": {
           "line": {
            "color": "#2a3f5f"
           }
          },
          "ternary": {
           "aaxis": {
            "gridcolor": "white",
            "linecolor": "white",
            "ticks": ""
           },
           "baxis": {
            "gridcolor": "white",
            "linecolor": "white",
            "ticks": ""
           },
           "bgcolor": "#E5ECF6",
           "caxis": {
            "gridcolor": "white",
            "linecolor": "white",
            "ticks": ""
           }
          },
          "title": {
           "x": 0.05
          },
          "xaxis": {
           "automargin": true,
           "gridcolor": "white",
           "linecolor": "white",
           "ticks": "",
           "title": {
            "standoff": 15
           },
           "zerolinecolor": "white",
           "zerolinewidth": 2
          },
          "yaxis": {
           "automargin": true,
           "gridcolor": "white",
           "linecolor": "white",
           "ticks": "",
           "title": {
            "standoff": 15
           },
           "zerolinecolor": "white",
           "zerolinewidth": 2
          }
         }
        },
        "title": {
         "text": "ventes par franchise/ nombre de jeux par franchise"
        },
        "width": 750
       }
      },
      "text/html": [
       "<div>                            <div id=\"57ea1889-caa6-464c-996a-4dadf827c725\" class=\"plotly-graph-div\" style=\"height:750px; width:750px;\"></div>            <script type=\"text/javascript\">                require([\"plotly\"], function(Plotly) {                    window.PLOTLYENV=window.PLOTLYENV || {};                                    if (document.getElementById(\"57ea1889-caa6-464c-996a-4dadf827c725\")) {                    Plotly.newPlot(                        \"57ea1889-caa6-464c-996a-4dadf827c725\",                        [{\"branchvalues\":\"total\",\"domain\":{\"x\":[0.0,1.0],\"y\":[0.0,1.0]},\"hovertemplate\":\"labels=%{label}<br>Global_Sales=%{value}<br>parent=%{parent}<br>id=%{id}<extra></extra>\",\"ids\":[\"Wii/205.25/11/1.0\",\"Need for Speed/81.29/19/1.0\",\"FIFA/138.33/22/2.0\",\"Madden NFL/103.85/24/2.0\",\"Mario Kart/109.46/8/3.0\",\"Call of Duty/241.92/17/5.0\",\"Grand Theft Auto/154.71/9/7.0\",\"Super Mario/296.05/21/8.0\",\"The Legend of Zelda/87.57/23/8.0\",\"Final Fantasy/88.94/46/10.0\",\"Mario Kart/109.46/8\",\"Grand Theft Auto/154.71/9\",\"Wii/205.25/11\",\"Call of Duty/241.92/17\",\"Need for Speed/81.29/19\",\"Super Mario/296.05/21\",\"FIFA/138.33/22\",\"The Legend of Zelda/87.57/23\",\"Madden NFL/103.85/24\",\"Final Fantasy/88.94/46\",\"Need for Speed/81.29\",\"The Legend of Zelda/87.57\",\"Final Fantasy/88.94\",\"Madden NFL/103.85\",\"Mario Kart/109.46\",\"FIFA/138.33\",\"Grand Theft Auto/154.71\",\"Wii/205.25\",\"Call of Duty/241.92\",\"Super Mario/296.05\",\"Call of Duty\",\"FIFA\",\"Final Fantasy\",\"Grand Theft Auto\",\"Madden NFL\",\"Mario Kart\",\"Need for Speed\",\"Super Mario\",\"The Legend of Zelda\",\"Wii\"],\"labels\":[\"1.0\",\"1.0\",\"2.0\",\"2.0\",\"3.0\",\"5.0\",\"7.0\",\"8.0\",\"8.0\",\"10.0\",\"8\",\"9\",\"11\",\"17\",\"19\",\"21\",\"22\",\"23\",\"24\",\"46\",\"81.29\",\"87.57\",\"88.94\",\"103.85\",\"109.46\",\"138.33\",\"154.71\",\"205.25\",\"241.92\",\"296.05\",\"Call of Duty\",\"FIFA\",\"Final Fantasy\",\"Grand Theft Auto\",\"Madden NFL\",\"Mario Kart\",\"Need for Speed\",\"Super Mario\",\"The Legend of Zelda\",\"Wii\"],\"name\":\"\",\"parents\":[\"Wii/205.25/11\",\"Need for Speed/81.29/19\",\"FIFA/138.33/22\",\"Madden NFL/103.85/24\",\"Mario Kart/109.46/8\",\"Call of Duty/241.92/17\",\"Grand Theft Auto/154.71/9\",\"Super Mario/296.05/21\",\"The Legend of Zelda/87.57/23\",\"Final Fantasy/88.94/46\",\"Mario Kart/109.46\",\"Grand Theft Auto/154.71\",\"Wii/205.25\",\"Call of Duty/241.92\",\"Need for Speed/81.29\",\"Super Mario/296.05\",\"FIFA/138.33\",\"The Legend of Zelda/87.57\",\"Madden NFL/103.85\",\"Final Fantasy/88.94\",\"Need for Speed\",\"The Legend of Zelda\",\"Final Fantasy\",\"Madden NFL\",\"Mario Kart\",\"FIFA\",\"Grand Theft Auto\",\"Wii\",\"Call of Duty\",\"Super Mario\",\"\",\"\",\"\",\"\",\"\",\"\",\"\",\"\",\"\",\"\"],\"values\":[205.25,81.29,138.33,103.85,109.46,241.92,154.71,296.05,87.57,88.94,109.46,154.71,205.25,241.92,81.29,296.05,138.33,87.57,103.85,88.94,81.29,87.57,88.94,103.85,109.46,138.33,154.71,205.25,241.92,296.05,241.92,138.33,88.94,154.71,103.85,109.46,81.29,296.05,87.57,205.25],\"type\":\"sunburst\"}],                        {\"template\":{\"data\":{\"histogram2dcontour\":[{\"type\":\"histogram2dcontour\",\"colorbar\":{\"outlinewidth\":0,\"ticks\":\"\"},\"colorscale\":[[0.0,\"#0d0887\"],[0.1111111111111111,\"#46039f\"],[0.2222222222222222,\"#7201a8\"],[0.3333333333333333,\"#9c179e\"],[0.4444444444444444,\"#bd3786\"],[0.5555555555555556,\"#d8576b\"],[0.6666666666666666,\"#ed7953\"],[0.7777777777777778,\"#fb9f3a\"],[0.8888888888888888,\"#fdca26\"],[1.0,\"#f0f921\"]]}],\"choropleth\":[{\"type\":\"choropleth\",\"colorbar\":{\"outlinewidth\":0,\"ticks\":\"\"}}],\"histogram2d\":[{\"type\":\"histogram2d\",\"colorbar\":{\"outlinewidth\":0,\"ticks\":\"\"},\"colorscale\":[[0.0,\"#0d0887\"],[0.1111111111111111,\"#46039f\"],[0.2222222222222222,\"#7201a8\"],[0.3333333333333333,\"#9c179e\"],[0.4444444444444444,\"#bd3786\"],[0.5555555555555556,\"#d8576b\"],[0.6666666666666666,\"#ed7953\"],[0.7777777777777778,\"#fb9f3a\"],[0.8888888888888888,\"#fdca26\"],[1.0,\"#f0f921\"]]}],\"heatmap\":[{\"type\":\"heatmap\",\"colorbar\":{\"outlinewidth\":0,\"ticks\":\"\"},\"colorscale\":[[0.0,\"#0d0887\"],[0.1111111111111111,\"#46039f\"],[0.2222222222222222,\"#7201a8\"],[0.3333333333333333,\"#9c179e\"],[0.4444444444444444,\"#bd3786\"],[0.5555555555555556,\"#d8576b\"],[0.6666666666666666,\"#ed7953\"],[0.7777777777777778,\"#fb9f3a\"],[0.8888888888888888,\"#fdca26\"],[1.0,\"#f0f921\"]]}],\"heatmapgl\":[{\"type\":\"heatmapgl\",\"colorbar\":{\"outlinewidth\":0,\"ticks\":\"\"},\"colorscale\":[[0.0,\"#0d0887\"],[0.1111111111111111,\"#46039f\"],[0.2222222222222222,\"#7201a8\"],[0.3333333333333333,\"#9c179e\"],[0.4444444444444444,\"#bd3786\"],[0.5555555555555556,\"#d8576b\"],[0.6666666666666666,\"#ed7953\"],[0.7777777777777778,\"#fb9f3a\"],[0.8888888888888888,\"#fdca26\"],[1.0,\"#f0f921\"]]}],\"contourcarpet\":[{\"type\":\"contourcarpet\",\"colorbar\":{\"outlinewidth\":0,\"ticks\":\"\"}}],\"contour\":[{\"type\":\"contour\",\"colorbar\":{\"outlinewidth\":0,\"ticks\":\"\"},\"colorscale\":[[0.0,\"#0d0887\"],[0.1111111111111111,\"#46039f\"],[0.2222222222222222,\"#7201a8\"],[0.3333333333333333,\"#9c179e\"],[0.4444444444444444,\"#bd3786\"],[0.5555555555555556,\"#d8576b\"],[0.6666666666666666,\"#ed7953\"],[0.7777777777777778,\"#fb9f3a\"],[0.8888888888888888,\"#fdca26\"],[1.0,\"#f0f921\"]]}],\"surface\":[{\"type\":\"surface\",\"colorbar\":{\"outlinewidth\":0,\"ticks\":\"\"},\"colorscale\":[[0.0,\"#0d0887\"],[0.1111111111111111,\"#46039f\"],[0.2222222222222222,\"#7201a8\"],[0.3333333333333333,\"#9c179e\"],[0.4444444444444444,\"#bd3786\"],[0.5555555555555556,\"#d8576b\"],[0.6666666666666666,\"#ed7953\"],[0.7777777777777778,\"#fb9f3a\"],[0.8888888888888888,\"#fdca26\"],[1.0,\"#f0f921\"]]}],\"mesh3d\":[{\"type\":\"mesh3d\",\"colorbar\":{\"outlinewidth\":0,\"ticks\":\"\"}}],\"scatter\":[{\"fillpattern\":{\"fillmode\":\"overlay\",\"size\":10,\"solidity\":0.2},\"type\":\"scatter\"}],\"parcoords\":[{\"type\":\"parcoords\",\"line\":{\"colorbar\":{\"outlinewidth\":0,\"ticks\":\"\"}}}],\"scatterpolargl\":[{\"type\":\"scatterpolargl\",\"marker\":{\"colorbar\":{\"outlinewidth\":0,\"ticks\":\"\"}}}],\"bar\":[{\"error_x\":{\"color\":\"#2a3f5f\"},\"error_y\":{\"color\":\"#2a3f5f\"},\"marker\":{\"line\":{\"color\":\"#E5ECF6\",\"width\":0.5},\"pattern\":{\"fillmode\":\"overlay\",\"size\":10,\"solidity\":0.2}},\"type\":\"bar\"}],\"scattergeo\":[{\"type\":\"scattergeo\",\"marker\":{\"colorbar\":{\"outlinewidth\":0,\"ticks\":\"\"}}}],\"scatterpolar\":[{\"type\":\"scatterpolar\",\"marker\":{\"colorbar\":{\"outlinewidth\":0,\"ticks\":\"\"}}}],\"histogram\":[{\"marker\":{\"pattern\":{\"fillmode\":\"overlay\",\"size\":10,\"solidity\":0.2}},\"type\":\"histogram\"}],\"scattergl\":[{\"type\":\"scattergl\",\"marker\":{\"colorbar\":{\"outlinewidth\":0,\"ticks\":\"\"}}}],\"scatter3d\":[{\"type\":\"scatter3d\",\"line\":{\"colorbar\":{\"outlinewidth\":0,\"ticks\":\"\"}},\"marker\":{\"colorbar\":{\"outlinewidth\":0,\"ticks\":\"\"}}}],\"scattermapbox\":[{\"type\":\"scattermapbox\",\"marker\":{\"colorbar\":{\"outlinewidth\":0,\"ticks\":\"\"}}}],\"scatterternary\":[{\"type\":\"scatterternary\",\"marker\":{\"colorbar\":{\"outlinewidth\":0,\"ticks\":\"\"}}}],\"scattercarpet\":[{\"type\":\"scattercarpet\",\"marker\":{\"colorbar\":{\"outlinewidth\":0,\"ticks\":\"\"}}}],\"carpet\":[{\"aaxis\":{\"endlinecolor\":\"#2a3f5f\",\"gridcolor\":\"white\",\"linecolor\":\"white\",\"minorgridcolor\":\"white\",\"startlinecolor\":\"#2a3f5f\"},\"baxis\":{\"endlinecolor\":\"#2a3f5f\",\"gridcolor\":\"white\",\"linecolor\":\"white\",\"minorgridcolor\":\"white\",\"startlinecolor\":\"#2a3f5f\"},\"type\":\"carpet\"}],\"table\":[{\"cells\":{\"fill\":{\"color\":\"#EBF0F8\"},\"line\":{\"color\":\"white\"}},\"header\":{\"fill\":{\"color\":\"#C8D4E3\"},\"line\":{\"color\":\"white\"}},\"type\":\"table\"}],\"barpolar\":[{\"marker\":{\"line\":{\"color\":\"#E5ECF6\",\"width\":0.5},\"pattern\":{\"fillmode\":\"overlay\",\"size\":10,\"solidity\":0.2}},\"type\":\"barpolar\"}],\"pie\":[{\"automargin\":true,\"type\":\"pie\"}]},\"layout\":{\"autotypenumbers\":\"strict\",\"colorway\":[\"#636efa\",\"#EF553B\",\"#00cc96\",\"#ab63fa\",\"#FFA15A\",\"#19d3f3\",\"#FF6692\",\"#B6E880\",\"#FF97FF\",\"#FECB52\"],\"font\":{\"color\":\"#2a3f5f\"},\"hovermode\":\"closest\",\"hoverlabel\":{\"align\":\"left\"},\"paper_bgcolor\":\"white\",\"plot_bgcolor\":\"#E5ECF6\",\"polar\":{\"bgcolor\":\"#E5ECF6\",\"angularaxis\":{\"gridcolor\":\"white\",\"linecolor\":\"white\",\"ticks\":\"\"},\"radialaxis\":{\"gridcolor\":\"white\",\"linecolor\":\"white\",\"ticks\":\"\"}},\"ternary\":{\"bgcolor\":\"#E5ECF6\",\"aaxis\":{\"gridcolor\":\"white\",\"linecolor\":\"white\",\"ticks\":\"\"},\"baxis\":{\"gridcolor\":\"white\",\"linecolor\":\"white\",\"ticks\":\"\"},\"caxis\":{\"gridcolor\":\"white\",\"linecolor\":\"white\",\"ticks\":\"\"}},\"coloraxis\":{\"colorbar\":{\"outlinewidth\":0,\"ticks\":\"\"}},\"colorscale\":{\"sequential\":[[0.0,\"#0d0887\"],[0.1111111111111111,\"#46039f\"],[0.2222222222222222,\"#7201a8\"],[0.3333333333333333,\"#9c179e\"],[0.4444444444444444,\"#bd3786\"],[0.5555555555555556,\"#d8576b\"],[0.6666666666666666,\"#ed7953\"],[0.7777777777777778,\"#fb9f3a\"],[0.8888888888888888,\"#fdca26\"],[1.0,\"#f0f921\"]],\"sequentialminus\":[[0.0,\"#0d0887\"],[0.1111111111111111,\"#46039f\"],[0.2222222222222222,\"#7201a8\"],[0.3333333333333333,\"#9c179e\"],[0.4444444444444444,\"#bd3786\"],[0.5555555555555556,\"#d8576b\"],[0.6666666666666666,\"#ed7953\"],[0.7777777777777778,\"#fb9f3a\"],[0.8888888888888888,\"#fdca26\"],[1.0,\"#f0f921\"]],\"diverging\":[[0,\"#8e0152\"],[0.1,\"#c51b7d\"],[0.2,\"#de77ae\"],[0.3,\"#f1b6da\"],[0.4,\"#fde0ef\"],[0.5,\"#f7f7f7\"],[0.6,\"#e6f5d0\"],[0.7,\"#b8e186\"],[0.8,\"#7fbc41\"],[0.9,\"#4d9221\"],[1,\"#276419\"]]},\"xaxis\":{\"gridcolor\":\"white\",\"linecolor\":\"white\",\"ticks\":\"\",\"title\":{\"standoff\":15},\"zerolinecolor\":\"white\",\"automargin\":true,\"zerolinewidth\":2},\"yaxis\":{\"gridcolor\":\"white\",\"linecolor\":\"white\",\"ticks\":\"\",\"title\":{\"standoff\":15},\"zerolinecolor\":\"white\",\"automargin\":true,\"zerolinewidth\":2},\"scene\":{\"xaxis\":{\"backgroundcolor\":\"#E5ECF6\",\"gridcolor\":\"white\",\"linecolor\":\"white\",\"showbackground\":true,\"ticks\":\"\",\"zerolinecolor\":\"white\",\"gridwidth\":2},\"yaxis\":{\"backgroundcolor\":\"#E5ECF6\",\"gridcolor\":\"white\",\"linecolor\":\"white\",\"showbackground\":true,\"ticks\":\"\",\"zerolinecolor\":\"white\",\"gridwidth\":2},\"zaxis\":{\"backgroundcolor\":\"#E5ECF6\",\"gridcolor\":\"white\",\"linecolor\":\"white\",\"showbackground\":true,\"ticks\":\"\",\"zerolinecolor\":\"white\",\"gridwidth\":2}},\"shapedefaults\":{\"line\":{\"color\":\"#2a3f5f\"}},\"annotationdefaults\":{\"arrowcolor\":\"#2a3f5f\",\"arrowhead\":0,\"arrowwidth\":1},\"geo\":{\"bgcolor\":\"white\",\"landcolor\":\"#E5ECF6\",\"subunitcolor\":\"white\",\"showland\":true,\"showlakes\":true,\"lakecolor\":\"white\"},\"title\":{\"x\":0.05},\"mapbox\":{\"style\":\"light\"}}},\"legend\":{\"tracegroupgap\":0},\"title\":{\"text\":\"ventes par franchise/ nombre de jeux par franchise\"},\"height\":750,\"width\":750},                        {\"responsive\": true}                    ).then(function(){\n",
       "                            \n",
       "var gd = document.getElementById('57ea1889-caa6-464c-996a-4dadf827c725');\n",
       "var x = new MutationObserver(function (mutations, observer) {{\n",
       "        var display = window.getComputedStyle(gd).display;\n",
       "        if (!display || display === 'none') {{\n",
       "            console.log([gd, 'removed!']);\n",
       "            Plotly.purge(gd);\n",
       "            observer.disconnect();\n",
       "        }}\n",
       "}});\n",
       "\n",
       "// Listen for the removal of the full notebook cells\n",
       "var notebookContainer = gd.closest('#notebook-container');\n",
       "if (notebookContainer) {{\n",
       "    x.observe(notebookContainer, {childList: true});\n",
       "}}\n",
       "\n",
       "// Listen for the clearing of the current output cell\n",
       "var outputEl = gd.closest('.output');\n",
       "if (outputEl) {{\n",
       "    x.observe(outputEl, {childList: true});\n",
       "}}\n",
       "\n",
       "                        })                };                });            </script>        </div>"
      ]
     },
     "metadata": {},
     "output_type": "display_data"
    }
   ],
   "source": [
    "fig = px.sunburst(df9.head(10),\n",
    "                  path=['series', 'Global_Sales','count_games','awarded'],\n",
    "                  values = 'Global_Sales',\n",
    "                  title=\"ventes par franchise/ nombre de jeux par franchise\",\n",
    "                  width=750, height=750)\n",
    "fig.show()"
   ]
  },
  {
   "cell_type": "markdown",
   "id": "0a549c31",
   "metadata": {},
   "source": [
    "# adding metacritics review"
   ]
  },
  {
   "cell_type": "code",
   "execution_count": 169,
   "id": "60a7483a",
   "metadata": {},
   "outputs": [],
   "source": [
    "meta = pd.read_csv('metacritic.csv')\n",
    "meta\n",
    "\n",
    "meta_merge = wiki_merge.merge(meta,how = 'inner', on = 'Name')\n"
   ]
  },
  {
   "cell_type": "code",
   "execution_count": 170,
   "id": "ded944a8",
   "metadata": {},
   "outputs": [
    {
     "data": {
      "text/html": [
       "<div>\n",
       "<style scoped>\n",
       "    .dataframe tbody tr th:only-of-type {\n",
       "        vertical-align: middle;\n",
       "    }\n",
       "\n",
       "    .dataframe tbody tr th {\n",
       "        vertical-align: top;\n",
       "    }\n",
       "\n",
       "    .dataframe thead th {\n",
       "        text-align: right;\n",
       "    }\n",
       "</style>\n",
       "<table border=\"1\" class=\"dataframe\">\n",
       "  <thead>\n",
       "    <tr style=\"text-align: right;\">\n",
       "      <th></th>\n",
       "      <th>Name</th>\n",
       "      <th>multiplayer</th>\n",
       "      <th>singleplayer</th>\n",
       "      <th>awarded</th>\n",
       "      <th>Platform_x</th>\n",
       "      <th>Year</th>\n",
       "      <th>Genre_x</th>\n",
       "      <th>Publisher_x</th>\n",
       "      <th>NA_Sales</th>\n",
       "      <th>EU_Sales</th>\n",
       "      <th>...</th>\n",
       "      <th>series</th>\n",
       "      <th>Platform_y</th>\n",
       "      <th>Release_date</th>\n",
       "      <th>Genre_y</th>\n",
       "      <th>Meta_Critic_Score</th>\n",
       "      <th>Meta_User_Score</th>\n",
       "      <th>Publisher_y</th>\n",
       "      <th>Developer</th>\n",
       "      <th>N_Critic_Reviews</th>\n",
       "      <th>N_User_Reviews</th>\n",
       "    </tr>\n",
       "  </thead>\n",
       "  <tbody>\n",
       "    <tr>\n",
       "      <th>14</th>\n",
       "      <td>Grand Theft Auto V</td>\n",
       "      <td>1.0</td>\n",
       "      <td>1.0</td>\n",
       "      <td>1.0</td>\n",
       "      <td>PS3</td>\n",
       "      <td>2013.0</td>\n",
       "      <td>Action</td>\n",
       "      <td>Take-Two Interactive</td>\n",
       "      <td>7.01</td>\n",
       "      <td>9.27</td>\n",
       "      <td>...</td>\n",
       "      <td>Grand Theft Auto</td>\n",
       "      <td>PlayStation 3</td>\n",
       "      <td>Sep 17, 2013</td>\n",
       "      <td>Modern, Action Adventure, Modern, Open-World</td>\n",
       "      <td>97.0</td>\n",
       "      <td>8.3</td>\n",
       "      <td>Rockstar Games</td>\n",
       "      <td>Rockstar North</td>\n",
       "      <td>50</td>\n",
       "      <td>4829</td>\n",
       "    </tr>\n",
       "    <tr>\n",
       "      <th>15</th>\n",
       "      <td>Grand Theft Auto V</td>\n",
       "      <td>1.0</td>\n",
       "      <td>1.0</td>\n",
       "      <td>1.0</td>\n",
       "      <td>PS3</td>\n",
       "      <td>2013.0</td>\n",
       "      <td>Action</td>\n",
       "      <td>Take-Two Interactive</td>\n",
       "      <td>7.01</td>\n",
       "      <td>9.27</td>\n",
       "      <td>...</td>\n",
       "      <td>Grand Theft Auto</td>\n",
       "      <td>Xbox 360</td>\n",
       "      <td>Sep 17, 2013</td>\n",
       "      <td>Modern, Action Adventure, Modern, Open-World</td>\n",
       "      <td>97.0</td>\n",
       "      <td>8.3</td>\n",
       "      <td>Rockstar Games</td>\n",
       "      <td>Rockstar North</td>\n",
       "      <td>58</td>\n",
       "      <td>4048</td>\n",
       "    </tr>\n",
       "    <tr>\n",
       "      <th>16</th>\n",
       "      <td>Grand Theft Auto V</td>\n",
       "      <td>1.0</td>\n",
       "      <td>1.0</td>\n",
       "      <td>1.0</td>\n",
       "      <td>PS3</td>\n",
       "      <td>2013.0</td>\n",
       "      <td>Action</td>\n",
       "      <td>Take-Two Interactive</td>\n",
       "      <td>7.01</td>\n",
       "      <td>9.27</td>\n",
       "      <td>...</td>\n",
       "      <td>Grand Theft Auto</td>\n",
       "      <td>Xbox One</td>\n",
       "      <td>Nov 18, 2014</td>\n",
       "      <td>Action Adventure, Modern, Open-World</td>\n",
       "      <td>97.0</td>\n",
       "      <td>7.9</td>\n",
       "      <td>Rockstar Games</td>\n",
       "      <td>Rockstar North</td>\n",
       "      <td>14</td>\n",
       "      <td>1596</td>\n",
       "    </tr>\n",
       "    <tr>\n",
       "      <th>17</th>\n",
       "      <td>Grand Theft Auto V</td>\n",
       "      <td>1.0</td>\n",
       "      <td>1.0</td>\n",
       "      <td>1.0</td>\n",
       "      <td>PS3</td>\n",
       "      <td>2013.0</td>\n",
       "      <td>Action</td>\n",
       "      <td>Take-Two Interactive</td>\n",
       "      <td>7.01</td>\n",
       "      <td>9.27</td>\n",
       "      <td>...</td>\n",
       "      <td>Grand Theft Auto</td>\n",
       "      <td>PlayStation 4</td>\n",
       "      <td>Nov 18, 2014</td>\n",
       "      <td>Action Adventure, Modern, Open-World</td>\n",
       "      <td>97.0</td>\n",
       "      <td>8.4</td>\n",
       "      <td>Rockstar Games</td>\n",
       "      <td>Rockstar North</td>\n",
       "      <td>66</td>\n",
       "      <td>7079</td>\n",
       "    </tr>\n",
       "    <tr>\n",
       "      <th>18</th>\n",
       "      <td>Grand Theft Auto V</td>\n",
       "      <td>1.0</td>\n",
       "      <td>1.0</td>\n",
       "      <td>1.0</td>\n",
       "      <td>PS3</td>\n",
       "      <td>2013.0</td>\n",
       "      <td>Action</td>\n",
       "      <td>Take-Two Interactive</td>\n",
       "      <td>7.01</td>\n",
       "      <td>9.27</td>\n",
       "      <td>...</td>\n",
       "      <td>Grand Theft Auto</td>\n",
       "      <td>PC</td>\n",
       "      <td>Apr 13, 2015</td>\n",
       "      <td>Modern, Action Adventure, Open-World</td>\n",
       "      <td>96.0</td>\n",
       "      <td>7.8</td>\n",
       "      <td>Rockstar Games</td>\n",
       "      <td>Rockstar North</td>\n",
       "      <td>57</td>\n",
       "      <td>8117</td>\n",
       "    </tr>\n",
       "    <tr>\n",
       "      <th>19</th>\n",
       "      <td>Grand Theft Auto V</td>\n",
       "      <td>1.0</td>\n",
       "      <td>1.0</td>\n",
       "      <td>1.0</td>\n",
       "      <td>X360</td>\n",
       "      <td>2013.0</td>\n",
       "      <td>Action</td>\n",
       "      <td>Take-Two Interactive</td>\n",
       "      <td>9.63</td>\n",
       "      <td>5.31</td>\n",
       "      <td>...</td>\n",
       "      <td>Grand Theft Auto</td>\n",
       "      <td>PlayStation 3</td>\n",
       "      <td>Sep 17, 2013</td>\n",
       "      <td>Modern, Action Adventure, Modern, Open-World</td>\n",
       "      <td>97.0</td>\n",
       "      <td>8.3</td>\n",
       "      <td>Rockstar Games</td>\n",
       "      <td>Rockstar North</td>\n",
       "      <td>50</td>\n",
       "      <td>4829</td>\n",
       "    </tr>\n",
       "    <tr>\n",
       "      <th>20</th>\n",
       "      <td>Grand Theft Auto V</td>\n",
       "      <td>1.0</td>\n",
       "      <td>1.0</td>\n",
       "      <td>1.0</td>\n",
       "      <td>X360</td>\n",
       "      <td>2013.0</td>\n",
       "      <td>Action</td>\n",
       "      <td>Take-Two Interactive</td>\n",
       "      <td>9.63</td>\n",
       "      <td>5.31</td>\n",
       "      <td>...</td>\n",
       "      <td>Grand Theft Auto</td>\n",
       "      <td>Xbox 360</td>\n",
       "      <td>Sep 17, 2013</td>\n",
       "      <td>Modern, Action Adventure, Modern, Open-World</td>\n",
       "      <td>97.0</td>\n",
       "      <td>8.3</td>\n",
       "      <td>Rockstar Games</td>\n",
       "      <td>Rockstar North</td>\n",
       "      <td>58</td>\n",
       "      <td>4048</td>\n",
       "    </tr>\n",
       "    <tr>\n",
       "      <th>21</th>\n",
       "      <td>Grand Theft Auto V</td>\n",
       "      <td>1.0</td>\n",
       "      <td>1.0</td>\n",
       "      <td>1.0</td>\n",
       "      <td>X360</td>\n",
       "      <td>2013.0</td>\n",
       "      <td>Action</td>\n",
       "      <td>Take-Two Interactive</td>\n",
       "      <td>9.63</td>\n",
       "      <td>5.31</td>\n",
       "      <td>...</td>\n",
       "      <td>Grand Theft Auto</td>\n",
       "      <td>Xbox One</td>\n",
       "      <td>Nov 18, 2014</td>\n",
       "      <td>Action Adventure, Modern, Open-World</td>\n",
       "      <td>97.0</td>\n",
       "      <td>7.9</td>\n",
       "      <td>Rockstar Games</td>\n",
       "      <td>Rockstar North</td>\n",
       "      <td>14</td>\n",
       "      <td>1596</td>\n",
       "    </tr>\n",
       "    <tr>\n",
       "      <th>22</th>\n",
       "      <td>Grand Theft Auto V</td>\n",
       "      <td>1.0</td>\n",
       "      <td>1.0</td>\n",
       "      <td>1.0</td>\n",
       "      <td>X360</td>\n",
       "      <td>2013.0</td>\n",
       "      <td>Action</td>\n",
       "      <td>Take-Two Interactive</td>\n",
       "      <td>9.63</td>\n",
       "      <td>5.31</td>\n",
       "      <td>...</td>\n",
       "      <td>Grand Theft Auto</td>\n",
       "      <td>PlayStation 4</td>\n",
       "      <td>Nov 18, 2014</td>\n",
       "      <td>Action Adventure, Modern, Open-World</td>\n",
       "      <td>97.0</td>\n",
       "      <td>8.4</td>\n",
       "      <td>Rockstar Games</td>\n",
       "      <td>Rockstar North</td>\n",
       "      <td>66</td>\n",
       "      <td>7079</td>\n",
       "    </tr>\n",
       "    <tr>\n",
       "      <th>23</th>\n",
       "      <td>Grand Theft Auto V</td>\n",
       "      <td>1.0</td>\n",
       "      <td>1.0</td>\n",
       "      <td>1.0</td>\n",
       "      <td>X360</td>\n",
       "      <td>2013.0</td>\n",
       "      <td>Action</td>\n",
       "      <td>Take-Two Interactive</td>\n",
       "      <td>9.63</td>\n",
       "      <td>5.31</td>\n",
       "      <td>...</td>\n",
       "      <td>Grand Theft Auto</td>\n",
       "      <td>PC</td>\n",
       "      <td>Apr 13, 2015</td>\n",
       "      <td>Modern, Action Adventure, Open-World</td>\n",
       "      <td>96.0</td>\n",
       "      <td>7.8</td>\n",
       "      <td>Rockstar Games</td>\n",
       "      <td>Rockstar North</td>\n",
       "      <td>57</td>\n",
       "      <td>8117</td>\n",
       "    </tr>\n",
       "    <tr>\n",
       "      <th>24</th>\n",
       "      <td>Grand Theft Auto V</td>\n",
       "      <td>1.0</td>\n",
       "      <td>1.0</td>\n",
       "      <td>1.0</td>\n",
       "      <td>PS4</td>\n",
       "      <td>2014.0</td>\n",
       "      <td>Action</td>\n",
       "      <td>Take-Two Interactive</td>\n",
       "      <td>3.80</td>\n",
       "      <td>5.81</td>\n",
       "      <td>...</td>\n",
       "      <td>Grand Theft Auto</td>\n",
       "      <td>PlayStation 3</td>\n",
       "      <td>Sep 17, 2013</td>\n",
       "      <td>Modern, Action Adventure, Modern, Open-World</td>\n",
       "      <td>97.0</td>\n",
       "      <td>8.3</td>\n",
       "      <td>Rockstar Games</td>\n",
       "      <td>Rockstar North</td>\n",
       "      <td>50</td>\n",
       "      <td>4829</td>\n",
       "    </tr>\n",
       "    <tr>\n",
       "      <th>25</th>\n",
       "      <td>Grand Theft Auto V</td>\n",
       "      <td>1.0</td>\n",
       "      <td>1.0</td>\n",
       "      <td>1.0</td>\n",
       "      <td>PS4</td>\n",
       "      <td>2014.0</td>\n",
       "      <td>Action</td>\n",
       "      <td>Take-Two Interactive</td>\n",
       "      <td>3.80</td>\n",
       "      <td>5.81</td>\n",
       "      <td>...</td>\n",
       "      <td>Grand Theft Auto</td>\n",
       "      <td>Xbox 360</td>\n",
       "      <td>Sep 17, 2013</td>\n",
       "      <td>Modern, Action Adventure, Modern, Open-World</td>\n",
       "      <td>97.0</td>\n",
       "      <td>8.3</td>\n",
       "      <td>Rockstar Games</td>\n",
       "      <td>Rockstar North</td>\n",
       "      <td>58</td>\n",
       "      <td>4048</td>\n",
       "    </tr>\n",
       "    <tr>\n",
       "      <th>26</th>\n",
       "      <td>Grand Theft Auto V</td>\n",
       "      <td>1.0</td>\n",
       "      <td>1.0</td>\n",
       "      <td>1.0</td>\n",
       "      <td>PS4</td>\n",
       "      <td>2014.0</td>\n",
       "      <td>Action</td>\n",
       "      <td>Take-Two Interactive</td>\n",
       "      <td>3.80</td>\n",
       "      <td>5.81</td>\n",
       "      <td>...</td>\n",
       "      <td>Grand Theft Auto</td>\n",
       "      <td>Xbox One</td>\n",
       "      <td>Nov 18, 2014</td>\n",
       "      <td>Action Adventure, Modern, Open-World</td>\n",
       "      <td>97.0</td>\n",
       "      <td>7.9</td>\n",
       "      <td>Rockstar Games</td>\n",
       "      <td>Rockstar North</td>\n",
       "      <td>14</td>\n",
       "      <td>1596</td>\n",
       "    </tr>\n",
       "    <tr>\n",
       "      <th>27</th>\n",
       "      <td>Grand Theft Auto V</td>\n",
       "      <td>1.0</td>\n",
       "      <td>1.0</td>\n",
       "      <td>1.0</td>\n",
       "      <td>PS4</td>\n",
       "      <td>2014.0</td>\n",
       "      <td>Action</td>\n",
       "      <td>Take-Two Interactive</td>\n",
       "      <td>3.80</td>\n",
       "      <td>5.81</td>\n",
       "      <td>...</td>\n",
       "      <td>Grand Theft Auto</td>\n",
       "      <td>PlayStation 4</td>\n",
       "      <td>Nov 18, 2014</td>\n",
       "      <td>Action Adventure, Modern, Open-World</td>\n",
       "      <td>97.0</td>\n",
       "      <td>8.4</td>\n",
       "      <td>Rockstar Games</td>\n",
       "      <td>Rockstar North</td>\n",
       "      <td>66</td>\n",
       "      <td>7079</td>\n",
       "    </tr>\n",
       "    <tr>\n",
       "      <th>28</th>\n",
       "      <td>Grand Theft Auto V</td>\n",
       "      <td>1.0</td>\n",
       "      <td>1.0</td>\n",
       "      <td>1.0</td>\n",
       "      <td>PS4</td>\n",
       "      <td>2014.0</td>\n",
       "      <td>Action</td>\n",
       "      <td>Take-Two Interactive</td>\n",
       "      <td>3.80</td>\n",
       "      <td>5.81</td>\n",
       "      <td>...</td>\n",
       "      <td>Grand Theft Auto</td>\n",
       "      <td>PC</td>\n",
       "      <td>Apr 13, 2015</td>\n",
       "      <td>Modern, Action Adventure, Open-World</td>\n",
       "      <td>96.0</td>\n",
       "      <td>7.8</td>\n",
       "      <td>Rockstar Games</td>\n",
       "      <td>Rockstar North</td>\n",
       "      <td>57</td>\n",
       "      <td>8117</td>\n",
       "    </tr>\n",
       "    <tr>\n",
       "      <th>29</th>\n",
       "      <td>Grand Theft Auto V</td>\n",
       "      <td>1.0</td>\n",
       "      <td>1.0</td>\n",
       "      <td>1.0</td>\n",
       "      <td>XOne</td>\n",
       "      <td>2014.0</td>\n",
       "      <td>Action</td>\n",
       "      <td>Take-Two Interactive</td>\n",
       "      <td>2.66</td>\n",
       "      <td>2.01</td>\n",
       "      <td>...</td>\n",
       "      <td>Grand Theft Auto</td>\n",
       "      <td>PlayStation 3</td>\n",
       "      <td>Sep 17, 2013</td>\n",
       "      <td>Modern, Action Adventure, Modern, Open-World</td>\n",
       "      <td>97.0</td>\n",
       "      <td>8.3</td>\n",
       "      <td>Rockstar Games</td>\n",
       "      <td>Rockstar North</td>\n",
       "      <td>50</td>\n",
       "      <td>4829</td>\n",
       "    </tr>\n",
       "    <tr>\n",
       "      <th>30</th>\n",
       "      <td>Grand Theft Auto V</td>\n",
       "      <td>1.0</td>\n",
       "      <td>1.0</td>\n",
       "      <td>1.0</td>\n",
       "      <td>XOne</td>\n",
       "      <td>2014.0</td>\n",
       "      <td>Action</td>\n",
       "      <td>Take-Two Interactive</td>\n",
       "      <td>2.66</td>\n",
       "      <td>2.01</td>\n",
       "      <td>...</td>\n",
       "      <td>Grand Theft Auto</td>\n",
       "      <td>Xbox 360</td>\n",
       "      <td>Sep 17, 2013</td>\n",
       "      <td>Modern, Action Adventure, Modern, Open-World</td>\n",
       "      <td>97.0</td>\n",
       "      <td>8.3</td>\n",
       "      <td>Rockstar Games</td>\n",
       "      <td>Rockstar North</td>\n",
       "      <td>58</td>\n",
       "      <td>4048</td>\n",
       "    </tr>\n",
       "    <tr>\n",
       "      <th>31</th>\n",
       "      <td>Grand Theft Auto V</td>\n",
       "      <td>1.0</td>\n",
       "      <td>1.0</td>\n",
       "      <td>1.0</td>\n",
       "      <td>XOne</td>\n",
       "      <td>2014.0</td>\n",
       "      <td>Action</td>\n",
       "      <td>Take-Two Interactive</td>\n",
       "      <td>2.66</td>\n",
       "      <td>2.01</td>\n",
       "      <td>...</td>\n",
       "      <td>Grand Theft Auto</td>\n",
       "      <td>Xbox One</td>\n",
       "      <td>Nov 18, 2014</td>\n",
       "      <td>Action Adventure, Modern, Open-World</td>\n",
       "      <td>97.0</td>\n",
       "      <td>7.9</td>\n",
       "      <td>Rockstar Games</td>\n",
       "      <td>Rockstar North</td>\n",
       "      <td>14</td>\n",
       "      <td>1596</td>\n",
       "    </tr>\n",
       "    <tr>\n",
       "      <th>32</th>\n",
       "      <td>Grand Theft Auto V</td>\n",
       "      <td>1.0</td>\n",
       "      <td>1.0</td>\n",
       "      <td>1.0</td>\n",
       "      <td>XOne</td>\n",
       "      <td>2014.0</td>\n",
       "      <td>Action</td>\n",
       "      <td>Take-Two Interactive</td>\n",
       "      <td>2.66</td>\n",
       "      <td>2.01</td>\n",
       "      <td>...</td>\n",
       "      <td>Grand Theft Auto</td>\n",
       "      <td>PlayStation 4</td>\n",
       "      <td>Nov 18, 2014</td>\n",
       "      <td>Action Adventure, Modern, Open-World</td>\n",
       "      <td>97.0</td>\n",
       "      <td>8.4</td>\n",
       "      <td>Rockstar Games</td>\n",
       "      <td>Rockstar North</td>\n",
       "      <td>66</td>\n",
       "      <td>7079</td>\n",
       "    </tr>\n",
       "    <tr>\n",
       "      <th>33</th>\n",
       "      <td>Grand Theft Auto V</td>\n",
       "      <td>1.0</td>\n",
       "      <td>1.0</td>\n",
       "      <td>1.0</td>\n",
       "      <td>XOne</td>\n",
       "      <td>2014.0</td>\n",
       "      <td>Action</td>\n",
       "      <td>Take-Two Interactive</td>\n",
       "      <td>2.66</td>\n",
       "      <td>2.01</td>\n",
       "      <td>...</td>\n",
       "      <td>Grand Theft Auto</td>\n",
       "      <td>PC</td>\n",
       "      <td>Apr 13, 2015</td>\n",
       "      <td>Modern, Action Adventure, Open-World</td>\n",
       "      <td>96.0</td>\n",
       "      <td>7.8</td>\n",
       "      <td>Rockstar Games</td>\n",
       "      <td>Rockstar North</td>\n",
       "      <td>57</td>\n",
       "      <td>8117</td>\n",
       "    </tr>\n",
       "    <tr>\n",
       "      <th>34</th>\n",
       "      <td>Grand Theft Auto V</td>\n",
       "      <td>1.0</td>\n",
       "      <td>1.0</td>\n",
       "      <td>1.0</td>\n",
       "      <td>PC</td>\n",
       "      <td>2015.0</td>\n",
       "      <td>Action</td>\n",
       "      <td>Take-Two Interactive</td>\n",
       "      <td>0.36</td>\n",
       "      <td>0.64</td>\n",
       "      <td>...</td>\n",
       "      <td>Grand Theft Auto</td>\n",
       "      <td>PlayStation 3</td>\n",
       "      <td>Sep 17, 2013</td>\n",
       "      <td>Modern, Action Adventure, Modern, Open-World</td>\n",
       "      <td>97.0</td>\n",
       "      <td>8.3</td>\n",
       "      <td>Rockstar Games</td>\n",
       "      <td>Rockstar North</td>\n",
       "      <td>50</td>\n",
       "      <td>4829</td>\n",
       "    </tr>\n",
       "    <tr>\n",
       "      <th>35</th>\n",
       "      <td>Grand Theft Auto V</td>\n",
       "      <td>1.0</td>\n",
       "      <td>1.0</td>\n",
       "      <td>1.0</td>\n",
       "      <td>PC</td>\n",
       "      <td>2015.0</td>\n",
       "      <td>Action</td>\n",
       "      <td>Take-Two Interactive</td>\n",
       "      <td>0.36</td>\n",
       "      <td>0.64</td>\n",
       "      <td>...</td>\n",
       "      <td>Grand Theft Auto</td>\n",
       "      <td>Xbox 360</td>\n",
       "      <td>Sep 17, 2013</td>\n",
       "      <td>Modern, Action Adventure, Modern, Open-World</td>\n",
       "      <td>97.0</td>\n",
       "      <td>8.3</td>\n",
       "      <td>Rockstar Games</td>\n",
       "      <td>Rockstar North</td>\n",
       "      <td>58</td>\n",
       "      <td>4048</td>\n",
       "    </tr>\n",
       "    <tr>\n",
       "      <th>36</th>\n",
       "      <td>Grand Theft Auto V</td>\n",
       "      <td>1.0</td>\n",
       "      <td>1.0</td>\n",
       "      <td>1.0</td>\n",
       "      <td>PC</td>\n",
       "      <td>2015.0</td>\n",
       "      <td>Action</td>\n",
       "      <td>Take-Two Interactive</td>\n",
       "      <td>0.36</td>\n",
       "      <td>0.64</td>\n",
       "      <td>...</td>\n",
       "      <td>Grand Theft Auto</td>\n",
       "      <td>Xbox One</td>\n",
       "      <td>Nov 18, 2014</td>\n",
       "      <td>Action Adventure, Modern, Open-World</td>\n",
       "      <td>97.0</td>\n",
       "      <td>7.9</td>\n",
       "      <td>Rockstar Games</td>\n",
       "      <td>Rockstar North</td>\n",
       "      <td>14</td>\n",
       "      <td>1596</td>\n",
       "    </tr>\n",
       "    <tr>\n",
       "      <th>37</th>\n",
       "      <td>Grand Theft Auto V</td>\n",
       "      <td>1.0</td>\n",
       "      <td>1.0</td>\n",
       "      <td>1.0</td>\n",
       "      <td>PC</td>\n",
       "      <td>2015.0</td>\n",
       "      <td>Action</td>\n",
       "      <td>Take-Two Interactive</td>\n",
       "      <td>0.36</td>\n",
       "      <td>0.64</td>\n",
       "      <td>...</td>\n",
       "      <td>Grand Theft Auto</td>\n",
       "      <td>PlayStation 4</td>\n",
       "      <td>Nov 18, 2014</td>\n",
       "      <td>Action Adventure, Modern, Open-World</td>\n",
       "      <td>97.0</td>\n",
       "      <td>8.4</td>\n",
       "      <td>Rockstar Games</td>\n",
       "      <td>Rockstar North</td>\n",
       "      <td>66</td>\n",
       "      <td>7079</td>\n",
       "    </tr>\n",
       "    <tr>\n",
       "      <th>38</th>\n",
       "      <td>Grand Theft Auto V</td>\n",
       "      <td>1.0</td>\n",
       "      <td>1.0</td>\n",
       "      <td>1.0</td>\n",
       "      <td>PC</td>\n",
       "      <td>2015.0</td>\n",
       "      <td>Action</td>\n",
       "      <td>Take-Two Interactive</td>\n",
       "      <td>0.36</td>\n",
       "      <td>0.64</td>\n",
       "      <td>...</td>\n",
       "      <td>Grand Theft Auto</td>\n",
       "      <td>PC</td>\n",
       "      <td>Apr 13, 2015</td>\n",
       "      <td>Modern, Action Adventure, Open-World</td>\n",
       "      <td>96.0</td>\n",
       "      <td>7.8</td>\n",
       "      <td>Rockstar Games</td>\n",
       "      <td>Rockstar North</td>\n",
       "      <td>57</td>\n",
       "      <td>8117</td>\n",
       "    </tr>\n",
       "  </tbody>\n",
       "</table>\n",
       "<p>25 rows × 23 columns</p>\n",
       "</div>"
      ],
      "text/plain": [
       "                  Name  multiplayer  singleplayer  awarded Platform_x    Year  \\\n",
       "14  Grand Theft Auto V          1.0           1.0      1.0        PS3  2013.0   \n",
       "15  Grand Theft Auto V          1.0           1.0      1.0        PS3  2013.0   \n",
       "16  Grand Theft Auto V          1.0           1.0      1.0        PS3  2013.0   \n",
       "17  Grand Theft Auto V          1.0           1.0      1.0        PS3  2013.0   \n",
       "18  Grand Theft Auto V          1.0           1.0      1.0        PS3  2013.0   \n",
       "19  Grand Theft Auto V          1.0           1.0      1.0       X360  2013.0   \n",
       "20  Grand Theft Auto V          1.0           1.0      1.0       X360  2013.0   \n",
       "21  Grand Theft Auto V          1.0           1.0      1.0       X360  2013.0   \n",
       "22  Grand Theft Auto V          1.0           1.0      1.0       X360  2013.0   \n",
       "23  Grand Theft Auto V          1.0           1.0      1.0       X360  2013.0   \n",
       "24  Grand Theft Auto V          1.0           1.0      1.0        PS4  2014.0   \n",
       "25  Grand Theft Auto V          1.0           1.0      1.0        PS4  2014.0   \n",
       "26  Grand Theft Auto V          1.0           1.0      1.0        PS4  2014.0   \n",
       "27  Grand Theft Auto V          1.0           1.0      1.0        PS4  2014.0   \n",
       "28  Grand Theft Auto V          1.0           1.0      1.0        PS4  2014.0   \n",
       "29  Grand Theft Auto V          1.0           1.0      1.0       XOne  2014.0   \n",
       "30  Grand Theft Auto V          1.0           1.0      1.0       XOne  2014.0   \n",
       "31  Grand Theft Auto V          1.0           1.0      1.0       XOne  2014.0   \n",
       "32  Grand Theft Auto V          1.0           1.0      1.0       XOne  2014.0   \n",
       "33  Grand Theft Auto V          1.0           1.0      1.0       XOne  2014.0   \n",
       "34  Grand Theft Auto V          1.0           1.0      1.0         PC  2015.0   \n",
       "35  Grand Theft Auto V          1.0           1.0      1.0         PC  2015.0   \n",
       "36  Grand Theft Auto V          1.0           1.0      1.0         PC  2015.0   \n",
       "37  Grand Theft Auto V          1.0           1.0      1.0         PC  2015.0   \n",
       "38  Grand Theft Auto V          1.0           1.0      1.0         PC  2015.0   \n",
       "\n",
       "   Genre_x           Publisher_x  NA_Sales  EU_Sales  ...            series  \\\n",
       "14  Action  Take-Two Interactive      7.01      9.27  ...  Grand Theft Auto   \n",
       "15  Action  Take-Two Interactive      7.01      9.27  ...  Grand Theft Auto   \n",
       "16  Action  Take-Two Interactive      7.01      9.27  ...  Grand Theft Auto   \n",
       "17  Action  Take-Two Interactive      7.01      9.27  ...  Grand Theft Auto   \n",
       "18  Action  Take-Two Interactive      7.01      9.27  ...  Grand Theft Auto   \n",
       "19  Action  Take-Two Interactive      9.63      5.31  ...  Grand Theft Auto   \n",
       "20  Action  Take-Two Interactive      9.63      5.31  ...  Grand Theft Auto   \n",
       "21  Action  Take-Two Interactive      9.63      5.31  ...  Grand Theft Auto   \n",
       "22  Action  Take-Two Interactive      9.63      5.31  ...  Grand Theft Auto   \n",
       "23  Action  Take-Two Interactive      9.63      5.31  ...  Grand Theft Auto   \n",
       "24  Action  Take-Two Interactive      3.80      5.81  ...  Grand Theft Auto   \n",
       "25  Action  Take-Two Interactive      3.80      5.81  ...  Grand Theft Auto   \n",
       "26  Action  Take-Two Interactive      3.80      5.81  ...  Grand Theft Auto   \n",
       "27  Action  Take-Two Interactive      3.80      5.81  ...  Grand Theft Auto   \n",
       "28  Action  Take-Two Interactive      3.80      5.81  ...  Grand Theft Auto   \n",
       "29  Action  Take-Two Interactive      2.66      2.01  ...  Grand Theft Auto   \n",
       "30  Action  Take-Two Interactive      2.66      2.01  ...  Grand Theft Auto   \n",
       "31  Action  Take-Two Interactive      2.66      2.01  ...  Grand Theft Auto   \n",
       "32  Action  Take-Two Interactive      2.66      2.01  ...  Grand Theft Auto   \n",
       "33  Action  Take-Two Interactive      2.66      2.01  ...  Grand Theft Auto   \n",
       "34  Action  Take-Two Interactive      0.36      0.64  ...  Grand Theft Auto   \n",
       "35  Action  Take-Two Interactive      0.36      0.64  ...  Grand Theft Auto   \n",
       "36  Action  Take-Two Interactive      0.36      0.64  ...  Grand Theft Auto   \n",
       "37  Action  Take-Two Interactive      0.36      0.64  ...  Grand Theft Auto   \n",
       "38  Action  Take-Two Interactive      0.36      0.64  ...  Grand Theft Auto   \n",
       "\n",
       "       Platform_y  Release_date                                       Genre_y  \\\n",
       "14  PlayStation 3  Sep 17, 2013  Modern, Action Adventure, Modern, Open-World   \n",
       "15       Xbox 360  Sep 17, 2013  Modern, Action Adventure, Modern, Open-World   \n",
       "16       Xbox One  Nov 18, 2014          Action Adventure, Modern, Open-World   \n",
       "17  PlayStation 4  Nov 18, 2014          Action Adventure, Modern, Open-World   \n",
       "18             PC  Apr 13, 2015          Modern, Action Adventure, Open-World   \n",
       "19  PlayStation 3  Sep 17, 2013  Modern, Action Adventure, Modern, Open-World   \n",
       "20       Xbox 360  Sep 17, 2013  Modern, Action Adventure, Modern, Open-World   \n",
       "21       Xbox One  Nov 18, 2014          Action Adventure, Modern, Open-World   \n",
       "22  PlayStation 4  Nov 18, 2014          Action Adventure, Modern, Open-World   \n",
       "23             PC  Apr 13, 2015          Modern, Action Adventure, Open-World   \n",
       "24  PlayStation 3  Sep 17, 2013  Modern, Action Adventure, Modern, Open-World   \n",
       "25       Xbox 360  Sep 17, 2013  Modern, Action Adventure, Modern, Open-World   \n",
       "26       Xbox One  Nov 18, 2014          Action Adventure, Modern, Open-World   \n",
       "27  PlayStation 4  Nov 18, 2014          Action Adventure, Modern, Open-World   \n",
       "28             PC  Apr 13, 2015          Modern, Action Adventure, Open-World   \n",
       "29  PlayStation 3  Sep 17, 2013  Modern, Action Adventure, Modern, Open-World   \n",
       "30       Xbox 360  Sep 17, 2013  Modern, Action Adventure, Modern, Open-World   \n",
       "31       Xbox One  Nov 18, 2014          Action Adventure, Modern, Open-World   \n",
       "32  PlayStation 4  Nov 18, 2014          Action Adventure, Modern, Open-World   \n",
       "33             PC  Apr 13, 2015          Modern, Action Adventure, Open-World   \n",
       "34  PlayStation 3  Sep 17, 2013  Modern, Action Adventure, Modern, Open-World   \n",
       "35       Xbox 360  Sep 17, 2013  Modern, Action Adventure, Modern, Open-World   \n",
       "36       Xbox One  Nov 18, 2014          Action Adventure, Modern, Open-World   \n",
       "37  PlayStation 4  Nov 18, 2014          Action Adventure, Modern, Open-World   \n",
       "38             PC  Apr 13, 2015          Modern, Action Adventure, Open-World   \n",
       "\n",
       "   Meta_Critic_Score Meta_User_Score     Publisher_y       Developer  \\\n",
       "14              97.0             8.3  Rockstar Games  Rockstar North   \n",
       "15              97.0             8.3  Rockstar Games  Rockstar North   \n",
       "16              97.0             7.9  Rockstar Games  Rockstar North   \n",
       "17              97.0             8.4  Rockstar Games  Rockstar North   \n",
       "18              96.0             7.8  Rockstar Games  Rockstar North   \n",
       "19              97.0             8.3  Rockstar Games  Rockstar North   \n",
       "20              97.0             8.3  Rockstar Games  Rockstar North   \n",
       "21              97.0             7.9  Rockstar Games  Rockstar North   \n",
       "22              97.0             8.4  Rockstar Games  Rockstar North   \n",
       "23              96.0             7.8  Rockstar Games  Rockstar North   \n",
       "24              97.0             8.3  Rockstar Games  Rockstar North   \n",
       "25              97.0             8.3  Rockstar Games  Rockstar North   \n",
       "26              97.0             7.9  Rockstar Games  Rockstar North   \n",
       "27              97.0             8.4  Rockstar Games  Rockstar North   \n",
       "28              96.0             7.8  Rockstar Games  Rockstar North   \n",
       "29              97.0             8.3  Rockstar Games  Rockstar North   \n",
       "30              97.0             8.3  Rockstar Games  Rockstar North   \n",
       "31              97.0             7.9  Rockstar Games  Rockstar North   \n",
       "32              97.0             8.4  Rockstar Games  Rockstar North   \n",
       "33              96.0             7.8  Rockstar Games  Rockstar North   \n",
       "34              97.0             8.3  Rockstar Games  Rockstar North   \n",
       "35              97.0             8.3  Rockstar Games  Rockstar North   \n",
       "36              97.0             7.9  Rockstar Games  Rockstar North   \n",
       "37              97.0             8.4  Rockstar Games  Rockstar North   \n",
       "38              96.0             7.8  Rockstar Games  Rockstar North   \n",
       "\n",
       "    N_Critic_Reviews N_User_Reviews  \n",
       "14                50           4829  \n",
       "15                58           4048  \n",
       "16                14           1596  \n",
       "17                66           7079  \n",
       "18                57           8117  \n",
       "19                50           4829  \n",
       "20                58           4048  \n",
       "21                14           1596  \n",
       "22                66           7079  \n",
       "23                57           8117  \n",
       "24                50           4829  \n",
       "25                58           4048  \n",
       "26                14           1596  \n",
       "27                66           7079  \n",
       "28                57           8117  \n",
       "29                50           4829  \n",
       "30                58           4048  \n",
       "31                14           1596  \n",
       "32                66           7079  \n",
       "33                57           8117  \n",
       "34                50           4829  \n",
       "35                58           4048  \n",
       "36                14           1596  \n",
       "37                66           7079  \n",
       "38                57           8117  \n",
       "\n",
       "[25 rows x 23 columns]"
      ]
     },
     "execution_count": 170,
     "metadata": {},
     "output_type": "execute_result"
    }
   ],
   "source": [
    "meta_merge.loc[meta_merge['Name'] == 'Grand Theft Auto V']"
   ]
  },
  {
   "cell_type": "code",
   "execution_count": 171,
   "id": "0dd991aa",
   "metadata": {},
   "outputs": [
    {
     "data": {
      "text/plain": [
       "Index(['Name', 'multiplayer', 'singleplayer', 'awarded', 'Platform_x', 'Year',\n",
       "       'Genre_x', 'Publisher_x', 'NA_Sales', 'EU_Sales', 'JP_Sales',\n",
       "       'Other_Sales', 'Global_Sales', 'series', 'Platform_y', 'Release_date',\n",
       "       'Genre_y', 'Meta_Critic_Score', 'Meta_User_Score', 'Publisher_y',\n",
       "       'Developer', 'N_Critic_Reviews', 'N_User_Reviews'],\n",
       "      dtype='object')"
      ]
     },
     "execution_count": 171,
     "metadata": {},
     "output_type": "execute_result"
    }
   ],
   "source": [
    "meta_merge.columns"
   ]
  },
  {
   "cell_type": "code",
   "execution_count": 172,
   "id": "d28fe52f",
   "metadata": {},
   "outputs": [],
   "source": [
    "meta_merge = meta_merge.drop(['Platform_x','Year','Genre_x','Publisher_x','Platform_y', 'Release_date',\n",
    "       'Genre_y','Publisher_y','Developer'],axis = 1)"
   ]
  },
  {
   "cell_type": "code",
   "execution_count": 219,
   "id": "264fb671",
   "metadata": {},
   "outputs": [],
   "source": [
    "functions = {\n",
    " 'Meta_Critic_Score':np.mean,\n",
    "'Meta_User_Score':np.mean,\n",
    "  'N_Critic_Reviews' : np.mean,\n",
    "   'N_User_Reviews' : np.mean ,\n",
    "    'Global_Sales' : np.sum\n",
    "    \n",
    "}\n",
    "df8 = meta_merge.groupby(['Name','multiplayer', 'singleplayer', 'awarded', 'series']).agg(functions).reset_index()"
   ]
  },
  {
   "cell_type": "code",
   "execution_count": 220,
   "id": "eb387801",
   "metadata": {},
   "outputs": [],
   "source": [
    "df8 = df8.dropna()"
   ]
  },
  {
   "cell_type": "code",
   "execution_count": 221,
   "id": "d875f29e",
   "metadata": {},
   "outputs": [
    {
     "data": {
      "text/html": [
       "<div>\n",
       "<style scoped>\n",
       "    .dataframe tbody tr th:only-of-type {\n",
       "        vertical-align: middle;\n",
       "    }\n",
       "\n",
       "    .dataframe tbody tr th {\n",
       "        vertical-align: top;\n",
       "    }\n",
       "\n",
       "    .dataframe thead th {\n",
       "        text-align: right;\n",
       "    }\n",
       "</style>\n",
       "<table border=\"1\" class=\"dataframe\">\n",
       "  <thead>\n",
       "    <tr style=\"text-align: right;\">\n",
       "      <th></th>\n",
       "      <th>Name</th>\n",
       "      <th>multiplayer</th>\n",
       "      <th>singleplayer</th>\n",
       "      <th>awarded</th>\n",
       "      <th>series</th>\n",
       "      <th>Meta_Critic_Score</th>\n",
       "      <th>Meta_User_Score</th>\n",
       "      <th>N_Critic_Reviews</th>\n",
       "      <th>N_User_Reviews</th>\n",
       "      <th>Global_Sales</th>\n",
       "    </tr>\n",
       "  </thead>\n",
       "  <tbody>\n",
       "    <tr>\n",
       "      <th>1139</th>\n",
       "      <td>Grand Theft Auto V</td>\n",
       "      <td>1.0</td>\n",
       "      <td>1.0</td>\n",
       "      <td>1.0</td>\n",
       "      <td>Grand Theft Auto</td>\n",
       "      <td>96.8</td>\n",
       "      <td>8.14</td>\n",
       "      <td>49.0</td>\n",
       "      <td>5133.8</td>\n",
       "      <td>279.6</td>\n",
       "    </tr>\n",
       "  </tbody>\n",
       "</table>\n",
       "</div>"
      ],
      "text/plain": [
       "                    Name  multiplayer  singleplayer  awarded  \\\n",
       "1139  Grand Theft Auto V          1.0           1.0      1.0   \n",
       "\n",
       "                series  Meta_Critic_Score  Meta_User_Score  N_Critic_Reviews  \\\n",
       "1139  Grand Theft Auto               96.8             8.14              49.0   \n",
       "\n",
       "      N_User_Reviews  Global_Sales  \n",
       "1139          5133.8         279.6  "
      ]
     },
     "execution_count": 221,
     "metadata": {},
     "output_type": "execute_result"
    }
   ],
   "source": [
    "df8.loc[df8['Name'] == 'Grand Theft Auto V']"
   ]
  },
  {
   "cell_type": "code",
   "execution_count": 222,
   "id": "4fae73c8",
   "metadata": {},
   "outputs": [
    {
     "data": {
      "image/png": "[encoded data removed]",
      "text/plain": [
       "<Figure size 864x864 with 2 Axes>"
      ]
     },
     "metadata": {
      "needs_background": "light"
     },
     "output_type": "display_data"
    }
   ],
   "source": [
    "cor = df8.corr()\n",
    "\n",
    "fig, ax = plt.subplots(figsize=(12,12))\n",
    "sns.heatmap(cor, annot=True, ax=ax, cmap='coolwarm');\n"
   ]
  },
  {
   "cell_type": "code",
   "execution_count": 192,
   "id": "7a132ed1",
   "metadata": {},
   "outputs": [
    {
     "data": {
      "text/plain": [
       "<seaborn.axisgrid.PairGrid at 0x7feac0818790>"
      ]
     },
     "execution_count": 192,
     "metadata": {},
     "output_type": "execute_result"
    },
    {
     "data": {
      "image/png": "[encoded data removed]",
      "text/plain": [
       "<Figure size 1440x1440 with 72 Axes>"
      ]
     },
     "metadata": {
      "needs_background": "light"
     },
     "output_type": "display_data"
    }
   ],
   "source": [
    "sns.pairplot(df8)"
   ]
  },
  {
   "cell_type": "code",
   "execution_count": 223,
   "id": "abc3bdcc",
   "metadata": {},
   "outputs": [
    {
     "name": "stderr",
     "output_type": "stream",
     "text": [
      "/Users/macbook/opt/anaconda3/lib/python3.7/site-packages/seaborn/_decorators.py:43: FutureWarning:\n",
      "\n",
      "Pass the following variables as keyword args: x, y. From version 0.12, the only valid positional argument will be `data`, and passing other arguments without an explicit keyword will result in an error or misinterpretation.\n",
      "\n"
     ]
    },
    {
     "data": {
      "text/plain": [
       "<matplotlib.axes._subplots.AxesSubplot at 0x7feac5df07d0>"
      ]
     },
     "execution_count": 223,
     "metadata": {},
     "output_type": "execute_result"
    },
    {
     "data": {
      "image/png": "[encoded data removed]",
      "text/plain": [
       "<Figure size 432x288 with 1 Axes>"
      ]
     },
     "metadata": {
      "needs_background": "light"
     },
     "output_type": "display_data"
    }
   ],
   "source": [
    "sns.lineplot(df8.Meta_User_Score,df8.Global_Sales)"
   ]
  },
  {
   "cell_type": "code",
   "execution_count": 218,
   "id": "1b33035e",
   "metadata": {},
   "outputs": [
    {
     "data": {
      "text/html": [
       "<div>\n",
       "<style scoped>\n",
       "    .dataframe tbody tr th:only-of-type {\n",
       "        vertical-align: middle;\n",
       "    }\n",
       "\n",
       "    .dataframe tbody tr th {\n",
       "        vertical-align: top;\n",
       "    }\n",
       "\n",
       "    .dataframe thead th {\n",
       "        text-align: right;\n",
       "    }\n",
       "</style>\n",
       "<table border=\"1\" class=\"dataframe\">\n",
       "  <thead>\n",
       "    <tr style=\"text-align: right;\">\n",
       "      <th></th>\n",
       "      <th>series</th>\n",
       "      <th>awarded</th>\n",
       "    </tr>\n",
       "  </thead>\n",
       "  <tbody>\n",
       "    <tr>\n",
       "      <th>387</th>\n",
       "      <td>NO FRANCHISE</td>\n",
       "      <td>89.0</td>\n",
       "    </tr>\n",
       "    <tr>\n",
       "      <th>191</th>\n",
       "      <td>Final Fantasy</td>\n",
       "      <td>10.0</td>\n",
       "    </tr>\n",
       "    <tr>\n",
       "      <th>343</th>\n",
       "      <td>Metal Gear</td>\n",
       "      <td>8.0</td>\n",
       "    </tr>\n",
       "    <tr>\n",
       "      <th>579</th>\n",
       "      <td>The Legend of Zelda</td>\n",
       "      <td>8.0</td>\n",
       "    </tr>\n",
       "    <tr>\n",
       "      <th>547</th>\n",
       "      <td>Super Mario</td>\n",
       "      <td>8.0</td>\n",
       "    </tr>\n",
       "    <tr>\n",
       "      <th>...</th>\n",
       "      <td>...</td>\n",
       "      <td>...</td>\n",
       "    </tr>\n",
       "    <tr>\n",
       "      <th>248</th>\n",
       "      <td>High Heat Major League Baseball</td>\n",
       "      <td>0.0</td>\n",
       "    </tr>\n",
       "    <tr>\n",
       "      <th>250</th>\n",
       "      <td>Hot Wheels</td>\n",
       "      <td>0.0</td>\n",
       "    </tr>\n",
       "    <tr>\n",
       "      <th>251</th>\n",
       "      <td>Hyperdimension Neptunia</td>\n",
       "      <td>0.0</td>\n",
       "    </tr>\n",
       "    <tr>\n",
       "      <th>252</th>\n",
       "      <td>Icewind Dale</td>\n",
       "      <td>0.0</td>\n",
       "    </tr>\n",
       "    <tr>\n",
       "      <th>675</th>\n",
       "      <td>citation needed</td>\n",
       "      <td>0.0</td>\n",
       "    </tr>\n",
       "  </tbody>\n",
       "</table>\n",
       "<p>676 rows × 2 columns</p>\n",
       "</div>"
      ],
      "text/plain": [
       "                              series  awarded\n",
       "387                     NO FRANCHISE     89.0\n",
       "191                    Final Fantasy     10.0\n",
       "343                       Metal Gear      8.0\n",
       "579              The Legend of Zelda      8.0\n",
       "547                      Super Mario      8.0\n",
       "..                               ...      ...\n",
       "248  High Heat Major League Baseball      0.0\n",
       "250                       Hot Wheels      0.0\n",
       "251          Hyperdimension Neptunia      0.0\n",
       "252                     Icewind Dale      0.0\n",
       "675                  citation needed      0.0\n",
       "\n",
       "[676 rows x 2 columns]"
      ]
     },
     "execution_count": 218,
     "metadata": {},
     "output_type": "execute_result"
    }
   ],
   "source": [
    "df8"
   ]
  }
 ],
 "metadata": {
  "kernelspec": {
   "display_name": "Python 3 (ipykernel)",
   "language": "python",
   "name": "python3"
  },
  "language_info": {
   "codemirror_mode": {
    "name": "ipython",
    "version": 3
   },
   "file_extension": ".py",
   "mimetype": "text/x-python",
   "name": "python",
   "nbconvert_exporter": "python",
   "pygments_lexer": "ipython3",
   "version": "3.7.7"
  }
 },
 "nbformat": 4,
 "nbformat_minor": 5
}
