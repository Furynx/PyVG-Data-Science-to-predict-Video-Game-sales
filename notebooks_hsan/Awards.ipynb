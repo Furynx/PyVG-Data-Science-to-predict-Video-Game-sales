{
 "cells": [
  {
   "cell_type": "code",
   "execution_count": 1,
   "id": "aa1f37fa",
   "metadata": {},
   "outputs": [],
   "source": [
    "#import de wikipedia api et des librairies nécessaires pour le scarpping\n",
    "import wikipediaapi\n",
    "import pandas as pd\n",
    "import sys,io\n",
    "import numpy as np"
   ]
  },
  {
   "cell_type": "code",
   "execution_count": 2,
   "id": "4f940fc0",
   "metadata": {},
   "outputs": [],
   "source": [
    "#définiton de la fonction qui va parcourir les différentes sections d'un article Wikipedia\n",
    "def print_sections(sections, level=0):\n",
    "        for s in sections:\n",
    "                print(s.title)\n",
    "                print_sections(s.sections, level + 1)\n",
    "\n",
    "\n"
   ]
  },
  {
   "cell_type": "code",
   "execution_count": null,
   "id": "063e006b",
   "metadata": {},
   "outputs": [],
   "source": [
    "#parcours de vgsales et récupération du nom des jeux \n",
    "\n",
    "df = pd.read_csv('vgnew9.csv',sep = ',')\n",
    "\n",
    "#remplacement des espaces par un '_' pour concatener pouvoir chercher le nom de l'article \n",
    "names = df['Name'].apply(lambda x : x.replace(' ','_'))\n",
    "#remplacement des 'é' par des 'e' car les nom d'articles de contiennent pas les 'é'\n",
    "names = names.apply(lambda x : x.replace('é','e'))\n",
    "\n",
    "awarded = []\n",
    "wiki_wiki = wikipediaapi.Wikipedia('en')\n",
    "\n",
    "\n",
    "#les articles des jeux contiennent une rubrique Awards ou Accolades quand elles ont reçu au moins un prix\n",
    "#nous allons donc parcourir notre dataset , et si l'article Wikipedia du jeux a l'une de ces rubriques \n",
    "#nous allons considéré que le jeux a été récompensé par un prix\n",
    "\n",
    "for i in names:\n",
    "    try :\n",
    "        page = wiki_wiki.page(i)\n",
    "        if page.exists():\n",
    "            old_stdout = sys.stdout\n",
    "            new_stdout = io.StringIO()\n",
    "            sys.stdout = new_stdout\n",
    "\n",
    "            print_sections(page.sections)\n",
    "\n",
    "            output = new_stdout.getvalue()\n",
    "\n",
    "            sys.stdout = old_stdout\n",
    "            #print('+++++',i,'+++++')\n",
    "            #print(output)\n",
    "            #print('--------')\n",
    "        \n",
    "            if ('Accolades' in output) or ('Awards' in output) :\n",
    "                awarded.append(1)\n",
    "            else:\n",
    "                awarded.append(0)\n",
    "        \n",
    "    \n",
    "    \n",
    "        else :\n",
    "            awarded.append(np.nan)\n",
    "    except KeyError:\n",
    "        awarded.append(np.nan)\n",
    "    \n",
    "\n",
    "df['awarded'] = awarded\n",
    "\n",
    "df.to_csv('vgnew_awarded1.csv')"
   ]
  }
 ],
 "metadata": {
  "kernelspec": {
   "display_name": "Python 3 (ipykernel)",
   "language": "python",
   "name": "python3"
  },
  "language_info": {
   "codemirror_mode": {
    "name": "ipython",
    "version": 3
   },
   "file_extension": ".py",
   "mimetype": "text/x-python",
   "name": "python",
   "nbconvert_exporter": "python",
   "pygments_lexer": "ipython3",
   "version": "3.7.7"
  }
 },
 "nbformat": 4,
 "nbformat_minor": 5
}
