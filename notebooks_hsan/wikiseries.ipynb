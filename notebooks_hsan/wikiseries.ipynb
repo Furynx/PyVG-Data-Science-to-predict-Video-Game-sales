{
 "cells": [
  {
   "cell_type": "code",
   "execution_count": 1,
   "id": "f5320334",
   "metadata": {},
   "outputs": [
    {
     "name": "stdout",
     "output_type": "stream",
     "text": [
      "https://en.wikipedia.org/wiki/1080°:_TenEighty_Snowboarding\n",
      "https://en.wikipedia.org/wiki/Super_Robot_Taisen_α\n",
      "https://en.wikipedia.org/wiki/Super_Robot_Taisen_α_Gaiden\n",
      "https://en.wikipedia.org/wiki/Dai-2-Ji_Super_Robot_Taisen_α\n",
      "https://en.wikipedia.org/wiki/Dai-3-Ji_Super_Robot_Taisen_α:_Shuuen_no_Ginga_e\n",
      "https://en.wikipedia.org/wiki/Xenosaga_Episode_II:_Jenseits_von_Gut_und_Böse\n",
      "https://en.wikipedia.org/wiki/Phantasy_Star_Ø\n",
      "https://en.wikipedia.org/wiki/Lilo_&_Stitch_2:_Hämsterviel_Havoc\n",
      "https://en.wikipedia.org/wiki/Dragon_Quest_Monsters_1·2\n",
      "https://en.wikipedia.org/wiki/Einhänder\n",
      "https://en.wikipedia.org/wiki/NOëL:_NOT_DiGITAL\n",
      "https://en.wikipedia.org/wiki/Kamaitachi_no_Yoru_×_3\n",
      "https://en.wikipedia.org/wiki/StarBlade_α\n",
      "https://en.wikipedia.org/wiki/Shin_Chan:_¡Aventuras_de_Cine!\n",
      "https://en.wikipedia.org/wiki/¡Shin_Chan_Flipa_en_colores!\n",
      "https://en.wikipedia.org/wiki/E·O·E:_Eve_of_Extinction\n",
      "https://en.wikipedia.org/wiki/Boku_no_Natsuyasumi_3:_Hokkoku_Hen:_Chiisana_Boku_no_Dai_Sougen​\n",
      "https://en.wikipedia.org/wiki/NOëL:_La_Neige\n",
      "https://en.wikipedia.org/wiki/Shin_Chan_Contra_¡Los_Plastas!\n",
      "https://en.wikipedia.org/wiki/B's-LOG_Party♪\n",
      "https://en.wikipedia.org/wiki/1000_Cooking_Recipes_from_ELLE_à_table\n",
      "https://en.wikipedia.org/wiki/Xenosaga_I·II\n"
     ]
    }
   ],
   "source": [
    "#dans l'infobox wikipedia, en utlisant l'extension google chrome Selector Gadget, l'information sur le nom \n",
    "#du développeur est contenue dans le chemin css \".infobox-data i a\"\n",
    "#nous allons récupérer cette information avec le code suivant\n",
    "from urllib.request import urlopen\n",
    "from bs4 import BeautifulSoup\n",
    "import pandas as pd\n",
    "import numpy as np\n",
    "from urllib.error import HTTPError\n",
    "#r1 = re.compile(r\">(.*?)<\")\n",
    "df = pd.read_csv('vgsales.csv',sep = ',')\n",
    "\n",
    "names = df['Name'].apply(lambda x : x.replace(' ','_'))\n",
    "names = names.apply(lambda x : x.replace('é','e'))\n",
    "series = []\n",
    "n = []\n",
    "nf = 'NO FRANCHISE'\n",
    "for i in names:\n",
    "    try:\n",
    "        \n",
    "        page = \"https://en.wikipedia.org/wiki/\"+i\n",
    "        \n",
    "        a = urlopen(page)\n",
    "        soup = BeautifulSoup(a, 'html.parser')\n",
    "        n.append(i)\n",
    "        \n",
    "        s = soup.select(\".infobox-data i a\")\n",
    "        franchise = s[0].text\n",
    "        series.append(franchise)\n",
    "    \n",
    "    except HTTPError:\n",
    "        series.append(np.nan)\n",
    "    except UnicodeEncodeError:\n",
    "        print(page)\n",
    "        series.append(np.nan)\n",
    "#si le chemin css est absent dans l'article , nous allons mettre 'NO DATA'      \n",
    "\n",
    "\n",
    "    except IndexError:\n",
    "        series.append(nf)\n",
    "\n",
    "df['series'] = series\n",
    "\n",
    "df.to_csv('vgnew_series.csv')"
   ]
  },
  {
   "cell_type": "code",
   "execution_count": 44,
   "id": "cf26412a",
   "metadata": {},
   "outputs": [
    {
     "ename": "IndexError",
     "evalue": "list index out of range",
     "output_type": "error",
     "traceback": [
      "\u001b[0;31m---------------------------------------------------------------------------\u001b[0m",
      "\u001b[0;31mIndexError\u001b[0m                                Traceback (most recent call last)",
      "\u001b[0;32m/var/folders/yj/cg_pry110q54bhv3x3b1y2cw0000gn/T/ipykernel_6073/1105947680.py\u001b[0m in \u001b[0;36m<module>\u001b[0;34m\u001b[0m\n\u001b[1;32m     17\u001b[0m \u001b[0;34m\u001b[0m\u001b[0m\n\u001b[1;32m     18\u001b[0m \u001b[0ms\u001b[0m \u001b[0;34m=\u001b[0m \u001b[0msoup\u001b[0m\u001b[0;34m.\u001b[0m\u001b[0mselect\u001b[0m\u001b[0;34m(\u001b[0m\u001b[0;34m\".infobox-data i a\"\u001b[0m\u001b[0;34m)\u001b[0m\u001b[0;34m\u001b[0m\u001b[0;34m\u001b[0m\u001b[0m\n\u001b[0;32m---> 19\u001b[0;31m \u001b[0mprint\u001b[0m\u001b[0;34m(\u001b[0m\u001b[0ms\u001b[0m\u001b[0;34m[\u001b[0m\u001b[0;36m0\u001b[0m\u001b[0;34m]\u001b[0m\u001b[0;34m.\u001b[0m\u001b[0mtext\u001b[0m\u001b[0;34m)\u001b[0m\u001b[0;34m\u001b[0m\u001b[0;34m\u001b[0m\u001b[0m\n\u001b[0m\u001b[1;32m     20\u001b[0m \u001b[0;31m#s[0].type()\u001b[0m\u001b[0;34m\u001b[0m\u001b[0;34m\u001b[0m\u001b[0;34m\u001b[0m\u001b[0m\n\u001b[1;32m     21\u001b[0m \u001b[0;34m\u001b[0m\u001b[0m\n",
      "\u001b[0;31mIndexError\u001b[0m: list index out of range"
     ]
    }
   ],
   "source": [
    "from urllib.request import urlopen\n",
    "from bs4 import BeautifulSoup\n",
    "import pandas as pd\n",
    "import numpy as np\n",
    "from urllib.error import HTTPError\n",
    "import re\n",
    "\n",
    "r = re.compile(r\">([a-zA-Z0-9 .-_'\\(\\)]+)<\") \n",
    "\n",
    "r1 = re.compile(r\">(.*?)<\")\n",
    "\n",
    "page = \"https://en.wikipedia.org/wiki/Tetris\"\n",
    "        \n",
    "a = urlopen(page)\n",
    "soup = BeautifulSoup(a, 'html.parser')\n",
    "\n",
    "        \n",
    "s = soup.select(\".infobox-data i a\")\n",
    "print(s[0].text)\n",
    "#s[0].type()\n",
    "\n",
    "#a = \"<a href=\\\"/wiki/Assassin%27s_Creed\\\" title=\\\"Assassin's Creed\\\">Assassin's Creed</a>\"\n",
    "#print(r1.findall(s[0]))\n",
    "\n",
    "    \n",
    "   "
   ]
  },
  {
   "cell_type": "code",
   "execution_count": 45,
   "id": "ac9967b4",
   "metadata": {},
   "outputs": [
    {
     "name": "stdout",
     "output_type": "stream",
     "text": [
      "[]\n"
     ]
    }
   ],
   "source": [
    "print(s)"
   ]
  }
 ],
 "metadata": {
  "kernelspec": {
   "display_name": "Python 3 (ipykernel)",
   "language": "python",
   "name": "python3"
  },
  "language_info": {
   "codemirror_mode": {
    "name": "ipython",
    "version": 3
   },
   "file_extension": ".py",
   "mimetype": "text/x-python",
   "name": "python",
   "nbconvert_exporter": "python",
   "pygments_lexer": "ipython3",
   "version": "3.7.7"
  }
 },
 "nbformat": 4,
 "nbformat_minor": 5
}
