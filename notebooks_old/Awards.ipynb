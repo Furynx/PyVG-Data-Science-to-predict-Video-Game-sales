{
 "cells": [
  {
   "cell_type": "code",
   "execution_count": 1,
   "id": "aa1f37fa",
   "metadata": {},
   "outputs": [],
   "source": [
    "import wikipediaapi\n",
    "import pandas as pd\n",
    "import sys,io\n",
    "import numpy as np"
   ]
  },
  {
   "cell_type": "code",
   "execution_count": 2,
   "id": "4f940fc0",
   "metadata": {},
   "outputs": [],
   "source": [
    "def print_sections(sections, level=0):\n",
    "        for s in sections:\n",
    "                print(s.title)\n",
    "                print_sections(s.sections, level + 1)\n",
    "\n",
    "\n"
   ]
  },
  {
   "cell_type": "code",
   "execution_count": null,
   "id": "063e006b",
   "metadata": {},
   "outputs": [],
   "source": [
    "df = pd.read_csv('vgnew9.csv',sep = ',')\n",
    "names = df['Name'].apply(lambda x : x.replace(' ','_'))\n",
    "names = names.apply(lambda x : x.replace('é','e'))\n",
    "\n",
    "awarded = []\n",
    "wiki_wiki = wikipediaapi.Wikipedia('en')\n",
    "\n",
    "\n",
    "\n",
    "\n",
    "for i in names:\n",
    "    try :\n",
    "        page = wiki_wiki.page(i)\n",
    "        if page.exists():\n",
    "            old_stdout = sys.stdout\n",
    "            new_stdout = io.StringIO()\n",
    "            sys.stdout = new_stdout\n",
    "\n",
    "            print_sections(page.sections)\n",
    "\n",
    "            output = new_stdout.getvalue()\n",
    "\n",
    "            sys.stdout = old_stdout\n",
    "            #print('+++++',i,'+++++')\n",
    "            #print(output)\n",
    "            #print('--------')\n",
    "        \n",
    "            if ('Accolades' in output) or ('Awards' in output) :\n",
    "                awarded.append(1)\n",
    "            else:\n",
    "                awarded.append(0)\n",
    "        \n",
    "    \n",
    "    \n",
    "        else :\n",
    "            awarded.append(np.nan)\n",
    "    except KeyError:\n",
    "        awarded.append(np.nan)\n",
    "    \n",
    "\n",
    "df['awarded'] = awarded\n",
    "\n",
    "df.to_csv('vgnew_awarded1.csv')"
   ]
  },
  {
   "cell_type": "code",
   "execution_count": 7,
   "id": "bc247c4d",
   "metadata": {},
   "outputs": [],
   "source": [
    "page = wiki_wiki.page('grand_theft_auto_v')"
   ]
  },
  {
   "cell_type": "code",
   "execution_count": 8,
   "id": "2319ceb4",
   "metadata": {},
   "outputs": [
    {
     "name": "stdout",
     "output_type": "stream",
     "text": [
      "yes\n"
     ]
    }
   ],
   "source": [
    "if page.exists():\n",
    "    print('yes')"
   ]
  }
 ],
 "metadata": {
  "kernelspec": {
   "display_name": "Python 3 (ipykernel)",
   "language": "python",
   "name": "python3"
  },
  "language_info": {
   "codemirror_mode": {
    "name": "ipython",
    "version": 3
   },
   "file_extension": ".py",
   "mimetype": "text/x-python",
   "name": "python",
   "nbconvert_exporter": "python",
   "pygments_lexer": "ipython3",
   "version": "3.7.6"
  }
 },
 "nbformat": 4,
 "nbformat_minor": 5
}
